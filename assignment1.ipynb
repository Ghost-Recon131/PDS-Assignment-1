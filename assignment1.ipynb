{
 "cells": [
  {
   "cell_type": "markdown",
   "metadata": {
    "id": "u-EEv9utoT69"
   },
   "source": [
    "# Task 1: Data Preparation"
   ]
  },
  {
   "cell_type": "markdown",
   "metadata": {},
   "source": [
    "### Imports & format checks"
   ]
  },
  {
   "cell_type": "code",
   "execution_count": 1,
   "metadata": {
    "id": "Qykq4YuQtZUS"
   },
   "outputs": [],
   "source": [
    "import pandas as pd\r\n",
    "import numpy as np\r\n",
    "import matplotlib.pyplot as plt\r\n",
    "import seaborn as sns\r\n",
    "# Import nessasary libraries"
   ]
  },
  {
   "cell_type": "code",
   "execution_count": 2,
   "metadata": {
    "id": "RhLG8LgxsFd7"
   },
   "outputs": [],
   "source": [
    "# Load the data from the file NBA_players_stats.csv using pandas library.\r\n",
    "NBA = pd.read_csv('NBA_players_stats.csv', index_col=0) #prevent index number from affecting result"
   ]
  },
  {
   "cell_type": "code",
   "execution_count": 3,
   "metadata": {},
   "outputs": [
    {
     "data": {
      "text/plain": "Index(['Player', 'Pos', 'Age', 'Tm', 'G', 'GS', 'MP', 'FG', 'FGA', 'FG%', '3P',\n       '3PA', '3P%', '2P', '2PA', '2P%', 'FT', 'FTA', 'FT%', 'ORB', 'DRB',\n       'TRB', 'AST', 'STL', 'BLK', 'TOV', 'PF', 'PTS'],\n      dtype='object')"
     },
     "execution_count": 3,
     "metadata": {},
     "output_type": "execute_result"
    }
   ],
   "source": [
    "NBA.columns"
   ]
  },
  {
   "cell_type": "code",
   "execution_count": 4,
   "metadata": {},
   "outputs": [
    {
     "data": {
      "text/plain": "Player     object\nPos        object\nAge         int64\nTm         object\nG           int64\nGS          int64\nMP          int64\nFG          int64\nFGA         int64\nFG%       float64\n3P          int64\n3PA         int64\n3P%       float64\n2P          int64\n2PA         int64\n2P%       float64\nFT          int64\nFTA         int64\nFT%       float64\nORB         int64\nDRB         int64\nTRB         int64\nAST         int64\nSTL         int64\nBLK         int64\nTOV         int64\nPF          int64\nPTS         int64\ndtype: object"
     },
     "execution_count": 4,
     "metadata": {},
     "output_type": "execute_result"
    }
   ],
   "source": [
    "NBA.dtypes # Get data type for each column & verify they are correct"
   ]
  },
  {
   "cell_type": "code",
   "execution_count": 5,
   "metadata": {},
   "outputs": [
    {
     "name": "stdout",
     "output_type": "stream",
     "text": [
      "There are no missing values\n"
     ]
    }
   ],
   "source": [
    "missing = False \r\n",
    "for feature in NBA:\r\n",
    "    for observation in feature:\r\n",
    "        if observation is None or observation == '' or observation == np.NaN: # check for None types, empty strings, or the NumPy type NaN\r\n",
    "            missing = True\r\n",
    "if missing == True:\r\n",
    "    print(\"There are missing values\")\r\n",
    "else:\r\n",
    "    print(\"There are no missing values\")"
   ]
  },
  {
   "cell_type": "markdown",
   "metadata": {},
   "source": [
    "The code above checks for any missing values in the dataset, which can be done by inspection but it will take a while.\r\n",
    "As we see, there are no missing values. "
   ]
  },
  {
   "cell_type": "markdown",
   "metadata": {},
   "source": [
    "This code shows us players who appear more than once in the dataset, as well as the row the duplicate is located and deal with it when cleaning the data. "
   ]
  },
  {
   "cell_type": "code",
   "execution_count": 6,
   "metadata": {},
   "outputs": [
    {
     "data": {
      "text/html": "<div>\n<style scoped>\n    .dataframe tbody tr th:only-of-type {\n        vertical-align: middle;\n    }\n\n    .dataframe tbody tr th {\n        vertical-align: top;\n    }\n\n    .dataframe thead th {\n        text-align: right;\n    }\n</style>\n<table border=\"1\" class=\"dataframe\">\n  <thead>\n    <tr style=\"text-align: right;\">\n      <th></th>\n      <th>Player</th>\n    </tr>\n    <tr>\n      <th>Rk</th>\n      <th></th>\n    </tr>\n  </thead>\n  <tbody>\n    <tr>\n      <th>9</th>\n      <td>Jarrett Allen</td>\n    </tr>\n    <tr>\n      <th>9</th>\n      <td>Jarrett Allen</td>\n    </tr>\n    <tr>\n      <th>182</th>\n      <td>James Harden</td>\n    </tr>\n    <tr>\n      <th>182</th>\n      <td>James Harden</td>\n    </tr>\n    <tr>\n      <th>238</th>\n      <td>Damian Jones</td>\n    </tr>\n    <tr>\n      <th>238</th>\n      <td>Damian Jones</td>\n    </tr>\n    <tr>\n      <th>255</th>\n      <td>Rodions Kurucs</td>\n    </tr>\n    <tr>\n      <th>255</th>\n      <td>Rodions Kurucs</td>\n    </tr>\n    <tr>\n      <th>263</th>\n      <td>Alex Len</td>\n    </tr>\n    <tr>\n      <th>263</th>\n      <td>Alex Len</td>\n    </tr>\n    <tr>\n      <th>351</th>\n      <td>Victor Oladipo</td>\n    </tr>\n    <tr>\n      <th>351</th>\n      <td>Victor Oladipo</td>\n    </tr>\n    <tr>\n      <th>365</th>\n      <td>Norvel Pelle</td>\n    </tr>\n    <tr>\n      <th>365</th>\n      <td>Norvel Pelle</td>\n    </tr>\n    <tr>\n      <th>379</th>\n      <td>Taurean Prince</td>\n    </tr>\n    <tr>\n      <th>379</th>\n      <td>Taurean Prince</td>\n    </tr>\n    <tr>\n      <th>399</th>\n      <td>Derrick Rose</td>\n    </tr>\n    <tr>\n      <th>399</th>\n      <td>Derrick Rose</td>\n    </tr>\n    <tr>\n      <th>420</th>\n      <td>Dennis Smith Jr.</td>\n    </tr>\n    <tr>\n      <th>420</th>\n      <td>Dennis Smith Jr.</td>\n    </tr>\n  </tbody>\n</table>\n</div>",
      "text/plain": "               Player\nRk                   \n9       Jarrett Allen\n9       Jarrett Allen\n182      James Harden\n182      James Harden\n238      Damian Jones\n238      Damian Jones\n255    Rodions Kurucs\n255    Rodions Kurucs\n263          Alex Len\n263          Alex Len\n351    Victor Oladipo\n351    Victor Oladipo\n365      Norvel Pelle\n365      Norvel Pelle\n379    Taurean Prince\n379    Taurean Prince\n399      Derrick Rose\n399      Derrick Rose\n420  Dennis Smith Jr.\n420  Dennis Smith Jr."
     },
     "execution_count": 6,
     "metadata": {},
     "output_type": "execute_result"
    }
   ],
   "source": [
    "duplicate_names = NBA.duplicated('Player')\r\n",
    "NBA[['Player']][duplicate_names]"
   ]
  },
  {
   "cell_type": "markdown",
   "metadata": {},
   "source": [
    "## Data Cleaning and checking\r\n",
    "First check for errors then clean the data where nessasary"
   ]
  },
  {
   "cell_type": "markdown",
   "metadata": {},
   "source": [
    "### Data Cleaning - Player"
   ]
  },
  {
   "cell_type": "code",
   "execution_count": 7,
   "metadata": {},
   "outputs": [],
   "source": [
    "NBA['Player'] = NBA['Player'].astype(pd.StringDtype()) # Cast data type String onto the column for Player names since python does not detect it as a string. "
   ]
  },
  {
   "cell_type": "markdown",
   "metadata": {},
   "source": [
    "### Data Cleaning - Pos"
   ]
  },
  {
   "cell_type": "code",
   "execution_count": 8,
   "metadata": {},
   "outputs": [],
   "source": [
    "NBA['Pos'] = NBA['Pos'].str.lstrip()  # or remove space at d begining of a string\r\n",
    "NBA['Pos'] = NBA['Pos'].str.rstrip()  #remove space at d end of a string\r\n",
    "\r\n",
    "# replacing some irregular values in Pos column\r\n",
    "NBA['Pos'] = NBA['Pos'].replace('SGa', 'SG')  \r\n",
    "NBA['Pos'] = NBA['Pos'].replace('sg', 'SG')\r\n",
    "NBA['Pos'] = NBA['Pos'].replace('SF.', 'SF')\r\n",
    "NBA['Pos'] = NBA['Pos'].replace('Sf', 'SF')\r\n",
    "\r\n",
    "NBA['Pos'] = NBA['Pos'].replace('pg', 'PG')\r\n",
    "\r\n",
    "NBA['Pos'] = NBA['Pos'].replace('PFa', 'PF')\r\n",
    "NBA['Pos'] = NBA['Pos'].replace('Pg', 'PG')\r\n",
    "NBA['Pos'] = NBA['Pos'].astype(pd.StringDtype()) "
   ]
  },
  {
   "cell_type": "markdown",
   "metadata": {},
   "source": [
    "### Data Cleaning - Age"
   ]
  },
  {
   "cell_type": "code",
   "execution_count": 9,
   "metadata": {},
   "outputs": [
    {
     "name": "stdout",
     "output_type": "stream",
     "text": [
      "The youngest player is aged:  -19\n",
      "The oldest player is aged:  280\n"
     ]
    }
   ],
   "source": [
    "min = NBA[\"Age\"].min()\r\n",
    "max = NBA[\"Age\"].max()\r\n",
    "print (\"The youngest player is aged: \", min)\r\n",
    "print (\"The oldest player is aged: \", max)"
   ]
  },
  {
   "cell_type": "markdown",
   "metadata": {},
   "source": [
    "Upon checking the Age, we see the youngest player is age: -19 and the oldest is 280. These are obviously outside the human life expectancy. "
   ]
  },
  {
   "cell_type": "code",
   "execution_count": 10,
   "metadata": {},
   "outputs": [
    {
     "name": "stdout",
     "output_type": "stream",
     "text": [
      "Players who are over 40: \n"
     ]
    },
    {
     "data": {
      "text/html": "<div>\n<style scoped>\n    .dataframe tbody tr th:only-of-type {\n        vertical-align: middle;\n    }\n\n    .dataframe tbody tr th {\n        vertical-align: top;\n    }\n\n    .dataframe thead th {\n        text-align: right;\n    }\n</style>\n<table border=\"1\" class=\"dataframe\">\n  <thead>\n    <tr style=\"text-align: right;\">\n      <th></th>\n      <th>Age</th>\n      <th>Player</th>\n    </tr>\n    <tr>\n      <th>Rk</th>\n      <th></th>\n      <th></th>\n    </tr>\n  </thead>\n  <tbody>\n    <tr>\n      <th>161</th>\n      <td>280</td>\n      <td>Anthony Gill</td>\n    </tr>\n  </tbody>\n</table>\n</div>",
      "text/plain": "     Age        Player\nRk                    \n161  280  Anthony Gill"
     },
     "execution_count": 10,
     "metadata": {},
     "output_type": "execute_result"
    }
   ],
   "source": [
    "print(\"Players who are over 40: \")\r\n",
    "NBA[['Age', 'Player']][NBA.Age > 40]"
   ]
  },
  {
   "cell_type": "code",
   "execution_count": 11,
   "metadata": {},
   "outputs": [
    {
     "name": "stdout",
     "output_type": "stream",
     "text": [
      "Players who are under 18: \n"
     ]
    },
    {
     "data": {
      "text/html": "<div>\n<style scoped>\n    .dataframe tbody tr th:only-of-type {\n        vertical-align: middle;\n    }\n\n    .dataframe tbody tr th {\n        vertical-align: top;\n    }\n\n    .dataframe thead th {\n        text-align: right;\n    }\n</style>\n<table border=\"1\" class=\"dataframe\">\n  <thead>\n    <tr style=\"text-align: right;\">\n      <th></th>\n      <th>Age</th>\n      <th>Player</th>\n    </tr>\n    <tr>\n      <th>Rk</th>\n      <th></th>\n      <th></th>\n    </tr>\n  </thead>\n  <tbody>\n    <tr>\n      <th>194</th>\n      <td>-19</td>\n      <td>Killian Hayes</td>\n    </tr>\n  </tbody>\n</table>\n</div>",
      "text/plain": "     Age         Player\nRk                     \n194  -19  Killian Hayes"
     },
     "execution_count": 11,
     "metadata": {},
     "output_type": "execute_result"
    }
   ],
   "source": [
    "print(\"Players who are under 18: \")  \r\n",
    "NBA[['Age', 'Player']][NBA.Age < 18]"
   ]
  },
  {
   "cell_type": "markdown",
   "metadata": {},
   "source": [
    "remove the irregular values on age column and set them to the 'intended' input."
   ]
  },
  {
   "cell_type": "code",
   "execution_count": 12,
   "metadata": {},
   "outputs": [],
   "source": [
    "NBA['Age'] = np.where((NBA.Age == 280), 28, NBA.Age)\r\n",
    "NBA['Age'] = np.where((NBA.Age == -19), 19, NBA.Age)"
   ]
  },
  {
   "cell_type": "markdown",
   "metadata": {},
   "source": [
    "### Data Cleaning - Team"
   ]
  },
  {
   "cell_type": "code",
   "execution_count": 13,
   "metadata": {},
   "outputs": [],
   "source": [
    "NBA['Tm'] = NBA['Tm'].astype(pd.StringDtype()) \r\n",
    "NBA['Tm'] = NBA['Tm'].str.rstrip() # remove space at d end of a string\r\n",
    "NBA['Tm'] = NBA['Tm'].str.lstrip()  # remove space at d begining of a string\r\n",
    "NBA['Tm'] = NBA['Tm'].replace('H0U', 'HOU')\r\n",
    "NBA['Tm'] = NBA['Tm'].replace('NyK', 'NYK')"
   ]
  },
  {
   "cell_type": "markdown",
   "metadata": {},
   "source": [
    "### Data Cleaning - G"
   ]
  },
  {
   "cell_type": "code",
   "execution_count": 14,
   "metadata": {},
   "outputs": [
    {
     "data": {
      "text/plain": "38"
     },
     "execution_count": 14,
     "metadata": {},
     "output_type": "execute_result"
    }
   ],
   "source": [
    "NBA.G.max()    # Should be less than 82 if data is correct"
   ]
  },
  {
   "cell_type": "code",
   "execution_count": 15,
   "metadata": {},
   "outputs": [
    {
     "data": {
      "text/plain": "array([35,  7, 33, 21,  3, 28, 23, 12,  9, 30, 26, 34, 25, 18, 36, 17, 37,\n       13, 32, 27,  4, 16, 19, 11, 15,  6, 14, 22, 31,  1, 10, 29, 20,  2,\n        5, 24,  8, 38], dtype=int64)"
     },
     "execution_count": 15,
     "metadata": {},
     "output_type": "execute_result"
    }
   ],
   "source": [
    "NBA.G.unique()"
   ]
  },
  {
   "cell_type": "markdown",
   "metadata": {},
   "source": [
    "### Data Cleaning - GS"
   ]
  },
  {
   "cell_type": "code",
   "execution_count": 16,
   "metadata": {},
   "outputs": [
    {
     "data": {
      "text/plain": "array([ 2,  0, 33, 18,  3, 12, 17,  5,  6, 30, 35, 23, 16, 34, 15, 37, 29,\n       26,  1, 36, 32, 28, 19,  7, 31, 20, 10, 22, 11,  8, 25, 24, 21, 27,\n        4, 14,  9, 13], dtype=int64)"
     },
     "execution_count": 16,
     "metadata": {},
     "output_type": "execute_result"
    }
   ],
   "source": [
    "NBA.GS.unique()"
   ]
  },
  {
   "cell_type": "markdown",
   "metadata": {},
   "source": [
    "### Data Cleaning - MP"
   ]
  },
  {
   "cell_type": "code",
   "execution_count": 17,
   "metadata": {},
   "outputs": [
    {
     "data": {
      "text/plain": "array([ 491,   18,  918, 1119,  544,    8,  495,  551,  977,  320,  657,\n        163,  829, 1189,   19,  227,  870,  667,  769,  198,  664,  646,\n       1088,   49,  886,  888, 1010, 1048,  161,  639, 1179, 1227,  986,\n        107, 1031,  649,  587, 1104, 1143, 1093,   50,  443,  783,  678,\n        778,   13,  703,  148,  736,  342, 1038,   47,  249, 1102,   84,\n         29,  196,  271, 1050,  851,    5,  211,  127,   28,    7, 1131,\n        937, 1211,  846,  698, 1115,   31,  713,  231,  748,  841,  537,\n        617,  729,   36,   17,  863,  488,  122,  949,    6,  289,  618,\n        450,  577,  136,   27,  572,  726,   76,  154,  853,  697,   62,\n        506, 1054,  194,  883,  376,  836, 1194,  755,  264,  442,  981,\n        761,  371,   64,  960, 1125, 1040,  565,   10,  439,  408,  596,\n        722,  679,  147,  105,  650,  990,  514,  180,  116,   57,  550,\n         38,   34,  151,   40,  787,  125,  675,   20,  613, 1198,   33,\n        215,   12,  343,  525,  262,  922,  904,  181,  260, 1020,   67,\n       1105,  552,  763,  821, 1018,  512,  330,  212,  626,  115,  813,\n          4,  903,   51,  220,  975, 1173,  290,  109,  891,  581, 1144,\n       1066,   56, 1032,  243,  311, 1080,  359,  818, 1253,  369,  686,\n        805, 1130,  942,  575,  677,  576,  602,  574,   55, 1157,  579,\n        887,  735, 1255,  924,  246,   54,  797,  405,  709,   69, 1245,\n        189,  100,  240,  823,  484,  845,  441,  250, 1293,   94,  838,\n        244,   43,  691,  799,  749,   81,  428,  919,  684,  569,   58,\n        397,  308,  467,   83,   91,   16,   75,  932,  486, 1209,  372,\n          9,  712,  238,  352,  276, 1039,  334,  273, 1224,  239,  401,\n        690,   46, 1002,  669,  549,  141,  426,  395,  268,   48,   79,\n        454,  123,  605,  519,  132,  440,  810,  213,  882,  126,  411,\n        186,   77,   71, 1203,  111,  824,  621, 1154,   42,  499,  738,\n        539,  360,  992, 1204,  633,  608,  635,  281,  591,  481,  248,\n        710,  367,  839,  280,  642,   82, 1181,  645,  120,  437,  558,\n        159, 1030,  199,  786,  300,  927,  206, 1062,   25,  599,  130,\n        128,  394,   32,  953,  750,   22,  296,  170,  744,  776,  346,\n       1006,  620,  218,  402,  641,  619, 1358,  699,   23,  788,   63,\n       1202,  221,  640,  588, 1106,  583, 1278,   99,   97,  307,  476,\n        295, 1127,   11, 1075,   53, 1051,  543,  275,  247,  391,  420,\n        283,  251,  933, 1110,  936,  827,   24,  145,  774,   21,  474,\n        524,  959,  733,  652, 1249,  451,  375, 1220,  315,  600,  819,\n        793,  117,  910,   98,   74,  923,  335, 1193,  517,  681,  794,\n        939,  468, 1126,  417,  134,   44,  541,  530,  848,  760, 1182,\n        421,  753], dtype=int64)"
     },
     "execution_count": 17,
     "metadata": {},
     "output_type": "execute_result"
    }
   ],
   "source": [
    "NBA.MP.unique()"
   ]
  },
  {
   "cell_type": "markdown",
   "metadata": {},
   "source": [
    "### Data Cleaning - FG"
   ]
  },
  {
   "cell_type": "code",
   "execution_count": 18,
   "metadata": {},
   "outputs": [
    {
     "data": {
      "text/plain": "array([ 84,   1, 115, 236,   0,  86,  67, 172,  44, 128,  17, 146, 368,\n        26, 166, 101, 114,  21,  64,  68, 218,   4, 136, 195, 201, 175,\n        35, 100, 184, 233, 148,  11, 108,  88, 158, 250,   5,  49,  79,\n         2,  76,  24,  78,  58, 188,  23, 284,  31,  22, 132, 276, 176,\n       118, 305,   7, 139,  59,  99,  92, 143,   8,  98,  51, 208,  30,\n       106,  62,  70,  33, 140, 237,  20, 252, 161,  12,  91, 109,  54,\n       123, 343, 204,  18, 194,  56,   6, 319, 149,  50, 116, 180, 199,\n        29,  14, 103, 285,  60,  10,   9,  85,   3,  77, 121, 127, 293,\n        41,  81,  38, 179, 225, 239, 196, 153, 254,  80,  39, 113, 122,\n       190, 209,  69, 241,  46,  13, 245,  36, 151, 198,  61,  53,  95,\n       159, 138,  94, 165, 169,  57, 306, 269, 154, 350,  15, 125,  65,\n        28, 379, 111,  90, 177,  48,  47, 162, 287,  87,  42, 315, 141,\n       112, 174,  55,  19,  16, 272, 135, 288,  40, 142, 207, 273,  25,\n        72,  71, 152,  63,  93, 110, 202, 131, 145,  97, 211, 307,  96,\n       126, 274, 173,  83, 222, 192,  74, 279, 107, 124,  52, 183, 156,\n       171, 226, 355,  27, 137,  34, 335, 167, 262,  73, 120], dtype=int64)"
     },
     "execution_count": 18,
     "metadata": {},
     "output_type": "execute_result"
    }
   ],
   "source": [
    "NBA.FG.unique()   #check for inappropriate value"
   ]
  },
  {
   "cell_type": "markdown",
   "metadata": {},
   "source": [
    "### Data Cleaning - FGA"
   ]
  },
  {
   "cell_type": "code",
   "execution_count": 19,
   "metadata": {},
   "outputs": [
    {
     "data": {
      "text/plain": "array([145,   8, 187, 419, 248,   3, 211, 164, 257,  65, 192,  43, 306,\n       661, 402, 269, 238,  50, 183, 157, 367,   7, 329, 390, 448, 409,\n        67, 209, 374, 526, 335,  31, 229, 200, 175, 403, 764, 550,  15,\n        86, 258, 177, 264,   5, 153,  47, 137, 120, 363,  11,  91, 435,\n        22,  54,  45, 573, 322,   2,  66,  39,  10,   1, 328, 617, 444,\n       616, 196,  71, 262, 244, 205, 227, 315,  17,   4, 224, 126,  28,\n       353,  84, 198, 144, 112,  14, 272, 530,  29,  40, 470, 176,  26,\n       210, 243, 271, 128, 718, 383, 401, 297, 108,  16, 668, 384, 197,\n       141, 127, 253, 380, 359, 537,  63, 547,  51,  13, 131,  25,  21,\n       180, 259, 282, 629, 104,  75, 207,  82, 407, 134, 451,  62, 468,\n       106, 213, 350, 310, 586, 270, 174, 223,  36, 222,  44, 267,   0,\n        18,  58, 434, 517, 135, 382, 334, 156, 379,  20, 255,  76,  68,\n       503,  90, 110, 345, 507, 149, 256, 324, 303, 275, 168, 312, 184,\n       138, 387, 333, 147, 245, 648, 527, 362, 250,  23, 687,  52,  30,\n        79, 286, 140, 320,  72, 182,  87, 251, 151, 201, 165, 298, 203,\n       109, 119,  24, 365, 667, 115,  70, 562, 708,  74, 302, 189, 381,\n       221,  83, 218,   9, 129, 185, 133,  64,  27,  48, 118, 242,  49,\n       260, 190, 344, 161, 549, 337, 684,  95, 454, 561, 263, 212, 167,\n        61, 111, 170,  37, 330, 103, 208,  42, 225, 436, 152, 284, 299,\n        38, 463, 265, 420, 393, 239, 159,  93,  77, 283, 304, 432, 188,\n       316,  35, 636, 214, 307,   6, 352,  99, 293, 476, 500, 236, 326,\n       522,  34,  32, 143, 563, 216, 490, 332, 220, 116,  19,  85,  94,\n       146, 252, 638, 158,  46, 107, 433, 317, 139, 565, 735, 105, 443,\n       162, 305,  60, 493, 479, 521, 268, 122, 546,  41, 247, 235, 274,\n       610, 142], dtype=int64)"
     },
     "execution_count": 19,
     "metadata": {},
     "output_type": "execute_result"
    }
   ],
   "source": [
    "NBA.FGA.unique()"
   ]
  },
  {
   "cell_type": "markdown",
   "metadata": {},
   "source": [
    "### Data Cleaning - FG%"
   ]
  },
  {
   "cell_type": "code",
   "execution_count": 20,
   "metadata": {},
   "outputs": [
    {
     "data": {
      "text/plain": "array([0.579, 0.125, 0.615, 0.563, 0.464, 0.   , 0.408, 0.409, 0.669,\n       0.677, 0.667, 0.395, 0.477, 0.557, 0.333, 0.605, 0.413, 0.375,\n       0.479, 0.42 , 0.35 , 0.433, 0.594, 0.571, 0.5  , 0.449, 0.428,\n       0.522, 0.478, 0.492, 0.443, 0.442, 0.355, 0.472, 0.44 , 0.48 ,\n       0.392, 0.482, 0.455, 0.57 , 0.388, 0.446, 0.4  , 0.497, 0.511,\n       0.569, 0.483, 0.435, 0.182, 0.385, 0.432, 0.426, 0.378, 0.496,\n       0.534, 0.47 , 0.564, 0.524, 0.491, 0.447, 0.396, 0.59 , 0.495,\n       0.7  , 0.439, 0.366, 0.531, 0.648, 0.406, 0.405, 0.454, 0.471,\n       1.   , 0.438, 0.393, 0.589, 0.357, 0.535, 0.403, 0.625, 0.362,\n       0.295, 0.515, 0.69 , 0.525, 0.536, 0.444, 0.462, 0.376, 0.374,\n       0.402, 0.422, 0.469, 0.533, 0.419, 0.484, 0.481, 0.519, 0.418,\n       0.401, 0.457, 0.458, 0.474, 0.286, 0.371, 0.46 , 0.452, 0.521,\n       0.412, 0.692, 0.649, 0.75 , 0.2  , 0.381, 0.267, 0.467, 0.45 ,\n       0.466, 0.25 , 0.394, 0.391, 0.463, 0.499, 0.581, 0.3  , 0.641,\n       0.33 , 0.427, 0.437, 0.352, 0.549, 0.507, 0.365, 0.318,   nan,\n       0.494, 0.222, 0.414, 0.626, 0.53 , 0.513, 0.676, 0.277, 0.487,\n       0.545, 0.508, 0.356, 0.231, 0.459, 0.651, 0.369, 0.441, 0.587,\n       0.194, 0.514, 0.278, 0.51 , 0.298, 0.273, 0.425, 0.456, 0.509,\n       0.423, 0.367, 0.389, 0.567, 0.619, 0.505, 0.6  , 0.762, 0.448,\n       0.269, 0.424, 0.383, 0.346, 0.238, 0.473, 0.543, 0.628, 0.645,\n       0.429, 0.445, 0.595, 0.593, 0.506, 0.556, 0.111, 0.261, 0.516,\n       0.37 , 0.421, 0.526, 0.489, 0.512, 0.225, 0.353, 0.407, 0.377,\n       0.397, 0.431, 0.613, 0.486, 0.461, 0.485, 0.417, 0.384, 0.351,\n       0.568, 0.399, 0.387, 0.368, 0.373, 0.436, 0.143, 0.607, 0.61 ,\n       0.247, 0.468, 0.502, 0.546, 0.488, 0.38 , 0.43 , 0.328, 0.66 ,\n       0.41 , 0.49 , 0.39 , 0.453, 0.578, 0.404, 0.379, 0.555, 0.313,\n       0.539, 0.612, 0.364, 0.358, 0.529, 0.323, 0.58 , 0.554, 0.721,\n       0.614, 0.558, 0.609, 0.659])"
     },
     "execution_count": 20,
     "metadata": {},
     "output_type": "execute_result"
    }
   ],
   "source": [
    "NBA['FG%'].unique()"
   ]
  },
  {
   "cell_type": "code",
   "execution_count": 21,
   "metadata": {},
   "outputs": [
    {
     "data": {
      "text/plain": "True"
     },
     "execution_count": 21,
     "metadata": {},
     "output_type": "execute_result"
    }
   ],
   "source": [
    "checkna = NBA['FG%'].isnull().values.any()\r\n",
    "checkna"
   ]
  },
  {
   "cell_type": "code",
   "execution_count": 22,
   "metadata": {},
   "outputs": [
    {
     "data": {
      "text/html": "<div>\n<style scoped>\n    .dataframe tbody tr th:only-of-type {\n        vertical-align: middle;\n    }\n\n    .dataframe tbody tr th {\n        vertical-align: top;\n    }\n\n    .dataframe thead th {\n        text-align: right;\n    }\n</style>\n<table border=\"1\" class=\"dataframe\">\n  <thead>\n    <tr style=\"text-align: right;\">\n      <th></th>\n      <th>FG</th>\n      <th>FGA</th>\n    </tr>\n    <tr>\n      <th>Rk</th>\n      <th></th>\n      <th></th>\n    </tr>\n  </thead>\n  <tbody>\n    <tr>\n      <th>177</th>\n      <td>0</td>\n      <td>0</td>\n    </tr>\n    <tr>\n      <th>187</th>\n      <td>0</td>\n      <td>0</td>\n    </tr>\n    <tr>\n      <th>295</th>\n      <td>0</td>\n      <td>0</td>\n    </tr>\n  </tbody>\n</table>\n</div>",
      "text/plain": "     FG  FGA\nRk          \n177   0    0\n187   0    0\n295   0    0"
     },
     "execution_count": 22,
     "metadata": {},
     "output_type": "execute_result"
    }
   ],
   "source": [
    "fg = NBA[NBA['FG%'].isnull()].head()\r\n",
    "fg[['FG','FGA']] #showing location of null values"
   ]
  },
  {
   "cell_type": "code",
   "execution_count": 23,
   "metadata": {},
   "outputs": [],
   "source": [
    "NBA['FG%'] = NBA['FG%'].fillna(0)"
   ]
  },
  {
   "cell_type": "markdown",
   "metadata": {},
   "source": [
    "### Data Cleaning - 3P"
   ]
  },
  {
   "cell_type": "code",
   "execution_count": 24,
   "metadata": {},
   "outputs": [
    {
     "data": {
      "text/plain": "array([  0,   2,  27,  30,  46,   4,   6,  39,  60,  49,  11,  45,  31,\n        34,  70,  99,   7,  47,  56,  43,  50,   5,  68,  17,  54,  74,\n       116,   8,  88,  72,  15,  69,  23,  98,  10,  63,  61,  16,   3,\n        66,  82,   9,  76,  51,  55,  41,  33,  28,   1,  26, 114,  81,\n        57,  77, 169,  40,  12,  85,  29,  20,  35,  37,  21,  73,  52,\n        64,  48,  95,  80,  14,  71,  97, 101,  25,  24, 126, 140,  22,\n        38,  44,  89,  18,  79,  86,  65, 120,  13, 146,  83,  53,  19,\n        32, 113,  90,  67,  58,  62,  59, 117, 111,  36,  96,  42],\n      dtype=int64)"
     },
     "execution_count": 24,
     "metadata": {},
     "output_type": "execute_result"
    }
   ],
   "source": [
    "NBA['3P'].unique()"
   ]
  },
  {
   "cell_type": "code",
   "execution_count": 25,
   "metadata": {},
   "outputs": [
    {
     "data": {
      "text/plain": "False"
     },
     "execution_count": 25,
     "metadata": {},
     "output_type": "execute_result"
    }
   ],
   "source": [
    "checkna = NBA['3P'].isnull().values.any()\r\n",
    "checkna"
   ]
  },
  {
   "cell_type": "markdown",
   "metadata": {},
   "source": [
    "### Data Cleaning - 3PA"
   ]
  },
  {
   "cell_type": "code",
   "execution_count": 26,
   "metadata": {},
   "outputs": [
    {
     "data": {
      "text/plain": "array([  0,   2,   1,   6,  75,  98, 113,   8,  15, 121, 137,   9, 155,\n        83, 124,  32, 123,  87,  17, 102,  92, 185, 256,  19, 106, 143,\n       129,  14,  70,  89, 186, 221, 286,  22, 229, 116, 183,  13,  45,\n       179,   4,  67, 242,  10,  29, 174,  38,   7, 157, 120, 217, 169,\n        33, 196, 127,  97,  21, 148, 104, 117,  34,   5,  57,  20,  31,\n        23,  95,  46, 308, 192, 171, 205,  35, 125, 411,  58, 110,  52,\n        41,  48, 177, 238, 209,  60,  51, 225, 178,  47,  11,   3, 119,\n        26, 163, 140, 187,  16,  85, 112, 211,  53,  84, 201, 202, 223,\n       213,  59,  96,  12,  24,  69, 164,  18, 252,  72, 180, 249, 147,\n       158, 144, 370, 108, 215, 132,  63, 109,  82, 170, 224, 141,  79,\n       115, 240, 193,  86,  50, 134,  78,  49,  62, 114,  76, 276, 138,\n        39, 380,  37, 206, 146, 101, 100,  55, 151, 219,  99, 296,  25,\n        90, 111,  93, 105, 226, 182, 161,  36, 159, 107,  44, 181,  28,\n       133,  56, 149, 126,  64,  94,  77, 299,  61, 212, 253, 130, 162,\n       122,  40, 220, 131,  73,  65,  80, 153, 298, 233, 150,  27],\n      dtype=int64)"
     },
     "execution_count": 26,
     "metadata": {},
     "output_type": "execute_result"
    }
   ],
   "source": [
    "NBA['3PA'].unique()"
   ]
  },
  {
   "cell_type": "code",
   "execution_count": 27,
   "metadata": {},
   "outputs": [
    {
     "data": {
      "text/plain": "False"
     },
     "execution_count": 27,
     "metadata": {},
     "output_type": "execute_result"
    }
   ],
   "source": [
    "checkna = NBA['3PA'].isnull().values.any()\r\n",
    "checkna"
   ]
  },
  {
   "cell_type": "markdown",
   "metadata": {},
   "source": [
    "### Data Cleaning - 3P%"
   ]
  },
  {
   "cell_type": "code",
   "execution_count": 28,
   "metadata": {},
   "outputs": [
    {
     "data": {
      "text/plain": "array([  nan, 0.   , 0.05 , 0.36 , 0.306, 0.407, 0.5  , 0.4  , 0.38 ,\n       0.285, 0.222, 0.387, 0.325, 0.395, 0.344, 0.366, 0.356, 0.235,\n       0.333, 0.73 , 0.378, 0.368, 0.443, 0.392, 0.35 , 0.388, 0.357,\n       0.439, 0.243, 0.438, 0.29 , 0.335, 0.406, 0.364, 0.384, 0.422,\n       0.393, 0.308, 0.133, 0.385, 0.343, 0.405, 0.313, 0.345, 0.362,\n       0.445, 0.421, 0.429, 0.42 , 0.383, 0.32 , 0.273, 0.402, 0.289,\n       0.372, 0.394, 0.379, 0.214, 0.298, 0.258, 0.167, 0.391, 0.2  ,\n       0.274, 0.326, 0.37 , 0.524, 0.336, 0.381, 0.376, 0.229, 0.448,\n       0.411, 0.293, 0.479, 0.286, 0.279, 0.25 , 0.361, 0.434, 0.302,\n       0.324, 0.263, 0.433, 0.416, 0.447, 0.182, 0.192, 0.371, 0.342,\n       0.457, 0.365, 0.45 , 0.375, 0.412, 0.143, 0.283, 0.369, 0.328,\n       0.347, 0.363, 0.237, 0.427, 0.318, 0.315, 0.304, 0.125, 0.278,\n       0.401, 0.506, 0.386, 0.352, 0.414, 0.299, 0.312, 0.136, 0.3  ,\n       0.339, 0.465, 0.13 , 0.291, 0.358, 0.259, 0.418, 0.367, 1.   ,\n       0.294, 0.419, 0.456, 0.451, 0.389, 0.176, 0.435, 0.319, 0.377,\n       0.667, 0.349, 0.459, 0.348, 0.403, 0.354, 0.382, 0.396, 0.337,\n       0.441, 0.316, 0.261, 0.417, 0.314, 0.212, 0.423, 0.455, 0.432,\n       0.41 , 0.24 , 0.233, 0.464, 0.322, 0.409, 0.398, 0.373, 0.619,\n       0.27 , 0.218, 0.301, 0.331, 0.332, 0.321, 0.353, 0.179, 0.351,\n       0.408, 0.262, 0.34 , 0.288, 0.329, 0.399, 0.487, 0.317, 0.295,\n       0.311, 0.565, 0.118, 0.346, 0.397, 0.232, 0.529, 0.341, 0.39 ,\n       0.227, 0.158])"
     },
     "execution_count": 28,
     "metadata": {},
     "output_type": "execute_result"
    }
   ],
   "source": [
    "NBA['3P%'].unique()"
   ]
  },
  {
   "cell_type": "code",
   "execution_count": 29,
   "metadata": {},
   "outputs": [
    {
     "data": {
      "text/plain": "True"
     },
     "execution_count": 29,
     "metadata": {},
     "output_type": "execute_result"
    }
   ],
   "source": [
    "checkna = NBA['3P%'].isnull().values.any()\r\n",
    "checkna"
   ]
  },
  {
   "cell_type": "code",
   "execution_count": 30,
   "metadata": {},
   "outputs": [
    {
     "data": {
      "text/html": "<div>\n<style scoped>\n    .dataframe tbody tr th:only-of-type {\n        vertical-align: middle;\n    }\n\n    .dataframe tbody tr th {\n        vertical-align: top;\n    }\n\n    .dataframe thead th {\n        text-align: right;\n    }\n</style>\n<table border=\"1\" class=\"dataframe\">\n  <thead>\n    <tr style=\"text-align: right;\">\n      <th></th>\n      <th>3P</th>\n      <th>3PA</th>\n    </tr>\n    <tr>\n      <th>Rk</th>\n      <th></th>\n      <th></th>\n    </tr>\n  </thead>\n  <tbody>\n    <tr>\n      <th>1</th>\n      <td>0</td>\n      <td>0</td>\n    </tr>\n    <tr>\n      <th>9</th>\n      <td>0</td>\n      <td>0</td>\n    </tr>\n    <tr>\n      <th>13</th>\n      <td>0</td>\n      <td>0</td>\n    </tr>\n    <tr>\n      <th>22</th>\n      <td>0</td>\n      <td>0</td>\n    </tr>\n    <tr>\n      <th>44</th>\n      <td>0</td>\n      <td>0</td>\n    </tr>\n  </tbody>\n</table>\n</div>",
      "text/plain": "    3P  3PA\nRk         \n1    0    0\n9    0    0\n13   0    0\n22   0    0\n44   0    0"
     },
     "execution_count": 30,
     "metadata": {},
     "output_type": "execute_result"
    }
   ],
   "source": [
    "threePercent = NBA[NBA['3P%'].isnull()].head()\r\n",
    "threePercent[['3P','3PA']] #displaying location of null values"
   ]
  },
  {
   "cell_type": "markdown",
   "metadata": {},
   "source": [
    "Fill nan with zero and recheck again"
   ]
  },
  {
   "cell_type": "code",
   "execution_count": 31,
   "metadata": {},
   "outputs": [
    {
     "data": {
      "text/plain": "False"
     },
     "execution_count": 31,
     "metadata": {},
     "output_type": "execute_result"
    }
   ],
   "source": [
    "NBA['3P%'] = NBA['3P%'].fillna(0)\r\n",
    "checkna = NBA['3P%'].isnull().values.any()\r\n",
    "checkna"
   ]
  },
  {
   "cell_type": "markdown",
   "metadata": {},
   "source": [
    "### Data Cleaning - 2P"
   ]
  },
  {
   "cell_type": "code",
   "execution_count": 32,
   "metadata": {},
   "outputs": [
    {
     "data": {
      "text/plain": "array([ 84,   1, 115, 234,  88,   0,  56,  21, 168,  44, 124,  11, 100,\n       329,  24, 106,  74,  65,  10,  19,  37, 214,   4, 102, 161, 131,\n        76,  28,  53, 128, 190,  98,   6,  40,  71,  45, 104, 294, 134,\n         5,  41,  12,  30,  36,   2,  72,  22,  78,  43,  89,  90,  13,\n         7, 221, 111,  15,  86, 194, 122, 109, 229,  35,  50,  51, 135,\n         8,  47,  18, 208,  99,  34,  69, 125, 123,  20, 202,  80,  32,\n         9,  46,  67, 174, 187,  39, 178,  33,  81,  38, 180, 139,  26,\n       248,  85,   3,  48,  75,  17,  23, 130,  16, 196,  60,  87, 173,\n        54,  64,  42, 101,  82,  93, 149, 114, 209, 181,  59,  58,  57,\n        91,  77, 132,  49, 193, 113,  68, 264,  14,  52, 323,  66, 177,\n        97, 230,  27, 227,  29, 169, 108,  55,  94, 119, 189,  63, 175,\n       151,  31, 183,  83,  25, 142, 118, 152, 159, 145, 107, 238, 126,\n       103, 242, 140, 222, 186, 198,  62,  96, 112, 259, 137,  95, 120,\n       176, 116, 117, 162,  70], dtype=int64)"
     },
     "execution_count": 32,
     "metadata": {},
     "output_type": "execute_result"
    }
   ],
   "source": [
    "NBA['2P'].unique()"
   ]
  },
  {
   "cell_type": "code",
   "execution_count": 33,
   "metadata": {},
   "outputs": [
    {
     "data": {
      "text/plain": "False"
     },
     "execution_count": 33,
     "metadata": {},
     "output_type": "execute_result"
    }
   ],
   "source": [
    "checkna = NBA['2P'].isnull().values.any()\r\n",
    "checkna"
   ]
  },
  {
   "cell_type": "markdown",
   "metadata": {},
   "source": [
    "### Data Cleaning - 2PA"
   ]
  },
  {
   "cell_type": "code",
   "execution_count": 34,
   "metadata": {},
   "outputs": [
    {
     "data": {
      "text/plain": "array([145,   6, 186, 413, 173,   2, 113,  51, 249,  65, 184,  28, 185,\n       524,   3,  34, 247, 114,  18,  60,  70, 350,   7, 227, 298, 263,\n       153,  48, 103, 231, 403, 206,  17,  74, 130,  86, 217, 543, 264,\n        13,  64,  29,  61,  81,   5, 140,  32, 136,  75,  24, 193,  12,\n        22,  16, 399,  38,   1, 171, 149, 400, 275, 167, 420,  10,  69,\n        33, 165,  96, 101, 110, 281,   4,  97,  39,  14, 353,  27, 178,\n       106,   9, 226, 222,  19, 341,  59,  94,  72,  66,  93, 137, 307,\n       325,  43,  77, 349, 256, 158, 430, 175,  76, 156, 372, 246, 312,\n        49, 458,  73,  15,  23, 142, 442,  88,  36, 282, 146, 240,  54,\n       320, 305,  53, 129, 108, 363,  57, 115,  84, 107,  98,  20, 198,\n         0,  40, 182, 265,  63, 202, 328, 343,  68, 345,  37, 105, 201,\n         8, 148, 203, 269, 180, 150, 127, 176, 128, 229,  35, 424, 342,\n       221, 135, 447,  11,  82, 234,  21, 534, 104, 166, 126,  89,  47,\n        67, 187, 391,  62, 407, 144,  46,  91,  95,  44,  26, 117, 157,\n        83, 357, 118, 111, 207, 388, 100, 289,  58, 335, 121,  50,  25,\n       109,  42,  79, 132, 255, 172, 154, 276, 220, 287, 333, 233, 159,\n       134, 228, 196, 161, 467, 213,  55, 232,  87, 426, 433, 368, 141,\n        56, 183, 418, 119, 147,  41, 123,  45, 169, 267, 502, 168, 293,\n       250, 336, 191, 527, 162, 252, 385, 181], dtype=int64)"
     },
     "execution_count": 34,
     "metadata": {},
     "output_type": "execute_result"
    }
   ],
   "source": [
    "NBA['2PA'].unique()"
   ]
  },
  {
   "cell_type": "code",
   "execution_count": 35,
   "metadata": {},
   "outputs": [
    {
     "data": {
      "text/plain": "False"
     },
     "execution_count": 35,
     "metadata": {},
     "output_type": "execute_result"
    }
   ],
   "source": [
    "checkna = NBA['2PA'].isnull().values.any()\r\n",
    "checkna"
   ]
  },
  {
   "cell_type": "markdown",
   "metadata": {},
   "source": [
    "### Data Cleaning - 2P%"
   ]
  },
  {
   "cell_type": "code",
   "execution_count": 36,
   "metadata": {},
   "outputs": [
    {
     "data": {
      "text/plain": "array([0.579, 0.167, 0.618, 0.567, 0.509, 0.   , 0.496, 0.412, 0.675,\n       0.677, 0.674, 0.393, 0.541, 0.628, 0.333, 0.706, 0.429, 0.398,\n       0.57 , 0.556, 0.317, 0.529, 0.611, 0.571, 0.449, 0.54 , 0.498,\n       0.497, 0.583, 0.515, 0.554, 0.471, 0.476, 0.353, 0.546, 0.523,\n       0.479, 0.508, 0.385, 0.641, 0.414, 0.492, 0.444, 0.4  , 0.514,\n       0.688, 0.574, 0.573, 0.484, 0.286, 0.5  , 0.466, 0.591, 0.438,\n       0.6  , 0.536, 0.62 , 0.577, 0.485, 0.653, 0.545, 0.7  , 0.507,\n       0.455, 0.606, 0.714, 0.458, 0.505, 0.409, 0.48 , 0.667, 1.   ,\n       0.462, 0.589, 0.481, 0.442, 0.453, 0.651, 0.553, 0.526, 0.592,\n       0.468, 0.542, 0.538, 0.426, 0.472, 0.495, 0.489, 0.575, 0.419,\n       0.506, 0.51 , 0.512, 0.55 , 0.456, 0.544, 0.463, 0.432, 0.519,\n       0.565, 0.42 , 0.621, 0.75 , 0.531, 0.534, 0.533, 0.692, 0.654,\n       0.478, 0.417, 0.59 , 0.368, 0.528, 0.518, 0.395, 0.465, 0.469,\n       0.459, 0.643, 0.377, 0.584, 0.361, 0.477, 0.47 , 0.464, 0.598,\n       0.625,   nan, 0.562, 0.3  , 0.475, 0.511, 0.564, 0.637, 0.602,\n       0.513, 0.676, 0.296, 0.525, 0.502, 0.423, 0.619, 0.25 , 0.568,\n       0.662, 0.416, 0.467, 0.609, 0.267, 0.576, 0.543, 0.521, 0.222,\n       0.504, 0.727, 0.316, 0.559, 0.61 , 0.379, 0.605, 0.65 , 0.635,\n       0.767, 0.524, 0.364, 0.594, 0.407, 0.404, 0.488, 0.448, 0.494,\n       0.588, 0.647, 0.742, 0.558, 0.474, 0.597, 0.614, 0.52 , 0.44 ,\n       0.451, 0.516, 0.111, 0.655, 0.659, 0.391, 0.503, 0.439, 0.535,\n       0.617, 0.389, 0.604, 0.49 , 0.486, 0.522, 0.415, 0.561, 0.64 ,\n       0.624, 0.313, 0.572, 0.381, 0.443, 0.375, 0.447, 0.436, 0.673,\n       0.2  , 0.53 , 0.487, 0.622, 0.351, 0.532, 0.374, 0.329, 0.46 ,\n       0.563, 0.517, 0.642, 0.473, 0.66 , 0.425, 0.422, 0.585, 0.355,\n       0.431, 0.441, 0.406, 0.261, 0.889, 0.354, 0.539, 0.537, 0.644,\n       0.549, 0.446, 0.639, 0.557, 0.411, 0.613, 0.397, 0.629, 0.41 ,\n       0.452, 0.527, 0.569, 0.663])"
     },
     "execution_count": 36,
     "metadata": {},
     "output_type": "execute_result"
    }
   ],
   "source": [
    "NBA['2P%'].unique()"
   ]
  },
  {
   "cell_type": "code",
   "execution_count": 37,
   "metadata": {},
   "outputs": [
    {
     "data": {
      "text/plain": "True"
     },
     "execution_count": 37,
     "metadata": {},
     "output_type": "execute_result"
    }
   ],
   "source": [
    "checkna = NBA['2P%'].isnull().values.any()\r\n",
    "checkna"
   ]
  },
  {
   "cell_type": "code",
   "execution_count": 38,
   "metadata": {},
   "outputs": [
    {
     "data": {
      "text/html": "<div>\n<style scoped>\n    .dataframe tbody tr th:only-of-type {\n        vertical-align: middle;\n    }\n\n    .dataframe tbody tr th {\n        vertical-align: top;\n    }\n\n    .dataframe thead th {\n        text-align: right;\n    }\n</style>\n<table border=\"1\" class=\"dataframe\">\n  <thead>\n    <tr style=\"text-align: right;\">\n      <th></th>\n      <th>2P</th>\n      <th>2PA</th>\n    </tr>\n    <tr>\n      <th>Rk</th>\n      <th></th>\n      <th></th>\n    </tr>\n  </thead>\n  <tbody>\n    <tr>\n      <th>177</th>\n      <td>0</td>\n      <td>0</td>\n    </tr>\n    <tr>\n      <th>187</th>\n      <td>0</td>\n      <td>0</td>\n    </tr>\n    <tr>\n      <th>265</th>\n      <td>0</td>\n      <td>0</td>\n    </tr>\n    <tr>\n      <th>295</th>\n      <td>0</td>\n      <td>0</td>\n    </tr>\n    <tr>\n      <th>359</th>\n      <td>0</td>\n      <td>0</td>\n    </tr>\n  </tbody>\n</table>\n</div>",
      "text/plain": "     2P  2PA\nRk          \n177   0    0\n187   0    0\n265   0    0\n295   0    0\n359   0    0"
     },
     "execution_count": 38,
     "metadata": {},
     "output_type": "execute_result"
    }
   ],
   "source": [
    "twoPercent = NBA[NBA['2P%'].isnull()].head()\r\n",
    "twoPercent[['2P','2PA']] #showing location of null values"
   ]
  },
  {
   "cell_type": "code",
   "execution_count": 39,
   "metadata": {},
   "outputs": [
    {
     "data": {
      "text/plain": "False"
     },
     "execution_count": 39,
     "metadata": {},
     "output_type": "execute_result"
    }
   ],
   "source": [
    "NBA['2P%'] = NBA['2P%'].fillna(0)\r\n",
    "checkna = NBA['2P%'].isnull().values.any()\r\n",
    "checkna"
   ]
  },
  {
   "cell_type": "markdown",
   "metadata": {},
   "source": [
    "### Data Cleaning - FT"
   ]
  },
  {
   "cell_type": "code",
   "execution_count": 40,
   "metadata": {},
   "outputs": [
    {
     "data": {
      "text/plain": "array([ 44,   0,  35, 160,  31,  28,  34, 123,  46,  77,   7,  64, 240,\n         1,   6,  80,  40,   8,  11,  66,   4,  57,  54,  81,  21, 128,\n       103,  37,  30,  15,  24, 243,  61,  14,  58,  48,   2,  51,  10,\n        29,  55,  92,   5,   3, 141,  85,  69,  41,  87,  38, 129,  16,\n        20,  27,  47, 158,  39,  63,  93,  23, 184, 175,  83, 193,  18,\n        19, 126,  70, 298,  33,  45,   9, 156,  17,  26,  71,  95,  13,\n       118,  49,  72,  65, 183,  53, 130,  22,  94, 114,  36,  32, 164,\n        84, 144,  79, 163, 165, 237,  50,  91,  12,  86, 150, 110,  56,\n       104,  25,  43, 116,  98, 177,  67,  42,  75, 147, 113, 122, 112,\n       134,  68,  99,  82,  52, 194,  62, 288], dtype=int64)"
     },
     "execution_count": 40,
     "metadata": {},
     "output_type": "execute_result"
    }
   ],
   "source": [
    "NBA['FT'].unique()"
   ]
  },
  {
   "cell_type": "code",
   "execution_count": 41,
   "metadata": {},
   "outputs": [
    {
     "data": {
      "text/plain": "False"
     },
     "execution_count": 41,
     "metadata": {},
     "output_type": "execute_result"
    }
   ],
   "source": [
    "checkna = NBA['FT'].isnull().values.any()\r\n",
    "checkna"
   ]
  },
  {
   "cell_type": "markdown",
   "metadata": {},
   "source": [
    "### Data Cleaning - FTA"
   ]
  },
  {
   "cell_type": "code",
   "execution_count": 42,
   "metadata": {},
   "outputs": [
    {
     "data": {
      "text/plain": "array([ 81,   0,  79, 189,  37,  35,  38, 166,  61, 105,   9,  84, 363,\n         2,  13,  95,  55,  53,  39,  19,  88,   6,  69, 102, 101,  40,\n        24, 155, 141,  49,   8,  36,  20,  32, 269,  72,  68,  56,   4,\n        60,  11, 108, 168, 112,   1,   5,  82,  44,  97,  66, 167,  14,\n        15,  12,  75,  31, 183,  46, 100,  86,  23,  48, 109,  76,  17,\n        59,  28,  52, 197, 130,  18, 196, 132,  43,  33, 255,  26, 129,\n       145,  87,  27, 348,  42,  57, 232,  16, 107, 199,  80, 110,  71,\n       207,  30,  62,   7,  10, 213, 153, 123, 106,  70,  34,  29, 133,\n        64,  25,  47,  50,  73, 185, 121,  41, 208,  51, 182,   3, 254,\n        21,  45, 138,  58, 104,  85,  74, 220,  90,  91, 206, 136, 149,\n       156,  77,  63,  94, 163, 122,  96, 279, 328], dtype=int64)"
     },
     "execution_count": 42,
     "metadata": {},
     "output_type": "execute_result"
    }
   ],
   "source": [
    "NBA['FTA'].unique()"
   ]
  },
  {
   "cell_type": "code",
   "execution_count": 43,
   "metadata": {},
   "outputs": [
    {
     "data": {
      "text/plain": "False"
     },
     "execution_count": 43,
     "metadata": {},
     "output_type": "execute_result"
    }
   ],
   "source": [
    "checkna = NBA['FTA'].isnull().values.any()\r\n",
    "checkna"
   ]
  },
  {
   "cell_type": "markdown",
   "metadata": {},
   "source": [
    "### Data Cleaning - FT%"
   ]
  },
  {
   "cell_type": "code",
   "execution_count": 44,
   "metadata": {},
   "outputs": [
    {
     "data": {
      "text/plain": "array([0.543,   nan, 0.443, 0.847, 0.838, 0.8  , 0.895, 0.741, 0.754,\n       0.733, 0.778, 0.762, 0.661, 0.5  , 0.462, 0.842, 0.836, 0.755,\n       0.889, 0.897, 0.579, 0.75 , 0.667, 0.826, 0.529, 0.802, 0.775,\n       0.875, 0.73 , 0.833, 0.704, 0.903, 0.7  , 0.853, 0.795, 0.857,\n       0.739, 0.769, 0.483, 0.789, 0.679, 0.909, 0.852, 0.625, 0.839,\n       0.759, 1.   , 0.6  , 0.841, 0.932, 0.717, 0.772, 0.933, 0.583,\n       0.871, 0.863, 0.   , 0.848, 0.811, 0.55 , 0.763, 0.696, 0.646,\n       0.66 , 0.967, 0.714, 0.333, 0.829, 0.824, 0.746, 0.821, 0.923,\n       0.934, 0.715, 0.893, 0.629, 0.884, 0.636, 0.757, 0.692, 0.731,\n       0.605, 0.597, 0.869, 0.805, 0.856, 0.786, 0.375, 0.79 , 0.672,\n       0.849, 0.806, 0.767, 0.888, 0.722, 0.794, 0.599, 0.708, 0.613,\n       0.65 , 0.711, 0.844, 0.796, 0.545, 0.71 , 0.758, 0.429, 0.859,\n       0.883, 0.85 , 0.756, 0.887, 0.588, 0.655, 0.684, 0.84 , 0.882,\n       0.725, 0.766, 0.82 , 0.53 , 0.877, 0.818, 0.56 , 0.886, 0.694,\n       0.25 , 0.865, 0.538, 0.782, 0.881, 0.615, 0.645, 0.651, 0.518,\n       0.771, 0.586, 0.867, 0.957, 0.632, 0.941, 0.571, 0.873, 0.765,\n       0.88 , 0.697, 0.858, 0.4  , 0.92 , 0.522, 0.609, 0.9  , 0.695,\n       0.787, 0.797, 0.2  , 0.905, 0.69 , 0.533, 0.812, 0.846, 0.914,\n       0.556, 0.747, 0.74 , 0.718, 0.954, 0.929, 0.743, 0.674, 0.319,\n       0.95 , 0.899, 0.808, 0.944, 0.942, 0.817, 0.948, 0.913, 0.478,\n       0.724, 0.851, 0.919, 0.831, 0.803, 0.868, 0.819, 0.671, 0.742,\n       0.719, 0.688, 0.896, 0.816, 0.783, 0.894, 0.744, 0.891, 0.517,\n       0.788, 0.641, 0.785, 0.878])"
     },
     "execution_count": 44,
     "metadata": {},
     "output_type": "execute_result"
    }
   ],
   "source": [
    "NBA['FT%'].unique()"
   ]
  },
  {
   "cell_type": "code",
   "execution_count": 45,
   "metadata": {},
   "outputs": [
    {
     "data": {
      "text/plain": "True"
     },
     "execution_count": 45,
     "metadata": {},
     "output_type": "execute_result"
    }
   ],
   "source": [
    "checkna = NBA['FT%'].isnull().values.any()\r\n",
    "checkna"
   ]
  },
  {
   "cell_type": "code",
   "execution_count": 46,
   "metadata": {},
   "outputs": [
    {
     "data": {
      "text/html": "<div>\n<style scoped>\n    .dataframe tbody tr th:only-of-type {\n        vertical-align: middle;\n    }\n\n    .dataframe tbody tr th {\n        vertical-align: top;\n    }\n\n    .dataframe thead th {\n        text-align: right;\n    }\n</style>\n<table border=\"1\" class=\"dataframe\">\n  <thead>\n    <tr style=\"text-align: right;\">\n      <th></th>\n      <th>FT</th>\n      <th>FTA</th>\n    </tr>\n    <tr>\n      <th>Rk</th>\n      <th></th>\n      <th></th>\n    </tr>\n  </thead>\n  <tbody>\n    <tr>\n      <th>2</th>\n      <td>0</td>\n      <td>0</td>\n    </tr>\n    <tr>\n      <th>6</th>\n      <td>0</td>\n      <td>0</td>\n    </tr>\n    <tr>\n      <th>39</th>\n      <td>0</td>\n      <td>0</td>\n    </tr>\n    <tr>\n      <th>50</th>\n      <td>0</td>\n      <td>0</td>\n    </tr>\n    <tr>\n      <th>55</th>\n      <td>0</td>\n      <td>0</td>\n    </tr>\n  </tbody>\n</table>\n</div>",
      "text/plain": "    FT  FTA\nRk         \n2    0    0\n6    0    0\n39   0    0\n50   0    0\n55   0    0"
     },
     "execution_count": 46,
     "metadata": {},
     "output_type": "execute_result"
    }
   ],
   "source": [
    "threePercent = NBA[NBA['FT%'].isnull()].head() #display location of null values\r\n",
    "threePercent[['FT','FTA']]"
   ]
  },
  {
   "cell_type": "code",
   "execution_count": 47,
   "metadata": {},
   "outputs": [
    {
     "data": {
      "text/plain": "False"
     },
     "execution_count": 47,
     "metadata": {},
     "output_type": "execute_result"
    }
   ],
   "source": [
    "NBA['FT%'] = NBA['FT%'].fillna(0)\r\n",
    "checkna = NBA['FT%'].isnull().values.any()\r\n",
    "checkna"
   ]
  },
  {
   "cell_type": "markdown",
   "metadata": {},
   "source": [
    "### Data Cleaning - ORB"
   ]
  },
  {
   "cell_type": "code",
   "execution_count": 48,
   "metadata": {},
   "outputs": [
    {
     "data": {
      "text/plain": "array([ 46,   0, 133,  72,  17,   5,   8, 111,  38,  73,   9,  28,  64,\n         2,  26,  19,  20,  33,  11,  13, 118,   4,  12,  83,  51,  45,\n        30,  54,  14,  22,  43,  27,  18,  90,  71,  16,   3,   6,  67,\n        21,   1,  47,  37,  10,  44,  15, 159,  48,  39,  29,  31,  76,\n        24,   7, 101,  65,  36,  23,  34,  25, 120,  41,  89,  53,  81,\n        91,  62,  58,  63, 146,  75,  49,  78,  42,  68,  32,  94,  95,\n        52,  97,  80, 105,  40,  93,  69,  66], dtype=int64)"
     },
     "execution_count": 48,
     "metadata": {},
     "output_type": "execute_result"
    }
   ],
   "source": [
    "NBA['ORB'].unique()"
   ]
  },
  {
   "cell_type": "code",
   "execution_count": 49,
   "metadata": {},
   "outputs": [
    {
     "data": {
      "text/plain": "False"
     },
     "execution_count": 49,
     "metadata": {},
     "output_type": "execute_result"
    }
   ],
   "source": [
    "checkna = NBA['ORB'].isnull().values.any()\r\n",
    "checkna"
   ]
  },
  {
   "cell_type": "markdown",
   "metadata": {},
   "source": [
    "### Data Cleaning - DRB"
   ]
  },
  {
   "cell_type": "code",
   "execution_count": 50,
   "metadata": {},
   "outputs": [
    {
     "data": {
      "text/plain": "array([ 95,   3, 161, 241,  77,   1,  61,  57, 235,  87, 148,  28, 155,\n       344,   6,  29,  94,  91,  99,  31,  35, 127, 282,   9, 175, 160,\n       117,  46,  68, 167, 176, 116,  14, 137, 125, 248, 131, 126,  11,\n        43,  80, 115,  97,  21, 113,  60, 108,   2,  36, 122,  20, 107,\n        16,   5, 130,  63, 103, 147, 112,  30,  96,   4,  26,  23, 294,\n        34,  55, 101,  13,  10,  66, 111,  12, 198,  73, 110, 191,  51,\n       174, 146,  59,  49, 120, 128,  70, 242,  64, 236,  15, 132, 118,\n        39, 283,  67,  37,  47,  92,  40,  90,  48,  76,  22, 141,  33,\n        83, 136, 352,  24, 104, 152, 165, 109,  27,   0,  78,   8,  93,\n       216, 180, 149, 199, 226,  58,   7, 140,  62,  86, 150,  82, 185,\n        42,  71, 173, 105,  81,  19, 184, 106, 163, 268,  17,  54, 296,\n        84, 269,  98,  50,  56,  65, 134,  69,  85,  44,  53,  38,  32,\n        52,  41, 190, 206, 102, 157, 144, 217, 139, 151, 188,  89, 357,\n       123, 129,  25, 298, 166,  72,  18, 201, 178, 171, 213, 133, 348,\n       219, 143], dtype=int64)"
     },
     "execution_count": 50,
     "metadata": {},
     "output_type": "execute_result"
    }
   ],
   "source": [
    "NBA['DRB'].unique()"
   ]
  },
  {
   "cell_type": "code",
   "execution_count": 51,
   "metadata": {},
   "outputs": [
    {
     "data": {
      "text/plain": "False"
     },
     "execution_count": 51,
     "metadata": {},
     "output_type": "execute_result"
    }
   ],
   "source": [
    "checkna = NBA['DRB'].isnull().values.any()\r\n",
    "checkna"
   ]
  },
  {
   "cell_type": "markdown",
   "metadata": {},
   "source": [
    "### Data Cleaning - TRB"
   ]
  },
  {
   "cell_type": "code",
   "execution_count": 52,
   "metadata": {},
   "outputs": [
    {
     "data": {
      "text/plain": "array([141,   3, 294, 313,  94,   1,  66,  65, 346, 125, 221,  37, 183,\n       408,   8,  55, 113, 111, 132,  33,  46, 140, 400,  13, 103, 258,\n       211, 137,  80, 200, 135,  19, 167, 179, 105, 270, 174, 153,  16,\n        54, 107, 133, 187,  32, 184, 124,   2,  38,  11,   6,  24,  44,\n       234,  18,  50,   7, 177, 158,  91, 154,  15, 134,  51,  61, 109,\n        34, 108, 166,  14,   5,  78,  31,  27, 453,  82,  95, 155, 144,\n        17, 274, 101, 191, 218,  42, 160,  90,  56, 193,  97,  58, 142,\n       165,  98, 169, 269, 121,  53,  73,  68, 337, 139,  47, 348,  93,\n        21,  12,  60, 128,   4,  25,  81,  26,  62, 143, 472,  75, 176,\n       188, 150, 118,  39, 104, 147,   0,   9, 242,  41, 201, 238, 131,\n       236, 264,  74,  89, 162,  29, 266,  87,  20, 246, 126, 185,  35,\n       289,  23, 115,  83,  69, 397, 149, 262, 106, 415, 117,  49, 240,\n        70,  52, 145,  45,  77,  92,  10, 114,  71,  85, 159,  63,  79,\n        76, 225, 129, 195, 244, 205, 208, 112, 311, 100, 255, 102, 409,\n       226, 163, 122, 127, 389,  28, 224, 245,  40, 196, 219, 170, 283,\n        48,  67, 175, 148, 216, 306, 151, 417,  72,  86, 263, 172, 136],\n      dtype=int64)"
     },
     "execution_count": 52,
     "metadata": {},
     "output_type": "execute_result"
    }
   ],
   "source": [
    "NBA['TRB'].unique()"
   ]
  },
  {
   "cell_type": "code",
   "execution_count": 53,
   "metadata": {},
   "outputs": [
    {
     "data": {
      "text/plain": "False"
     },
     "execution_count": 53,
     "metadata": {},
     "output_type": "execute_result"
    }
   ],
   "source": [
    "checkna = NBA['TRB'].isnull().values.any()\r\n",
    "checkna"
   ]
  },
  {
   "cell_type": "markdown",
   "metadata": {},
   "source": [
    "### Data Cleaning - AST"
   ]
  },
  {
   "cell_type": "code",
   "execution_count": 54,
   "metadata": {},
   "outputs": [
    {
     "data": {
      "text/plain": "array([ 20,   2,  69, 179,  36,   1,  54,  50,  60,  40,  15, 105, 205,\n         0,  18,  94,  38,  23, 103,  39,  59,  35,  33, 221, 168,   4,\n       118, 109, 102,   7,  84,  56, 151,  81,   5,  53,  28,  37,  48,\n        42, 134,  24,  70,  13, 137,  14,   6,  77,  73, 212,  76,  46,\n       129,   3,  55, 101,  51, 172,  47,  62,  29,  52,  25,  43,  82,\n         8, 164,  68,  16,  19,  32, 209,   9, 107, 287,  65,  22,  64,\n       100,  90,  98,  34,  21,  79, 265, 146, 187,  80, 142,  96,  61,\n       267,  10, 161,  12, 345,  83, 262, 104,  74, 121,  26, 114,  63,\n       133,  66,  27, 140, 155, 280,  41,  17, 309,  67,  85,  58,  30,\n       173,  72, 271, 204,  11,  45, 216, 113, 206, 183, 184,  31, 156,\n        49,  71,  75,  93, 300,  86, 122, 130,  44, 112,  78, 106, 218,\n       211, 148, 138, 143, 236,  57, 224,  91,  99, 171, 117, 141, 131,\n       321], dtype=int64)"
     },
     "execution_count": 54,
     "metadata": {},
     "output_type": "execute_result"
    }
   ],
   "source": [
    "NBA['AST'].unique()"
   ]
  },
  {
   "cell_type": "code",
   "execution_count": 55,
   "metadata": {},
   "outputs": [
    {
     "data": {
      "text/plain": "False"
     },
     "execution_count": 55,
     "metadata": {},
     "output_type": "execute_result"
    }
   ],
   "source": [
    "checkna = NBA['AST'].isnull().values.any()\r\n",
    "checkna"
   ]
  },
  {
   "cell_type": "markdown",
   "metadata": {},
   "source": [
    "### Data Cleaning - STL"
   ]
  },
  {
   "cell_type": "code",
   "execution_count": 56,
   "metadata": {},
   "outputs": [
    {
     "data": {
      "text/plain": "array([15,  0, 29,  8, 28, 23, 16,  7,  9, 36, 44,  1, 31, 17, 37,  5, 19,\n       20, 11, 18, 57, 43,  3, 26, 24, 25,  6, 42, 10, 30, 27, 21,  2,  4,\n       40, 41, 22, 13, 33, 34, 53, 12, 46, 38, 32, 14, 45, 47, 58, 35, 63,\n       52, 39, 49], dtype=int64)"
     },
     "execution_count": 56,
     "metadata": {},
     "output_type": "execute_result"
    }
   ],
   "source": [
    "NBA['STL'].unique()"
   ]
  },
  {
   "cell_type": "code",
   "execution_count": 57,
   "metadata": {},
   "outputs": [
    {
     "data": {
      "text/plain": "False"
     },
     "execution_count": 57,
     "metadata": {},
     "output_type": "execute_result"
    }
   ],
   "source": [
    "checkna = NBA['STL'].isnull().values.any()\r\n",
    "checkna"
   ]
  },
  {
   "cell_type": "markdown",
   "metadata": {},
   "source": [
    "### Data Cleaning - BLK"
   ]
  },
  {
   "cell_type": "code",
   "execution_count": 58,
   "metadata": {},
   "outputs": [
    {
     "data": {
      "text/plain": "array([ 19,   0,  20,  34,  18,   9,   3,  59,  40,   5,  21,  49,   2,\n         6,  27,  11,  17,   1,  38,   4,  16,  13,   8,  14,  23,   7,\n        22,  25,  15,  10,  69,  33,  71,  35,  39,  41,  12,  29,  31,\n        32,  45,  98,  36,  28,  26,  48,  46,  51,  30,  65,  50, 111,\n        42,  24], dtype=int64)"
     },
     "execution_count": 58,
     "metadata": {},
     "output_type": "execute_result"
    }
   ],
   "source": [
    "NBA['BLK'].unique()"
   ]
  },
  {
   "cell_type": "code",
   "execution_count": 59,
   "metadata": {},
   "outputs": [
    {
     "data": {
      "text/plain": "False"
     },
     "execution_count": 59,
     "metadata": {},
     "output_type": "execute_result"
    }
   ],
   "source": [
    "checkna = NBA['BLK'].isnull().values.any()\r\n",
    "checkna"
   ]
  },
  {
   "cell_type": "markdown",
   "metadata": {},
   "source": [
    "### Data Cleaning - TOV"
   ]
  },
  {
   "cell_type": "code",
   "execution_count": 60,
   "metadata": {},
   "outputs": [
    {
     "data": {
      "text/plain": "array([ 32,   0,  50,  98,  20,  21,  54,  22,  10,  46, 128,   5,  19,\n        35,  51,  38,   4,  30,  24,  61,   3,  26,  47,  99,  66,   7,\n        29,  70,  55,   1,  63, 105,  27,  18,  23,   8,  56,  13,   2,\n         9, 103,  60,  71,  59,  93,  25,  12,  11,  34,  43,  16,  15,\n        62,  48,  39,  40,  41, 111,  45,   6,  49, 133,  52,  81,  67,\n        96, 115,  82,  91,  87,  64,  53,  84,  28, 131,  97,  14,  58,\n        17,  42,  36,  74, 135, 114,  37,  33,  94, 101,  69,  78,  72,\n        31, 120,  68, 119,  77,  65, 104,  79,  44,  83, 130,  80,  57,\n        88, 149], dtype=int64)"
     },
     "execution_count": 60,
     "metadata": {},
     "output_type": "execute_result"
    }
   ],
   "source": [
    "NBA['TOV'].unique()"
   ]
  },
  {
   "cell_type": "markdown",
   "metadata": {},
   "source": [
    "### Data Cleaning - TRB"
   ]
  },
  {
   "cell_type": "code",
   "execution_count": 61,
   "metadata": {},
   "outputs": [
    {
     "data": {
      "text/plain": "False"
     },
     "execution_count": 61,
     "metadata": {},
     "output_type": "execute_result"
    }
   ],
   "source": [
    "checkna = NBA['TRB'].isnull().values.any()\r\n",
    "checkna"
   ]
  },
  {
   "cell_type": "markdown",
   "metadata": {},
   "source": [
    "### Data Cleaning - PF"
   ]
  },
  {
   "cell_type": "code",
   "execution_count": 62,
   "metadata": {},
   "outputs": [
    {
     "data": {
      "text/plain": "array([ 58,   1,  63,  80,  36,  44,  30,  55,  21,  34,   9,  54, 106,\n         3,  33,  72,  51,  64,  16,  27,  75, 110,   8,  57,  82,  95,\n        71,  43,  96,   5,  59,  77,  31,   4,  90,   2,  26,  81,   0,\n        11,  93,  98,  56,  83,  69,  25,  45,  41,  48,   6,  73,  74,\n        50, 118,  52,  85,  23,  40,  42,  49,  46,  38,  53,   7,  18,\n        19,  10,  17,  67,  12,  39, 102,  14,  62,  47,  60,  66, 100,\n        68,  29,  61,  37,  87,  15,  78, 127, 105,  20,  94,  24,  65,\n        13, 107,  22,  76,  28,  92,  32,  84, 120,  70, 115, 104,  88,\n        35,  91, 117,  79,  86, 228], dtype=int64)"
     },
     "execution_count": 62,
     "metadata": {},
     "output_type": "execute_result"
    }
   ],
   "source": [
    "NBA['PF'].unique()"
   ]
  },
  {
   "cell_type": "code",
   "execution_count": 63,
   "metadata": {},
   "outputs": [
    {
     "data": {
      "text/plain": "False"
     },
     "execution_count": 63,
     "metadata": {},
     "output_type": "execute_result"
    }
   ],
   "source": [
    "checkna = NBA['PF'].isnull().values.any()\r\n",
    "checkna"
   ]
  },
  {
   "cell_type": "markdown",
   "metadata": {},
   "source": [
    "### Data Cleaning - PTS"
   ]
  },
  {
   "cell_type": "code",
   "execution_count": 64,
   "metadata": {},
   "outputs": [
    {
     "data": {
      "text/html": "<div>\n<style scoped>\n    .dataframe tbody tr th:only-of-type {\n        vertical-align: middle;\n    }\n\n    .dataframe tbody tr th {\n        vertical-align: top;\n    }\n\n    .dataframe thead th {\n        text-align: right;\n    }\n</style>\n<table border=\"1\" class=\"dataframe\">\n  <thead>\n    <tr style=\"text-align: right;\">\n      <th></th>\n      <th>Player</th>\n      <th>Pos</th>\n      <th>Age</th>\n      <th>Tm</th>\n      <th>G</th>\n      <th>GS</th>\n      <th>MP</th>\n      <th>FG</th>\n      <th>FGA</th>\n      <th>FG%</th>\n      <th>...</th>\n      <th>FT%</th>\n      <th>ORB</th>\n      <th>DRB</th>\n      <th>TRB</th>\n      <th>AST</th>\n      <th>STL</th>\n      <th>BLK</th>\n      <th>TOV</th>\n      <th>PF</th>\n      <th>PTS</th>\n    </tr>\n    <tr>\n      <th>Rk</th>\n      <th></th>\n      <th></th>\n      <th></th>\n      <th></th>\n      <th></th>\n      <th></th>\n      <th></th>\n      <th></th>\n      <th></th>\n      <th></th>\n      <th></th>\n      <th></th>\n      <th></th>\n      <th></th>\n      <th></th>\n      <th></th>\n      <th></th>\n      <th></th>\n      <th></th>\n      <th></th>\n      <th></th>\n    </tr>\n  </thead>\n  <tbody>\n    <tr>\n      <th>2</th>\n      <td>Jaylen Adams</td>\n      <td>PG</td>\n      <td>24</td>\n      <td>MIL</td>\n      <td>7</td>\n      <td>0</td>\n      <td>18</td>\n      <td>1</td>\n      <td>8</td>\n      <td>0.125</td>\n      <td>...</td>\n      <td>0.000</td>\n      <td>0</td>\n      <td>3</td>\n      <td>3</td>\n      <td>2</td>\n      <td>0</td>\n      <td>0</td>\n      <td>0</td>\n      <td>1</td>\n      <td>20000</td>\n    </tr>\n    <tr>\n      <th>5</th>\n      <td>LaMarcus Aldridge</td>\n      <td>C</td>\n      <td>35</td>\n      <td>SAS</td>\n      <td>21</td>\n      <td>18</td>\n      <td>544</td>\n      <td>115</td>\n      <td>248</td>\n      <td>0.464</td>\n      <td>...</td>\n      <td>0.838</td>\n      <td>17</td>\n      <td>77</td>\n      <td>94</td>\n      <td>36</td>\n      <td>8</td>\n      <td>18</td>\n      <td>20</td>\n      <td>36</td>\n      <td>28800</td>\n    </tr>\n  </tbody>\n</table>\n<p>2 rows × 28 columns</p>\n</div>",
      "text/plain": "               Player Pos  Age   Tm   G  GS   MP   FG  FGA    FG%  ...    FT%  \\\nRk                                                                 ...          \n2        Jaylen Adams  PG   24  MIL   7   0   18    1    8  0.125  ...  0.000   \n5   LaMarcus Aldridge   C   35  SAS  21  18  544  115  248  0.464  ...  0.838   \n\n    ORB  DRB  TRB  AST  STL  BLK  TOV  PF    PTS  \nRk                                                \n2     0    3    3    2    0    0    0   1  20000  \n5    17   77   94   36    8   18   20  36  28800  \n\n[2 rows x 28 columns]"
     },
     "execution_count": 64,
     "metadata": {},
     "output_type": "execute_result"
    }
   ],
   "source": [
    "NBA.loc[NBA['PTS'] > 2000]"
   ]
  },
  {
   "cell_type": "code",
   "execution_count": 65,
   "metadata": {},
   "outputs": [],
   "source": [
    "NBA.loc[NBA['PTS'] > 2000, 'PTS'] = list((NBA.loc[NBA['PTS'] > 2000].PTS/100).astype(int)) #recalculate the player's PTS if their PTS is over 2000"
   ]
  },
  {
   "cell_type": "code",
   "execution_count": 66,
   "metadata": {},
   "outputs": [
    {
     "data": {
      "text/plain": "False"
     },
     "execution_count": 66,
     "metadata": {},
     "output_type": "execute_result"
    }
   ],
   "source": [
    "checkna = NBA['PTS'].isnull().values.any()\n",
    "checkna"
   ]
  },
  {
   "cell_type": "markdown",
   "metadata": {},
   "source": [
    "To clean duplicate player data, add their int and float values thoughout the season and pick their current team and position."
   ]
  },
  {
   "cell_type": "code",
   "execution_count": 67,
   "metadata": {
    "scrolled": true
   },
   "outputs": [
    {
     "data": {
      "text/html": "<div>\n<style scoped>\n    .dataframe tbody tr th:only-of-type {\n        vertical-align: middle;\n    }\n\n    .dataframe tbody tr th {\n        vertical-align: top;\n    }\n\n    .dataframe thead th {\n        text-align: right;\n    }\n</style>\n<table border=\"1\" class=\"dataframe\">\n  <thead>\n    <tr style=\"text-align: right;\">\n      <th></th>\n      <th>Player</th>\n      <th>Age</th>\n      <th>Pos</th>\n      <th>Tm</th>\n      <th>G</th>\n      <th>GS</th>\n      <th>MP</th>\n      <th>FG</th>\n      <th>FGA</th>\n      <th>FG%</th>\n      <th>...</th>\n      <th>FT%</th>\n      <th>ORB</th>\n      <th>DRB</th>\n      <th>TRB</th>\n      <th>AST</th>\n      <th>STL</th>\n      <th>BLK</th>\n      <th>TOV</th>\n      <th>PF</th>\n      <th>PTS</th>\n    </tr>\n    <tr>\n      <th>Rk</th>\n      <th></th>\n      <th></th>\n      <th></th>\n      <th></th>\n      <th></th>\n      <th></th>\n      <th></th>\n      <th></th>\n      <th></th>\n      <th></th>\n      <th></th>\n      <th></th>\n      <th></th>\n      <th></th>\n      <th></th>\n      <th></th>\n      <th></th>\n      <th></th>\n      <th></th>\n      <th></th>\n      <th></th>\n    </tr>\n  </thead>\n  <tbody>\n    <tr>\n      <th>1</th>\n      <td>Precious Achiuwa</td>\n      <td>21</td>\n      <td>PF</td>\n      <td>MIA</td>\n      <td>35</td>\n      <td>2</td>\n      <td>491</td>\n      <td>84</td>\n      <td>145</td>\n      <td>0.579</td>\n      <td>...</td>\n      <td>0.543</td>\n      <td>46</td>\n      <td>95</td>\n      <td>141</td>\n      <td>20</td>\n      <td>15</td>\n      <td>19</td>\n      <td>32</td>\n      <td>58</td>\n      <td>212</td>\n    </tr>\n    <tr>\n      <th>2</th>\n      <td>Jaylen Adams</td>\n      <td>24</td>\n      <td>PG</td>\n      <td>MIL</td>\n      <td>7</td>\n      <td>0</td>\n      <td>18</td>\n      <td>1</td>\n      <td>8</td>\n      <td>0.125</td>\n      <td>...</td>\n      <td>0.000</td>\n      <td>0</td>\n      <td>3</td>\n      <td>3</td>\n      <td>2</td>\n      <td>0</td>\n      <td>0</td>\n      <td>0</td>\n      <td>1</td>\n      <td>200</td>\n    </tr>\n    <tr>\n      <th>3</th>\n      <td>Steven Adams</td>\n      <td>27</td>\n      <td>C</td>\n      <td>NOP</td>\n      <td>33</td>\n      <td>33</td>\n      <td>918</td>\n      <td>115</td>\n      <td>187</td>\n      <td>0.615</td>\n      <td>...</td>\n      <td>0.443</td>\n      <td>133</td>\n      <td>161</td>\n      <td>294</td>\n      <td>69</td>\n      <td>29</td>\n      <td>20</td>\n      <td>50</td>\n      <td>63</td>\n      <td>265</td>\n    </tr>\n    <tr>\n      <th>4</th>\n      <td>Bam Adebayo</td>\n      <td>23</td>\n      <td>C</td>\n      <td>MIA</td>\n      <td>33</td>\n      <td>33</td>\n      <td>1119</td>\n      <td>236</td>\n      <td>419</td>\n      <td>0.563</td>\n      <td>...</td>\n      <td>0.847</td>\n      <td>72</td>\n      <td>241</td>\n      <td>313</td>\n      <td>179</td>\n      <td>29</td>\n      <td>34</td>\n      <td>98</td>\n      <td>80</td>\n      <td>634</td>\n    </tr>\n    <tr>\n      <th>5</th>\n      <td>LaMarcus Aldridge</td>\n      <td>35</td>\n      <td>C</td>\n      <td>SAS</td>\n      <td>21</td>\n      <td>18</td>\n      <td>544</td>\n      <td>115</td>\n      <td>248</td>\n      <td>0.464</td>\n      <td>...</td>\n      <td>0.838</td>\n      <td>17</td>\n      <td>77</td>\n      <td>94</td>\n      <td>36</td>\n      <td>8</td>\n      <td>18</td>\n      <td>20</td>\n      <td>36</td>\n      <td>288</td>\n    </tr>\n    <tr>\n      <th>6</th>\n      <td>Ty-Shon Alexander</td>\n      <td>22</td>\n      <td>SG</td>\n      <td>PHO</td>\n      <td>3</td>\n      <td>0</td>\n      <td>8</td>\n      <td>0</td>\n      <td>3</td>\n      <td>0.000</td>\n      <td>...</td>\n      <td>0.000</td>\n      <td>0</td>\n      <td>1</td>\n      <td>1</td>\n      <td>1</td>\n      <td>0</td>\n      <td>0</td>\n      <td>0</td>\n      <td>1</td>\n      <td>0</td>\n    </tr>\n    <tr>\n      <th>7</th>\n      <td>Nickeil Alexander-Walker</td>\n      <td>22</td>\n      <td>SG</td>\n      <td>NOP</td>\n      <td>28</td>\n      <td>3</td>\n      <td>495</td>\n      <td>86</td>\n      <td>211</td>\n      <td>0.408</td>\n      <td>...</td>\n      <td>0.800</td>\n      <td>5</td>\n      <td>61</td>\n      <td>66</td>\n      <td>54</td>\n      <td>28</td>\n      <td>9</td>\n      <td>32</td>\n      <td>44</td>\n      <td>230</td>\n    </tr>\n    <tr>\n      <th>8</th>\n      <td>Grayson Allen</td>\n      <td>25</td>\n      <td>SG</td>\n      <td>MEM</td>\n      <td>23</td>\n      <td>12</td>\n      <td>551</td>\n      <td>67</td>\n      <td>164</td>\n      <td>0.409</td>\n      <td>...</td>\n      <td>0.895</td>\n      <td>8</td>\n      <td>57</td>\n      <td>65</td>\n      <td>50</td>\n      <td>23</td>\n      <td>3</td>\n      <td>21</td>\n      <td>30</td>\n      <td>214</td>\n    </tr>\n    <tr>\n      <th>9</th>\n      <td>Jarrett Allen</td>\n      <td>22</td>\n      <td>C</td>\n      <td>CLE</td>\n      <td>70</td>\n      <td>34</td>\n      <td>1954</td>\n      <td>344</td>\n      <td>514</td>\n      <td>2.013</td>\n      <td>...</td>\n      <td>2.228</td>\n      <td>222</td>\n      <td>470</td>\n      <td>692</td>\n      <td>120</td>\n      <td>32</td>\n      <td>118</td>\n      <td>108</td>\n      <td>110</td>\n      <td>942</td>\n    </tr>\n    <tr>\n      <th>10</th>\n      <td>Al-Farouq Aminu</td>\n      <td>30</td>\n      <td>PF</td>\n      <td>ORL</td>\n      <td>9</td>\n      <td>6</td>\n      <td>163</td>\n      <td>17</td>\n      <td>43</td>\n      <td>0.395</td>\n      <td>...</td>\n      <td>0.778</td>\n      <td>9</td>\n      <td>28</td>\n      <td>37</td>\n      <td>15</td>\n      <td>8</td>\n      <td>5</td>\n      <td>10</td>\n      <td>9</td>\n      <td>47</td>\n    </tr>\n    <tr>\n      <th>11</th>\n      <td>Kyle Anderson</td>\n      <td>27</td>\n      <td>PF</td>\n      <td>MEM</td>\n      <td>30</td>\n      <td>30</td>\n      <td>829</td>\n      <td>146</td>\n      <td>306</td>\n      <td>0.477</td>\n      <td>...</td>\n      <td>0.762</td>\n      <td>28</td>\n      <td>155</td>\n      <td>183</td>\n      <td>105</td>\n      <td>36</td>\n      <td>21</td>\n      <td>46</td>\n      <td>54</td>\n      <td>402</td>\n    </tr>\n    <tr>\n      <th>12</th>\n      <td>Giannis Antetokounmpo</td>\n      <td>26</td>\n      <td>PF</td>\n      <td>MIL</td>\n      <td>35</td>\n      <td>35</td>\n      <td>1189</td>\n      <td>368</td>\n      <td>661</td>\n      <td>0.557</td>\n      <td>...</td>\n      <td>0.661</td>\n      <td>64</td>\n      <td>344</td>\n      <td>408</td>\n      <td>205</td>\n      <td>44</td>\n      <td>49</td>\n      <td>128</td>\n      <td>106</td>\n      <td>1015</td>\n    </tr>\n    <tr>\n      <th>13</th>\n      <td>Kostas Antetokounmpo</td>\n      <td>23</td>\n      <td>PF</td>\n      <td>LAL</td>\n      <td>3</td>\n      <td>0</td>\n      <td>19</td>\n      <td>1</td>\n      <td>3</td>\n      <td>0.333</td>\n      <td>...</td>\n      <td>0.500</td>\n      <td>2</td>\n      <td>6</td>\n      <td>8</td>\n      <td>0</td>\n      <td>1</td>\n      <td>2</td>\n      <td>5</td>\n      <td>3</td>\n      <td>3</td>\n    </tr>\n    <tr>\n      <th>14</th>\n      <td>Thanasis Antetokounmpo</td>\n      <td>28</td>\n      <td>SF</td>\n      <td>MIL</td>\n      <td>26</td>\n      <td>0</td>\n      <td>227</td>\n      <td>26</td>\n      <td>43</td>\n      <td>0.605</td>\n      <td>...</td>\n      <td>0.462</td>\n      <td>26</td>\n      <td>29</td>\n      <td>55</td>\n      <td>18</td>\n      <td>8</td>\n      <td>6</td>\n      <td>19</td>\n      <td>33</td>\n      <td>60</td>\n    </tr>\n    <tr>\n      <th>15</th>\n      <td>Carmelo Anthony</td>\n      <td>36</td>\n      <td>PF</td>\n      <td>POR</td>\n      <td>34</td>\n      <td>3</td>\n      <td>870</td>\n      <td>166</td>\n      <td>402</td>\n      <td>0.413</td>\n      <td>...</td>\n      <td>0.842</td>\n      <td>19</td>\n      <td>94</td>\n      <td>113</td>\n      <td>50</td>\n      <td>31</td>\n      <td>27</td>\n      <td>35</td>\n      <td>72</td>\n      <td>472</td>\n    </tr>\n    <tr>\n      <th>16</th>\n      <td>Cole Anthony</td>\n      <td>20</td>\n      <td>PG</td>\n      <td>ORL</td>\n      <td>25</td>\n      <td>17</td>\n      <td>667</td>\n      <td>101</td>\n      <td>269</td>\n      <td>0.375</td>\n      <td>...</td>\n      <td>0.836</td>\n      <td>20</td>\n      <td>91</td>\n      <td>111</td>\n      <td>94</td>\n      <td>17</td>\n      <td>11</td>\n      <td>51</td>\n      <td>51</td>\n      <td>275</td>\n    </tr>\n    <tr>\n      <th>17</th>\n      <td>OG Anunoby</td>\n      <td>23</td>\n      <td>SF</td>\n      <td>TOR</td>\n      <td>23</td>\n      <td>23</td>\n      <td>769</td>\n      <td>114</td>\n      <td>238</td>\n      <td>0.479</td>\n      <td>...</td>\n      <td>0.755</td>\n      <td>33</td>\n      <td>99</td>\n      <td>132</td>\n      <td>38</td>\n      <td>37</td>\n      <td>17</td>\n      <td>38</td>\n      <td>64</td>\n      <td>317</td>\n    </tr>\n    <tr>\n      <th>18</th>\n      <td>Ryan Arcidiacono</td>\n      <td>26</td>\n      <td>PG</td>\n      <td>CHI</td>\n      <td>18</td>\n      <td>0</td>\n      <td>198</td>\n      <td>21</td>\n      <td>50</td>\n      <td>0.420</td>\n      <td>...</td>\n      <td>0.889</td>\n      <td>2</td>\n      <td>31</td>\n      <td>33</td>\n      <td>23</td>\n      <td>5</td>\n      <td>0</td>\n      <td>4</td>\n      <td>16</td>\n      <td>61</td>\n    </tr>\n    <tr>\n      <th>19</th>\n      <td>D.J. Augustin</td>\n      <td>33</td>\n      <td>PG</td>\n      <td>MIL</td>\n      <td>34</td>\n      <td>6</td>\n      <td>664</td>\n      <td>64</td>\n      <td>183</td>\n      <td>0.350</td>\n      <td>...</td>\n      <td>0.897</td>\n      <td>11</td>\n      <td>35</td>\n      <td>46</td>\n      <td>103</td>\n      <td>19</td>\n      <td>1</td>\n      <td>30</td>\n      <td>27</td>\n      <td>208</td>\n    </tr>\n    <tr>\n      <th>20</th>\n      <td>Deni Avdija</td>\n      <td>20</td>\n      <td>SF</td>\n      <td>WAS</td>\n      <td>30</td>\n      <td>16</td>\n      <td>646</td>\n      <td>68</td>\n      <td>157</td>\n      <td>0.433</td>\n      <td>...</td>\n      <td>0.579</td>\n      <td>13</td>\n      <td>127</td>\n      <td>140</td>\n      <td>39</td>\n      <td>20</td>\n      <td>6</td>\n      <td>24</td>\n      <td>75</td>\n      <td>178</td>\n    </tr>\n    <tr>\n      <th>21</th>\n      <td>Deandre Ayton</td>\n      <td>22</td>\n      <td>C</td>\n      <td>PHO</td>\n      <td>35</td>\n      <td>35</td>\n      <td>1088</td>\n      <td>218</td>\n      <td>367</td>\n      <td>0.594</td>\n      <td>...</td>\n      <td>0.750</td>\n      <td>118</td>\n      <td>282</td>\n      <td>400</td>\n      <td>59</td>\n      <td>11</td>\n      <td>38</td>\n      <td>61</td>\n      <td>110</td>\n      <td>506</td>\n    </tr>\n    <tr>\n      <th>22</th>\n      <td>Udoka Azubuike</td>\n      <td>21</td>\n      <td>C</td>\n      <td>UTA</td>\n      <td>12</td>\n      <td>0</td>\n      <td>49</td>\n      <td>4</td>\n      <td>7</td>\n      <td>0.571</td>\n      <td>...</td>\n      <td>0.667</td>\n      <td>4</td>\n      <td>9</td>\n      <td>13</td>\n      <td>0</td>\n      <td>1</td>\n      <td>4</td>\n      <td>3</td>\n      <td>8</td>\n      <td>12</td>\n    </tr>\n    <tr>\n      <th>23</th>\n      <td>Dwayne Bacon</td>\n      <td>25</td>\n      <td>SG</td>\n      <td>ORL</td>\n      <td>36</td>\n      <td>23</td>\n      <td>886</td>\n      <td>136</td>\n      <td>329</td>\n      <td>0.413</td>\n      <td>...</td>\n      <td>0.826</td>\n      <td>12</td>\n      <td>91</td>\n      <td>103</td>\n      <td>35</td>\n      <td>23</td>\n      <td>3</td>\n      <td>26</td>\n      <td>57</td>\n      <td>363</td>\n    </tr>\n    <tr>\n      <th>24</th>\n      <td>Marvin Bagley III</td>\n      <td>21</td>\n      <td>PF</td>\n      <td>SAC</td>\n      <td>34</td>\n      <td>34</td>\n      <td>888</td>\n      <td>195</td>\n      <td>390</td>\n      <td>0.500</td>\n      <td>...</td>\n      <td>0.529</td>\n      <td>83</td>\n      <td>175</td>\n      <td>258</td>\n      <td>33</td>\n      <td>18</td>\n      <td>16</td>\n      <td>47</td>\n      <td>82</td>\n      <td>478</td>\n    </tr>\n    <tr>\n      <th>25</th>\n      <td>LaMelo Ball</td>\n      <td>19</td>\n      <td>PG</td>\n      <td>CHO</td>\n      <td>35</td>\n      <td>15</td>\n      <td>1010</td>\n      <td>201</td>\n      <td>448</td>\n      <td>0.449</td>\n      <td>...</td>\n      <td>0.802</td>\n      <td>51</td>\n      <td>160</td>\n      <td>211</td>\n      <td>221</td>\n      <td>57</td>\n      <td>13</td>\n      <td>99</td>\n      <td>95</td>\n      <td>553</td>\n    </tr>\n    <tr>\n      <th>26</th>\n      <td>Lonzo Ball</td>\n      <td>23</td>\n      <td>PG</td>\n      <td>NOP</td>\n      <td>33</td>\n      <td>33</td>\n      <td>1048</td>\n      <td>175</td>\n      <td>409</td>\n      <td>0.428</td>\n      <td>...</td>\n      <td>0.775</td>\n      <td>20</td>\n      <td>117</td>\n      <td>137</td>\n      <td>168</td>\n      <td>43</td>\n      <td>18</td>\n      <td>66</td>\n      <td>71</td>\n      <td>480</td>\n    </tr>\n    <tr>\n      <th>27</th>\n      <td>Mo Bamba</td>\n      <td>22</td>\n      <td>C</td>\n      <td>ORL</td>\n      <td>17</td>\n      <td>0</td>\n      <td>161</td>\n      <td>35</td>\n      <td>67</td>\n      <td>0.522</td>\n      <td>...</td>\n      <td>0.667</td>\n      <td>19</td>\n      <td>46</td>\n      <td>65</td>\n      <td>4</td>\n      <td>3</td>\n      <td>13</td>\n      <td>7</td>\n      <td>21</td>\n      <td>81</td>\n    </tr>\n    <tr>\n      <th>28</th>\n      <td>Desmond Bane</td>\n      <td>22</td>\n      <td>SG</td>\n      <td>MEM</td>\n      <td>28</td>\n      <td>6</td>\n      <td>639</td>\n      <td>100</td>\n      <td>209</td>\n      <td>0.478</td>\n      <td>...</td>\n      <td>0.875</td>\n      <td>12</td>\n      <td>68</td>\n      <td>80</td>\n      <td>38</td>\n      <td>20</td>\n      <td>4</td>\n      <td>29</td>\n      <td>54</td>\n      <td>268</td>\n    </tr>\n    <tr>\n      <th>29</th>\n      <td>Harrison Barnes</td>\n      <td>28</td>\n      <td>PF</td>\n      <td>SAC</td>\n      <td>33</td>\n      <td>33</td>\n      <td>1179</td>\n      <td>184</td>\n      <td>374</td>\n      <td>0.492</td>\n      <td>...</td>\n      <td>0.826</td>\n      <td>33</td>\n      <td>167</td>\n      <td>200</td>\n      <td>118</td>\n      <td>26</td>\n      <td>6</td>\n      <td>47</td>\n      <td>43</td>\n      <td>552</td>\n    </tr>\n    <tr>\n      <th>30</th>\n      <td>RJ Barrett</td>\n      <td>20</td>\n      <td>SG</td>\n      <td>NYK</td>\n      <td>37</td>\n      <td>37</td>\n      <td>1227</td>\n      <td>233</td>\n      <td>526</td>\n      <td>0.443</td>\n      <td>...</td>\n      <td>0.730</td>\n      <td>45</td>\n      <td>176</td>\n      <td>221</td>\n      <td>109</td>\n      <td>24</td>\n      <td>8</td>\n      <td>70</td>\n      <td>96</td>\n      <td>612</td>\n    </tr>\n  </tbody>\n</table>\n<p>30 rows × 28 columns</p>\n</div>",
      "text/plain": "                      Player  Age Pos   Tm   G  GS    MP   FG  FGA    FG%  \\\nRk                                                                          \n1           Precious Achiuwa   21  PF  MIA  35   2   491   84  145  0.579   \n2               Jaylen Adams   24  PG  MIL   7   0    18    1    8  0.125   \n3               Steven Adams   27   C  NOP  33  33   918  115  187  0.615   \n4                Bam Adebayo   23   C  MIA  33  33  1119  236  419  0.563   \n5          LaMarcus Aldridge   35   C  SAS  21  18   544  115  248  0.464   \n6          Ty-Shon Alexander   22  SG  PHO   3   0     8    0    3  0.000   \n7   Nickeil Alexander-Walker   22  SG  NOP  28   3   495   86  211  0.408   \n8              Grayson Allen   25  SG  MEM  23  12   551   67  164  0.409   \n9              Jarrett Allen   22   C  CLE  70  34  1954  344  514  2.013   \n10           Al-Farouq Aminu   30  PF  ORL   9   6   163   17   43  0.395   \n11             Kyle Anderson   27  PF  MEM  30  30   829  146  306  0.477   \n12     Giannis Antetokounmpo   26  PF  MIL  35  35  1189  368  661  0.557   \n13      Kostas Antetokounmpo   23  PF  LAL   3   0    19    1    3  0.333   \n14    Thanasis Antetokounmpo   28  SF  MIL  26   0   227   26   43  0.605   \n15           Carmelo Anthony   36  PF  POR  34   3   870  166  402  0.413   \n16              Cole Anthony   20  PG  ORL  25  17   667  101  269  0.375   \n17                OG Anunoby   23  SF  TOR  23  23   769  114  238  0.479   \n18          Ryan Arcidiacono   26  PG  CHI  18   0   198   21   50  0.420   \n19             D.J. Augustin   33  PG  MIL  34   6   664   64  183  0.350   \n20               Deni Avdija   20  SF  WAS  30  16   646   68  157  0.433   \n21             Deandre Ayton   22   C  PHO  35  35  1088  218  367  0.594   \n22            Udoka Azubuike   21   C  UTA  12   0    49    4    7  0.571   \n23              Dwayne Bacon   25  SG  ORL  36  23   886  136  329  0.413   \n24         Marvin Bagley III   21  PF  SAC  34  34   888  195  390  0.500   \n25               LaMelo Ball   19  PG  CHO  35  15  1010  201  448  0.449   \n26                Lonzo Ball   23  PG  NOP  33  33  1048  175  409  0.428   \n27                  Mo Bamba   22   C  ORL  17   0   161   35   67  0.522   \n28              Desmond Bane   22  SG  MEM  28   6   639  100  209  0.478   \n29           Harrison Barnes   28  PF  SAC  33  33  1179  184  374  0.492   \n30                RJ Barrett   20  SG  NYK  37  37  1227  233  526  0.443   \n\n    ...    FT%  ORB  DRB  TRB  AST  STL  BLK  TOV   PF   PTS  \nRk  ...                                                       \n1   ...  0.543   46   95  141   20   15   19   32   58   212  \n2   ...  0.000    0    3    3    2    0    0    0    1   200  \n3   ...  0.443  133  161  294   69   29   20   50   63   265  \n4   ...  0.847   72  241  313  179   29   34   98   80   634  \n5   ...  0.838   17   77   94   36    8   18   20   36   288  \n6   ...  0.000    0    1    1    1    0    0    0    1     0  \n7   ...  0.800    5   61   66   54   28    9   32   44   230  \n8   ...  0.895    8   57   65   50   23    3   21   30   214  \n9   ...  2.228  222  470  692  120   32  118  108  110   942  \n10  ...  0.778    9   28   37   15    8    5   10    9    47  \n11  ...  0.762   28  155  183  105   36   21   46   54   402  \n12  ...  0.661   64  344  408  205   44   49  128  106  1015  \n13  ...  0.500    2    6    8    0    1    2    5    3     3  \n14  ...  0.462   26   29   55   18    8    6   19   33    60  \n15  ...  0.842   19   94  113   50   31   27   35   72   472  \n16  ...  0.836   20   91  111   94   17   11   51   51   275  \n17  ...  0.755   33   99  132   38   37   17   38   64   317  \n18  ...  0.889    2   31   33   23    5    0    4   16    61  \n19  ...  0.897   11   35   46  103   19    1   30   27   208  \n20  ...  0.579   13  127  140   39   20    6   24   75   178  \n21  ...  0.750  118  282  400   59   11   38   61  110   506  \n22  ...  0.667    4    9   13    0    1    4    3    8    12  \n23  ...  0.826   12   91  103   35   23    3   26   57   363  \n24  ...  0.529   83  175  258   33   18   16   47   82   478  \n25  ...  0.802   51  160  211  221   57   13   99   95   553  \n26  ...  0.775   20  117  137  168   43   18   66   71   480  \n27  ...  0.667   19   46   65    4    3   13    7   21    81  \n28  ...  0.875   12   68   80   38   20    4   29   54   268  \n29  ...  0.826   33  167  200  118   26    6   47   43   552  \n30  ...  0.730   45  176  221  109   24    8   70   96   612  \n\n[30 rows x 28 columns]"
     },
     "execution_count": 67,
     "metadata": {},
     "output_type": "execute_result"
    }
   ],
   "source": [
    "NBA = NBA.groupby(['Rk','Player','Age']).agg({\r\n",
    " 'Pos':','.join,\r\n",
    " 'Tm': ','.join,\r\n",
    " 'G':'sum',\r\n",
    " 'GS':'sum',\r\n",
    " 'MP':'sum',\r\n",
    " 'FG':'sum',\r\n",
    " 'FGA':'sum',\r\n",
    " 'FG%':'sum',\r\n",
    " '3P':'sum',\r\n",
    " '3PA':'sum',\r\n",
    " '3P%':'sum',\r\n",
    " '2P':'sum',\r\n",
    " '2PA':'sum',\r\n",
    " '2P%':'sum',\r\n",
    " 'FT':'sum',\r\n",
    " 'FTA':'sum',\r\n",
    " 'FT%':'sum',\r\n",
    " 'ORB':'sum',\r\n",
    " 'DRB':'sum',\r\n",
    " 'TRB':'sum',\r\n",
    " 'AST':'sum',\r\n",
    " 'STL':'sum',\r\n",
    " 'BLK':'sum',\r\n",
    " 'TOV':'sum',\r\n",
    " 'PF':'sum',\r\n",
    " 'PTS':'sum'})\r\n",
    "\r\n",
    "NBA['Tm'] = list(NBA.Tm.str.split(',').str[-1].str.strip(')'))\r\n",
    "NBA['Pos'] = list(NBA.Pos.str.split(',').str[-1].str.strip(')'))\r\n",
    "NBA = NBA.reset_index(level=[1,2]) #Reset index of the dataset to account for deleted entries\r\n",
    "#https://pandas.pydata.org/pandas-docs/stable/reference/api/pandas.DataFrame.reset_index.html\r\n",
    "NBA['Player'] = NBA['Player'].astype(pd.StringDtype()) \r\n",
    "NBA['Pos'] = NBA['Pos'].astype(pd.StringDtype()) \r\n",
    "NBA['Tm'] = NBA['Tm'].astype(pd.StringDtype()) \r\n",
    "NBA.head(30)"
   ]
  },
  {
   "cell_type": "code",
   "execution_count": 68,
   "metadata": {},
   "outputs": [
    {
     "data": {
      "text/plain": "Player     string\nAge         int64\nPos        string\nTm         string\nG           int64\nGS          int64\nMP          int64\nFG          int64\nFGA         int64\nFG%       float64\n3P          int64\n3PA         int64\n3P%       float64\n2P          int64\n2PA         int64\n2P%       float64\nFT          int64\nFTA         int64\nFT%       float64\nORB         int64\nDRB         int64\nTRB         int64\nAST         int64\nSTL         int64\nBLK         int64\nTOV         int64\nPF          int64\nPTS         int64\ndtype: object"
     },
     "execution_count": 68,
     "metadata": {},
     "output_type": "execute_result"
    }
   ],
   "source": [
    "NBA.dtypes"
   ]
  },
  {
   "cell_type": "code",
   "execution_count": 69,
   "metadata": {
    "id": "RU9Pm6LKfToO"
   },
   "outputs": [],
   "source": [
    "NBA.to_csv('cleaned_NBA_players_stats.csv')\r\n",
    "# Output cleaned data file as required"
   ]
  },
  {
   "cell_type": "markdown",
   "metadata": {},
   "source": [
    "## Checking Data for errors \r\n",
    "This section is for verifying no errors remain after the check and cleanup"
   ]
  },
  {
   "cell_type": "markdown",
   "metadata": {},
   "source": [
    "### Checking Data for errors - Player"
   ]
  },
  {
   "cell_type": "code",
   "execution_count": 70,
   "metadata": {},
   "outputs": [
    {
     "name": "stdout",
     "output_type": "stream",
     "text": [
      "The data type is:  string\n",
      "Is there NaN values:  False\n",
      "Numbers of team available is:  492\n"
     ]
    }
   ],
   "source": [
    "dtyp = NBA['Player'].dtype\r\n",
    "checkna = NBA['Player'].isnull().values.any()\r\n",
    "lent = len(NBA['Player'].unique())\r\n",
    "print (\"The data type is: \", dtyp) # expected type String\r\n",
    "print (\"Is there NaN values: \", checkna) # expect False\r\n",
    "print (\"Numbers of team available is: \", lent) #Expected: 492 "
   ]
  },
  {
   "cell_type": "markdown",
   "metadata": {},
   "source": [
    "### Checking Data for errors - Age"
   ]
  },
  {
   "cell_type": "code",
   "execution_count": 71,
   "metadata": {},
   "outputs": [
    {
     "name": "stdout",
     "output_type": "stream",
     "text": [
      "The youngest player is aged:  19\n",
      "The oldest player is aged:  37\n"
     ]
    }
   ],
   "source": [
    "min = NBA[\"Age\"].min()\n",
    "max = NBA[\"Age\"].max()\n",
    "print (\"The youngest player is aged: \", min)\n",
    "print (\"The oldest player is aged: \", max)"
   ]
  },
  {
   "cell_type": "code",
   "execution_count": 72,
   "metadata": {},
   "outputs": [
    {
     "name": "stdout",
     "output_type": "stream",
     "text": [
      "Players who are over 40: ]                                                                                              \n"
     ]
    },
    {
     "data": {
      "text/html": "<div>\n<style scoped>\n    .dataframe tbody tr th:only-of-type {\n        vertical-align: middle;\n    }\n\n    .dataframe tbody tr th {\n        vertical-align: top;\n    }\n\n    .dataframe thead th {\n        text-align: right;\n    }\n</style>\n<table border=\"1\" class=\"dataframe\">\n  <thead>\n    <tr style=\"text-align: right;\">\n      <th></th>\n      <th>Age</th>\n      <th>Player</th>\n    </tr>\n    <tr>\n      <th>Rk</th>\n      <th></th>\n      <th></th>\n    </tr>\n  </thead>\n  <tbody>\n  </tbody>\n</table>\n</div>",
      "text/plain": "Empty DataFrame\nColumns: [Age, Player]\nIndex: []"
     },
     "execution_count": 72,
     "metadata": {},
     "output_type": "execute_result"
    }
   ],
   "source": [
    "print (\"Players who are over 40: ]                                                                                              \")\n",
    "NBA[['Age', 'Player']][NBA.Age > 40]"
   ]
  },
  {
   "cell_type": "code",
   "execution_count": 73,
   "metadata": {},
   "outputs": [
    {
     "name": "stdout",
     "output_type": "stream",
     "text": [
      "Players who are younger than 18: \n"
     ]
    },
    {
     "data": {
      "text/html": "<div>\n<style scoped>\n    .dataframe tbody tr th:only-of-type {\n        vertical-align: middle;\n    }\n\n    .dataframe tbody tr th {\n        vertical-align: top;\n    }\n\n    .dataframe thead th {\n        text-align: right;\n    }\n</style>\n<table border=\"1\" class=\"dataframe\">\n  <thead>\n    <tr style=\"text-align: right;\">\n      <th></th>\n      <th>Age</th>\n      <th>Player</th>\n    </tr>\n    <tr>\n      <th>Rk</th>\n      <th></th>\n      <th></th>\n    </tr>\n  </thead>\n  <tbody>\n  </tbody>\n</table>\n</div>",
      "text/plain": "Empty DataFrame\nColumns: [Age, Player]\nIndex: []"
     },
     "execution_count": 73,
     "metadata": {},
     "output_type": "execute_result"
    }
   ],
   "source": [
    "print (\"Players who are younger than 18: \")\n",
    "NBA[['Age', 'Player']][NBA.Age < 18]"
   ]
  },
  {
   "cell_type": "markdown",
   "metadata": {},
   "source": [
    "### Checking Data for errors - Position"
   ]
  },
  {
   "cell_type": "code",
   "execution_count": 74,
   "metadata": {},
   "outputs": [
    {
     "name": "stdout",
     "output_type": "stream",
     "text": [
      "The data type is:  string\n",
      "Is there NaN values:  False\n",
      "Numbers of positions available is:  5\n"
     ]
    }
   ],
   "source": [
    "dtyp = NBA['Pos'].dtype\r\n",
    "checkna = NBA['Pos'].isnull().values.any()\r\n",
    "lent = len(NBA['Pos'].unique())\r\n",
    "print (\"The data type is: \", dtyp) # expected type int\r\n",
    "print (\"Is there NaN values: \", checkna) # expect False\r\n",
    "print (\"Numbers of positions available is: \", lent) # Expect to be >7"
   ]
  },
  {
   "cell_type": "markdown",
   "metadata": {},
   "source": [
    "### Checking Data for errors - Team"
   ]
  },
  {
   "cell_type": "code",
   "execution_count": 75,
   "metadata": {},
   "outputs": [
    {
     "name": "stdout",
     "output_type": "stream",
     "text": [
      "The data type is:  string\n",
      "Is there NaN values:  False\n",
      "Numbers of team available is:  30\n"
     ]
    }
   ],
   "source": [
    "dtyp = NBA['Tm'].dtype\r\n",
    "checkna = NBA['Tm'].isnull().values.any()\r\n",
    "lent = len(NBA['Tm'].unique())\r\n",
    "print (\"The data type is: \", dtyp) # expected type int\r\n",
    "print (\"Is there NaN values: \", checkna) # expect False\r\n",
    "print (\"Numbers of team available is: \", lent) # expect =< 31"
   ]
  },
  {
   "cell_type": "markdown",
   "metadata": {},
   "source": [
    "### Checking Data for errors - Games"
   ]
  },
  {
   "cell_type": "code",
   "execution_count": 76,
   "metadata": {},
   "outputs": [
    {
     "name": "stdout",
     "output_type": "stream",
     "text": [
      "The data type is:  int64\n",
      "Is there NaN values:  False\n"
     ]
    }
   ],
   "source": [
    "dtyp = NBA['G'].dtype\r\n",
    "checkna = NBA['G'].isnull().values.any()\r\n",
    "print (\"The data type is: \", dtyp) # expected type int\r\n",
    "print (\"Is there NaN values: \", checkna) # expect False"
   ]
  },
  {
   "cell_type": "markdown",
   "metadata": {},
   "source": [
    "### Checking Data for errors - Games Started"
   ]
  },
  {
   "cell_type": "code",
   "execution_count": 77,
   "metadata": {},
   "outputs": [
    {
     "name": "stdout",
     "output_type": "stream",
     "text": [
      "The data type is:  int64\n",
      "Is there NaN values:  False\n"
     ]
    }
   ],
   "source": [
    "dtyp = NBA['GS'].dtype\r\n",
    "checkna = NBA['GS'].isnull().values.any()\r\n",
    "print (\"The data type is: \", dtyp) # expected type int\r\n",
    "print (\"Is there NaN values: \", checkna) # expect False"
   ]
  },
  {
   "cell_type": "markdown",
   "metadata": {},
   "source": [
    "### Checking Data for errors - Minutes Played"
   ]
  },
  {
   "cell_type": "code",
   "execution_count": 78,
   "metadata": {},
   "outputs": [
    {
     "name": "stdout",
     "output_type": "stream",
     "text": [
      "The data type is:  int64\n",
      "Is there NaN values:  False\n"
     ]
    }
   ],
   "source": [
    "dtyp = NBA['PF'].dtype\r\n",
    "checkna = NBA['PF'].isnull().values.any()\r\n",
    "print (\"The data type is: \", dtyp) # expected type int\r\n",
    "print (\"Is there NaN values: \", checkna) # expect False"
   ]
  },
  {
   "cell_type": "markdown",
   "metadata": {},
   "source": [
    "### Checking Data for errors - Field Goals"
   ]
  },
  {
   "cell_type": "code",
   "execution_count": 79,
   "metadata": {},
   "outputs": [
    {
     "name": "stdout",
     "output_type": "stream",
     "text": [
      "The data type is:  int64\n",
      "Is there NaN values:  False\n"
     ]
    }
   ],
   "source": [
    "dtyp = NBA['FG'].dtype\r\n",
    "checkna = NBA['FG'].isnull().values.any()\r\n",
    "print (\"The data type is: \", dtyp) # expected type int\r\n",
    "print (\"Is there NaN values: \", checkna) # expect False"
   ]
  },
  {
   "cell_type": "markdown",
   "metadata": {},
   "source": [
    "### Checking Data for errors - Field Goal Attempts"
   ]
  },
  {
   "cell_type": "code",
   "execution_count": 80,
   "metadata": {},
   "outputs": [
    {
     "name": "stdout",
     "output_type": "stream",
     "text": [
      "The data type is:  int64\n",
      "Is there NaN values:  False\n"
     ]
    }
   ],
   "source": [
    "dtyp = NBA['FGA'].dtype\r\n",
    "checkna = NBA['FGA'].isnull().values.any()\r\n",
    "print (\"The data type is: \", dtyp) # expected type int\r\n",
    "print (\"Is there NaN values: \", checkna) # expect False"
   ]
  },
  {
   "cell_type": "markdown",
   "metadata": {},
   "source": [
    "### Checking Data for errors - Field Goal Percentage"
   ]
  },
  {
   "cell_type": "code",
   "execution_count": 81,
   "metadata": {},
   "outputs": [
    {
     "name": "stdout",
     "output_type": "stream",
     "text": [
      "The data type is:  float64\n",
      "Is there NaN values:  False\n"
     ]
    }
   ],
   "source": [
    "dtyp = NBA['FG%'].dtype\r\n",
    "checkna = NBA['FG%'].isnull().values.any()\r\n",
    "print (\"The data type is: \", dtyp) # expected type float\r\n",
    "print (\"Is there NaN values: \", checkna) # expected False"
   ]
  },
  {
   "cell_type": "markdown",
   "metadata": {},
   "source": [
    "### Checking Data for errors - 3-Point Field Goals"
   ]
  },
  {
   "cell_type": "code",
   "execution_count": 82,
   "metadata": {},
   "outputs": [
    {
     "name": "stdout",
     "output_type": "stream",
     "text": [
      "The data type is:  int64\n",
      "Is there NaN values:  False\n"
     ]
    }
   ],
   "source": [
    "dtyp = NBA['3P'].dtype\r\n",
    "checkna = NBA['3P'].isnull().values.any()\r\n",
    "print (\"The data type is: \", dtyp) # expected type int\r\n",
    "print (\"Is there NaN values: \", checkna) # expected False"
   ]
  },
  {
   "cell_type": "markdown",
   "metadata": {},
   "source": [
    "### Checking Data for errors - 3-Point Field Goal Attempts"
   ]
  },
  {
   "cell_type": "code",
   "execution_count": 83,
   "metadata": {},
   "outputs": [
    {
     "name": "stdout",
     "output_type": "stream",
     "text": [
      "The data type is (should be int):  int64\n",
      "Is there NaN values:  False\n"
     ]
    }
   ],
   "source": [
    "dtyp = NBA['3PA'].dtype\r\n",
    "checkna = NBA['3PA'].isnull().values.any()\r\n",
    "print (\"The data type is (should be int): \", dtyp) # expected type int\r\n",
    "print (\"Is there NaN values: \", checkna) # expected False"
   ]
  },
  {
   "cell_type": "markdown",
   "metadata": {},
   "source": [
    "### Checking Data for errors - 3-Point Field Goal Percentage"
   ]
  },
  {
   "cell_type": "code",
   "execution_count": 84,
   "metadata": {},
   "outputs": [
    {
     "name": "stdout",
     "output_type": "stream",
     "text": [
      "The data type is:  float64\n",
      "Is there NaN values:  False\n"
     ]
    }
   ],
   "source": [
    "dtyp = NBA['3P%'].dtype\r\n",
    "checkna = NBA['3P%'].isnull().values.any()\r\n",
    "print (\"The data type is: \", dtyp) # expected type float\r\n",
    "print (\"Is there NaN values: \", checkna) # expected False"
   ]
  },
  {
   "cell_type": "markdown",
   "metadata": {},
   "source": [
    "### Checking Data for errors - 2-Point Field Goals"
   ]
  },
  {
   "cell_type": "code",
   "execution_count": 85,
   "metadata": {},
   "outputs": [
    {
     "name": "stdout",
     "output_type": "stream",
     "text": [
      "The data type is:  int64\n",
      "Is there NaN values:  False\n"
     ]
    }
   ],
   "source": [
    "dtyp = NBA['2P'].dtype\r\n",
    "checkna = NBA['2P'].isnull().values.any()\r\n",
    "print (\"The data type is: \", dtyp) # expected type int\r\n",
    "print (\"Is there NaN values: \", checkna) # expected False"
   ]
  },
  {
   "cell_type": "markdown",
   "metadata": {},
   "source": [
    "### Checking Data for errors - 2-Point Field Goal Attempts"
   ]
  },
  {
   "cell_type": "code",
   "execution_count": 86,
   "metadata": {},
   "outputs": [
    {
     "name": "stdout",
     "output_type": "stream",
     "text": [
      "The data type is:  int64\n",
      "Is there NaN values:  False\n"
     ]
    }
   ],
   "source": [
    "dtyp = NBA['2PA'].dtype\r\n",
    "checkna = NBA['2PA'].isnull().values.any()\r\n",
    "print (\"The data type is: \", dtyp) # expected type int\r\n",
    "print (\"Is there NaN values: \", checkna) # expected False"
   ]
  },
  {
   "cell_type": "markdown",
   "metadata": {},
   "source": [
    "### Checking Data for errors - 2-Point Field Goal Percentage"
   ]
  },
  {
   "cell_type": "code",
   "execution_count": 87,
   "metadata": {},
   "outputs": [
    {
     "name": "stdout",
     "output_type": "stream",
     "text": [
      "The data type is:  float64\n",
      "Is there NaN values:  False\n"
     ]
    }
   ],
   "source": [
    "dtyp = NBA['2P%'].dtype\r\n",
    "checkna = NBA['2P%'].isnull().values.any()\r\n",
    "print (\"The data type is: \", dtyp) # expected type int\r\n",
    "print (\"Is there NaN values: \", checkna) # expected False"
   ]
  },
  {
   "cell_type": "markdown",
   "metadata": {},
   "source": [
    "### Checking Data for errors - Free Throws"
   ]
  },
  {
   "cell_type": "code",
   "execution_count": 88,
   "metadata": {},
   "outputs": [
    {
     "name": "stdout",
     "output_type": "stream",
     "text": [
      "The data type is:  int64\n",
      "Is there NaN values:  False\n"
     ]
    }
   ],
   "source": [
    "dtyp = NBA['FT'].dtype\r\n",
    "checkna = NBA['FT'].isnull().values.any()\r\n",
    "print (\"The data type is: \", dtyp) # expected type int\r\n",
    "print (\"Is there NaN values: \", checkna) # expected False"
   ]
  },
  {
   "cell_type": "markdown",
   "metadata": {},
   "source": [
    "### Checking Data for errors - Free Throw Attempts"
   ]
  },
  {
   "cell_type": "code",
   "execution_count": 89,
   "metadata": {},
   "outputs": [
    {
     "name": "stdout",
     "output_type": "stream",
     "text": [
      "The data type is:  int64\n",
      "Is there NaN values:  False\n"
     ]
    }
   ],
   "source": [
    "dtyp = NBA['FTA'].dtype\r\n",
    "checkna = NBA['FTA'].isnull().values.any()\r\n",
    "print (\"The data type is: \", dtyp) # expected type int\r\n",
    "print (\"Is there NaN values: \", checkna) # expected False"
   ]
  },
  {
   "cell_type": "markdown",
   "metadata": {},
   "source": [
    "### Checking Data for errors - Free Throw Percentage"
   ]
  },
  {
   "cell_type": "code",
   "execution_count": 90,
   "metadata": {},
   "outputs": [
    {
     "name": "stdout",
     "output_type": "stream",
     "text": [
      "The data type is:  float64\n",
      "Is there NaN values:  False\n"
     ]
    }
   ],
   "source": [
    "dtyp = NBA['FT%'].dtype\r\n",
    "checkna = NBA['FT%'].isnull().values.any()\r\n",
    "print (\"The data type is: \", dtyp) # expected type float\r\n",
    "print (\"Is there NaN values: \", checkna) # expected False"
   ]
  },
  {
   "cell_type": "markdown",
   "metadata": {},
   "source": [
    "### Checking Data for errors - Offensive Rebounds"
   ]
  },
  {
   "cell_type": "code",
   "execution_count": 91,
   "metadata": {},
   "outputs": [
    {
     "name": "stdout",
     "output_type": "stream",
     "text": [
      "The data type is:  int64\n",
      "Is there NaN values:  False\n"
     ]
    }
   ],
   "source": [
    "dtyp = NBA['ORB'].dtype\r\n",
    "checkna = NBA['ORB'].isnull().values.any()\r\n",
    "print (\"The data type is: \", dtyp) # expected type int\r\n",
    "print (\"Is there NaN values: \", checkna) # expected False"
   ]
  },
  {
   "cell_type": "markdown",
   "metadata": {},
   "source": [
    "### Checking Data for errors - Defensive Rebounds"
   ]
  },
  {
   "cell_type": "code",
   "execution_count": 92,
   "metadata": {},
   "outputs": [
    {
     "name": "stdout",
     "output_type": "stream",
     "text": [
      "The data type is:  int64\n",
      "Is there NaN values:  False\n"
     ]
    }
   ],
   "source": [
    "dtyp = NBA['DRB'].dtype\r\n",
    "checkna = NBA['DRB'].isnull().values.any()\r\n",
    "print (\"The data type is: \", dtyp) # expected type int\r\n",
    "print (\"Is there NaN values: \", checkna) # expected False"
   ]
  },
  {
   "cell_type": "markdown",
   "metadata": {},
   "source": [
    "### Checking Data for errors - Total Rebounds"
   ]
  },
  {
   "cell_type": "code",
   "execution_count": 93,
   "metadata": {},
   "outputs": [
    {
     "name": "stdout",
     "output_type": "stream",
     "text": [
      "The data type is:  int64\n",
      "Is there NaN values:  False\n"
     ]
    }
   ],
   "source": [
    "dtyp = NBA['TRB'].dtype\r\n",
    "checkna = NBA['TRB'].isnull().values.any()\r\n",
    "print (\"The data type is: \", dtyp) # expected type int\r\n",
    "print (\"Is there NaN values: \", checkna) # expected False"
   ]
  },
  {
   "cell_type": "markdown",
   "metadata": {},
   "source": [
    "### Checking Data for errors - Assists"
   ]
  },
  {
   "cell_type": "code",
   "execution_count": 94,
   "metadata": {},
   "outputs": [
    {
     "name": "stdout",
     "output_type": "stream",
     "text": [
      "The data type is:  int64\n",
      "Is there NaN values:  False\n"
     ]
    }
   ],
   "source": [
    "dtyp = NBA['AST'].dtype\r\n",
    "checkna = NBA['AST'].isnull().values.any()\r\n",
    "print (\"The data type is: \", dtyp) # expected type int\r\n",
    "print (\"Is there NaN values: \", checkna) # expected False"
   ]
  },
  {
   "cell_type": "markdown",
   "metadata": {},
   "source": [
    "### Checking Data for errors - Steals"
   ]
  },
  {
   "cell_type": "code",
   "execution_count": 95,
   "metadata": {},
   "outputs": [
    {
     "name": "stdout",
     "output_type": "stream",
     "text": [
      "The data type is:  int64\n",
      "Is there NaN values:  False\n"
     ]
    }
   ],
   "source": [
    "dtyp = NBA['STL'].dtype\r\n",
    "checkna = NBA['STL'].isnull().values.any()\r\n",
    "print (\"The data type is: \", dtyp) # expected type int\r\n",
    "print (\"Is there NaN values: \", checkna) # expected False"
   ]
  },
  {
   "cell_type": "markdown",
   "metadata": {},
   "source": [
    "### Checking Data for errors - Blocks"
   ]
  },
  {
   "cell_type": "code",
   "execution_count": 96,
   "metadata": {},
   "outputs": [
    {
     "name": "stdout",
     "output_type": "stream",
     "text": [
      "The data type is:  int64\n",
      "Is there NaN values:  False\n"
     ]
    }
   ],
   "source": [
    "dtyp = NBA['BLK'].dtype\r\n",
    "checkna = NBA['BLK'].isnull().values.any()\r\n",
    "print (\"The data type is: \", dtyp) # expected type int\r\n",
    "print (\"Is there NaN values: \", checkna) # expected False"
   ]
  },
  {
   "cell_type": "markdown",
   "metadata": {},
   "source": [
    "### Checking Data for errors - Turnovers"
   ]
  },
  {
   "cell_type": "code",
   "execution_count": 97,
   "metadata": {},
   "outputs": [
    {
     "name": "stdout",
     "output_type": "stream",
     "text": [
      "The data type is:  int64\n",
      "Is there NaN values:  False\n"
     ]
    }
   ],
   "source": [
    "dtyp = NBA['TOV'].dtype\r\n",
    "checkna = NBA['TOV'].isnull().values.any()\r\n",
    "print (\"The data type is: \", dtyp) # expected type int\r\n",
    "print (\"Is there NaN values: \", checkna) # expected False"
   ]
  },
  {
   "cell_type": "markdown",
   "metadata": {},
   "source": [
    "### Checking Data for errors - Personal Fouls"
   ]
  },
  {
   "cell_type": "code",
   "execution_count": 98,
   "metadata": {},
   "outputs": [
    {
     "name": "stdout",
     "output_type": "stream",
     "text": [
      "The data type is:  int64\n",
      "Is there NaN values:  False\n"
     ]
    }
   ],
   "source": [
    "dtyp = NBA['PF'].dtype\r\n",
    "checkna = NBA['PF'].isnull().values.any()\r\n",
    "print (\"The data type is: \", dtyp) # expected type int\r\n",
    "print (\"Is there NaN values: \", checkna) # expected False"
   ]
  },
  {
   "cell_type": "markdown",
   "metadata": {},
   "source": [
    "### Checking Data for errors - The Total Points"
   ]
  },
  {
   "cell_type": "code",
   "execution_count": 99,
   "metadata": {},
   "outputs": [
    {
     "name": "stdout",
     "output_type": "stream",
     "text": [
      "The data type is:  int64\n",
      "Is there NaN values:  False\n",
      "The highest point is:  1568\n",
      "The lowest point is:  0\n"
     ]
    }
   ],
   "source": [
    "dtyp = NBA['PTS'].dtype\r\n",
    "checkna = NBA['PTS'].isnull().values.any()\r\n",
    "min = NBA[\"PTS\"].min()\r\n",
    "max = NBA[\"PTS\"].max()\r\n",
    "print (\"The data type is: \", dtyp) # expected type int\r\n",
    "print (\"Is there NaN values: \", checkna) # expected False\r\n",
    "print (\"The highest point is: \", max) # expect >2000\r\n",
    "print (\"The lowest point is: \", min) # expect > 0"
   ]
  },
  {
   "cell_type": "markdown",
   "metadata": {
    "id": "r-i5aIqXpPbu"
   },
   "source": [
    "# Task 2: Data Exploration"
   ]
  },
  {
   "cell_type": "markdown",
   "metadata": {
    "id": "QOY4K_neos9j"
   },
   "source": [
    "## Task 2.1 \r\n"
   ]
  },
  {
   "cell_type": "code",
   "execution_count": 100,
   "metadata": {},
   "outputs": [],
   "source": [
    "NBA_C = pd.read_csv('cleaned_NBA_players_stats.csv', index_col=0) # Load in cleaned dataset"
   ]
  },
  {
   "cell_type": "code",
   "execution_count": 101,
   "metadata": {
    "id": "ziwtOfWJn-Eh"
   },
   "outputs": [
    {
     "data": {
      "text/html": "<div>\n<style scoped>\n    .dataframe tbody tr th:only-of-type {\n        vertical-align: middle;\n    }\n\n    .dataframe tbody tr th {\n        vertical-align: top;\n    }\n\n    .dataframe thead th {\n        text-align: right;\n    }\n</style>\n<table border=\"1\" class=\"dataframe\">\n  <thead>\n    <tr style=\"text-align: right;\">\n      <th></th>\n      <th>Player</th>\n      <th>Age</th>\n      <th>Pos</th>\n      <th>Tm</th>\n      <th>G</th>\n      <th>GS</th>\n      <th>MP</th>\n      <th>FG</th>\n      <th>FGA</th>\n      <th>FG%</th>\n      <th>...</th>\n      <th>FT%</th>\n      <th>ORB</th>\n      <th>DRB</th>\n      <th>TRB</th>\n      <th>AST</th>\n      <th>STL</th>\n      <th>BLK</th>\n      <th>TOV</th>\n      <th>PF</th>\n      <th>PTS</th>\n    </tr>\n    <tr>\n      <th>Rk</th>\n      <th></th>\n      <th></th>\n      <th></th>\n      <th></th>\n      <th></th>\n      <th></th>\n      <th></th>\n      <th></th>\n      <th></th>\n      <th></th>\n      <th></th>\n      <th></th>\n      <th></th>\n      <th></th>\n      <th></th>\n      <th></th>\n      <th></th>\n      <th></th>\n      <th></th>\n      <th></th>\n      <th></th>\n    </tr>\n  </thead>\n  <tbody>\n    <tr>\n      <th>182</th>\n      <td>James Harden</td>\n      <td>31</td>\n      <td>PG</td>\n      <td>BRK</td>\n      <td>62</td>\n      <td>62</td>\n      <td>2346</td>\n      <td>500</td>\n      <td>1034</td>\n      <td>1.425</td>\n      <td>...</td>\n      <td>2.592</td>\n      <td>52</td>\n      <td>432</td>\n      <td>484</td>\n      <td>690</td>\n      <td>72</td>\n      <td>42</td>\n      <td>262</td>\n      <td>134</td>\n      <td>1568</td>\n    </tr>\n    <tr>\n      <th>37</th>\n      <td>Bradley Beal</td>\n      <td>27</td>\n      <td>SG</td>\n      <td>WAS</td>\n      <td>32</td>\n      <td>32</td>\n      <td>1143</td>\n      <td>368</td>\n      <td>764</td>\n      <td>0.482</td>\n      <td>...</td>\n      <td>0.903</td>\n      <td>43</td>\n      <td>131</td>\n      <td>174</td>\n      <td>151</td>\n      <td>44</td>\n      <td>14</td>\n      <td>105</td>\n      <td>82</td>\n      <td>1053</td>\n    </tr>\n    <tr>\n      <th>109</th>\n      <td>Stephen Curry</td>\n      <td>32</td>\n      <td>PG</td>\n      <td>GSW</td>\n      <td>35</td>\n      <td>35</td>\n      <td>1194</td>\n      <td>343</td>\n      <td>718</td>\n      <td>0.478</td>\n      <td>...</td>\n      <td>0.934</td>\n      <td>17</td>\n      <td>174</td>\n      <td>191</td>\n      <td>221</td>\n      <td>46</td>\n      <td>2</td>\n      <td>111</td>\n      <td>64</td>\n      <td>1039</td>\n    </tr>\n    <tr>\n      <th>12</th>\n      <td>Giannis Antetokounmpo</td>\n      <td>26</td>\n      <td>PF</td>\n      <td>MIL</td>\n      <td>35</td>\n      <td>35</td>\n      <td>1189</td>\n      <td>368</td>\n      <td>661</td>\n      <td>0.557</td>\n      <td>...</td>\n      <td>0.661</td>\n      <td>64</td>\n      <td>344</td>\n      <td>408</td>\n      <td>205</td>\n      <td>44</td>\n      <td>49</td>\n      <td>128</td>\n      <td>106</td>\n      <td>1015</td>\n    </tr>\n    <tr>\n      <th>268</th>\n      <td>Damian Lillard</td>\n      <td>30</td>\n      <td>PG</td>\n      <td>POR</td>\n      <td>34</td>\n      <td>34</td>\n      <td>1224</td>\n      <td>315</td>\n      <td>708</td>\n      <td>0.445</td>\n      <td>...</td>\n      <td>0.933</td>\n      <td>15</td>\n      <td>130</td>\n      <td>145</td>\n      <td>271</td>\n      <td>35</td>\n      <td>9</td>\n      <td>111</td>\n      <td>53</td>\n      <td>1013</td>\n    </tr>\n  </tbody>\n</table>\n<p>5 rows × 28 columns</p>\n</div>",
      "text/plain": "                    Player  Age Pos   Tm   G  GS    MP   FG   FGA    FG%  ...  \\\nRk                                                                        ...   \n182           James Harden   31  PG  BRK  62  62  2346  500  1034  1.425  ...   \n37            Bradley Beal   27  SG  WAS  32  32  1143  368   764  0.482  ...   \n109          Stephen Curry   32  PG  GSW  35  35  1194  343   718  0.478  ...   \n12   Giannis Antetokounmpo   26  PF  MIL  35  35  1189  368   661  0.557  ...   \n268         Damian Lillard   30  PG  POR  34  34  1224  315   708  0.445  ...   \n\n       FT%  ORB  DRB  TRB  AST  STL  BLK  TOV   PF   PTS  \nRk                                                        \n182  2.592   52  432  484  690   72   42  262  134  1568  \n37   0.903   43  131  174  151   44   14  105   82  1053  \n109  0.934   17  174  191  221   46    2  111   64  1039  \n12   0.661   64  344  408  205   44   49  128  106  1015  \n268  0.933   15  130  145  271   35    9  111   53  1013  \n\n[5 rows x 28 columns]"
     },
     "execution_count": 101,
     "metadata": {},
     "output_type": "execute_result"
    }
   ],
   "source": [
    "sort_by_Tpoints = NBA_C.sort_values('PTS',ascending=False).head(5)\r\n",
    "sort_by_Tpoints"
   ]
  },
  {
   "cell_type": "markdown",
   "metadata": {},
   "source": [
    "Chart of the distribution of total points between the top five players based on PTS."
   ]
  },
  {
   "cell_type": "code",
   "execution_count": 102,
   "metadata": {},
   "outputs": [
    {
     "data": {
      "text/plain": "<AxesSubplot:ylabel='PTS'>"
     },
     "execution_count": 102,
     "metadata": {},
     "output_type": "execute_result"
    },
    {
     "data": {
      "image/png": "[encoded data removed]",
      "text/plain": "<Figure size 720x720 with 1 Axes>"
     },
     "metadata": {},
     "output_type": "display_data"
    }
   ],
   "source": [
    "labels = ['James Harden', 'Bradley Beal', 'Stephen Curry', 'Giannis Antetokounmpo', 'Damian Lillard'] # [4]- adding percentages\r\n",
    "sort_by_Tpoints.plot.pie(y='PTS', labels = labels, autopct='%1.1f%%',figsize=(10, 10))"
   ]
  },
  {
   "cell_type": "code",
   "execution_count": 117,
   "metadata": {},
   "outputs": [
    {
     "name": "stderr",
     "output_type": "stream",
     "text": [
      "C:\\ProgramData\\Anaconda3\\lib\\site-packages\\seaborn\\_decorators.py:36: FutureWarning: Pass the following variable as a keyword arg: x. From version 0.12, the only valid positional argument will be `data`, and passing other arguments without an explicit keyword will result in an error or misinterpretation.\n",
      "  warnings.warn(\n"
     ]
    },
    {
     "data": {
      "text/plain": "Text(0.5, 1.0, 'Figure 2: Box Plot of PTS')"
     },
     "execution_count": 117,
     "metadata": {},
     "output_type": "execute_result"
    },
    {
     "data": {
      "image/png": "[encoded data removed]",
      "text/plain": "<Figure size 432x288 with 1 Axes>"
     },
     "metadata": {
      "needs_background": "light"
     },
     "output_type": "display_data"
    }
   ],
   "source": [
    "sns.boxplot(NBA_C['PTS']).set_title('Figure 2: Box Plot of PTS', fontsize = 15) # Boxplot for deviation of PTS accross all players"
   ]
  },
  {
   "cell_type": "markdown",
   "metadata": {
    "id": "0-HLFaWTo7Gr"
   },
   "source": [
    "## Task 2.2 "
   ]
  },
  {
   "cell_type": "code",
   "execution_count": 104,
   "metadata": {
    "id": "k3-8Pbi1n-Ei"
   },
   "outputs": [
    {
     "data": {
      "text/html": "<div>\n<style scoped>\n    .dataframe tbody tr th:only-of-type {\n        vertical-align: middle;\n    }\n\n    .dataframe tbody tr th {\n        vertical-align: top;\n    }\n\n    .dataframe thead th {\n        text-align: right;\n    }\n</style>\n<table border=\"1\" class=\"dataframe\">\n  <thead>\n    <tr style=\"text-align: right;\">\n      <th></th>\n      <th>3P</th>\n      <th>3PA</th>\n      <th>3P%</th>\n    </tr>\n    <tr>\n      <th>Rk</th>\n      <th></th>\n      <th></th>\n      <th></th>\n    </tr>\n  </thead>\n  <tbody>\n    <tr>\n      <th>1</th>\n      <td>0</td>\n      <td>0</td>\n      <td>NaN</td>\n    </tr>\n    <tr>\n      <th>2</th>\n      <td>0</td>\n      <td>2</td>\n      <td>0.00</td>\n    </tr>\n    <tr>\n      <th>3</th>\n      <td>0</td>\n      <td>1</td>\n      <td>0.00</td>\n    </tr>\n    <tr>\n      <th>4</th>\n      <td>2</td>\n      <td>6</td>\n      <td>0.05</td>\n    </tr>\n    <tr>\n      <th>5</th>\n      <td>27</td>\n      <td>75</td>\n      <td>0.36</td>\n    </tr>\n  </tbody>\n</table>\n</div>",
      "text/plain": "    3P  3PA   3P%\nRk               \n1    0    0   NaN\n2    0    2  0.00\n3    0    1  0.00\n4    2    6  0.05\n5   27   75  0.36"
     },
     "execution_count": 104,
     "metadata": {},
     "output_type": "execute_result"
    }
   ],
   "source": [
    "NBA = pd.read_csv('NBA_players_stats.csv', index_col=0) # prevent index number from affecting result\r\n",
    "# Reloading the file to use the original file so there are errors to work with\r\n",
    "NBAE = NBA[[\"3P\",\"3PA\",\"3P%\"]]\r\n",
    "NBAE.head()"
   ]
  },
  {
   "cell_type": "code",
   "execution_count": 105,
   "metadata": {},
   "outputs": [
    {
     "name": "stdout",
     "output_type": "stream",
     "text": [
      "<class 'pandas.core.frame.DataFrame'>\n",
      "Int64Index: 512 entries, 1 to 492\n",
      "Data columns (total 3 columns):\n",
      " #   Column  Non-Null Count  Dtype  \n",
      "---  ------  --------------  -----  \n",
      " 0   3P      512 non-null    int64  \n",
      " 1   3PA     512 non-null    int64  \n",
      " 2   3P%     479 non-null    float64\n",
      "dtypes: float64(1), int64(2)\n",
      "memory usage: 16.0 KB\n"
     ]
    }
   ],
   "source": [
    "NBAE.info()"
   ]
  },
  {
   "cell_type": "code",
   "execution_count": 106,
   "metadata": {},
   "outputs": [
    {
     "data": {
      "text/plain": "<AxesSubplot:ylabel='Rk'>"
     },
     "execution_count": 106,
     "metadata": {},
     "output_type": "execute_result"
    },
    {
     "data": {
      "image/png": "[encoded data removed]",
      "text/plain": "<Figure size 360x1080 with 1 Axes>"
     },
     "metadata": {
      "needs_background": "light"
     },
     "output_type": "display_data"
    }
   ],
   "source": [
    "fig, heat = plt.subplots(figsize = (5,15)) # [2], changing size for heatmaps\r\n",
    "sns.heatmap(NBAE.isnull(), cbar=False) # [1], quickly visualise the location and number of errors"
   ]
  },
  {
   "cell_type": "markdown",
   "metadata": {},
   "source": [
    "The heatmap quickly shows missing values on 3P% column."
   ]
  },
  {
   "cell_type": "code",
   "execution_count": 107,
   "metadata": {},
   "outputs": [
    {
     "name": "stdout",
     "output_type": "stream",
     "text": [
      "                   Player  3P%\n",
      "Rk                            \n",
      "1        Precious Achiuwa  NaN\n",
      "9           Jarrett Allen  NaN\n",
      "13   Kostas Antetokounmpo  NaN\n",
      "22         Udoka Azubuike  NaN\n",
      "44              Tyler Bey  NaN\n",
      "54         Marques Bolden  NaN\n",
      "59            Brian Bowen  NaN\n",
      "63       Ignas Brazdeikis  NaN\n",
      "70            Moses Brown  NaN\n",
      "80         Devontae Cacok  NaN\n",
      "84           Clint Capela  NaN\n",
      "102            Tyler Cook  NaN\n",
      "111              Ed Davis  NaN\n",
      "121          Devon Dotson  NaN\n",
      "134          Drew Eubanks  NaN\n",
      "136            Tacko Fall  NaN\n",
      "138     Cristiano Felício  NaN\n",
      "151        Daniel Gafford  NaN\n",
      "177         Ashton Hagans  NaN\n",
      "184          Jared Harper  NaN\n",
      "187          Jalen Harris  NaN\n",
      "192    Isaiah Hartenstein  NaN\n",
      "193          Jaxson Hayes  NaN\n",
      "238          Damian Jones  NaN\n",
      "247           Enes Kanter  NaN\n",
      "295         Patrick McCaw  NaN\n",
      "365          Norvel Pelle  NaN\n",
      "365          Norvel Pelle  NaN\n",
      "365          Norvel Pelle  NaN\n",
      "369          Jakob Poeltl  NaN\n",
      "370       Vincent Poirier  NaN\n",
      "389         Nick Richards  NaN\n",
      "396     Mitchell Robinson  NaN\n"
     ]
    }
   ],
   "source": [
    "df = pd.DataFrame(NBA,columns=['Player','3P%']) #create a temporary dataframe to store Player and 3P% data\r\n",
    "nan_values = df[NBA['3P%'].isna()] #check for where the nan values are then output it with the player's name\r\n",
    "print (nan_values)"
   ]
  },
  {
   "cell_type": "markdown",
   "metadata": {},
   "source": [
    "This shows every player with a NaN 3P% entry."
   ]
  },
  {
   "cell_type": "markdown",
   "metadata": {},
   "source": [
    "Fixing the error by filling nan with zeros"
   ]
  },
  {
   "cell_type": "code",
   "execution_count": 108,
   "metadata": {},
   "outputs": [
    {
     "name": "stderr",
     "output_type": "stream",
     "text": [
      "<ipython-input-108-cf9483110234>:1: SettingWithCopyWarning: \n",
      "A value is trying to be set on a copy of a slice from a DataFrame.\n",
      "Try using .loc[row_indexer,col_indexer] = value instead\n",
      "\n",
      "See the caveats in the documentation: https://pandas.pydata.org/pandas-docs/stable/user_guide/indexing.html#returning-a-view-versus-a-copy\n",
      "  NBAE['3P%'] = NBAE['3P%'].fillna(0) #replace NaN values with 0\n"
     ]
    }
   ],
   "source": [
    "NBAE['3P%'] = NBAE['3P%'].fillna(0) #replace NaN values with 0"
   ]
  },
  {
   "cell_type": "code",
   "execution_count": 109,
   "metadata": {},
   "outputs": [
    {
     "data": {
      "text/plain": "False"
     },
     "execution_count": 109,
     "metadata": {},
     "output_type": "execute_result"
    }
   ],
   "source": [
    "checkna = NBA['3P'].isnull().values.any() # Quick check ensuring the fill has gone as expected\r\n",
    "checkna"
   ]
  },
  {
   "cell_type": "markdown",
   "metadata": {
    "id": "jnasiwOAo_RP"
   },
   "source": [
    "## Task 2.3 \r\n"
   ]
  },
  {
   "cell_type": "code",
   "execution_count": 129,
   "metadata": {
    "id": "hHsmCb2gn-Ei"
   },
   "outputs": [
    {
     "data": {
      "text/html": "<div>\n<style scoped>\n    .dataframe tbody tr th:only-of-type {\n        vertical-align: middle;\n    }\n\n    .dataframe tbody tr th {\n        vertical-align: top;\n    }\n\n    .dataframe thead th {\n        text-align: right;\n    }\n</style>\n<table border=\"1\" class=\"dataframe\">\n  <thead>\n    <tr style=\"text-align: right;\">\n      <th></th>\n      <th>Player</th>\n      <th>ORB</th>\n      <th>AST</th>\n      <th>STL</th>\n      <th>PTS</th>\n      <th>Age</th>\n    </tr>\n    <tr>\n      <th>Rk</th>\n      <th></th>\n      <th></th>\n      <th></th>\n      <th></th>\n      <th></th>\n      <th></th>\n    </tr>\n  </thead>\n  <tbody>\n    <tr>\n      <th>1</th>\n      <td>Precious Achiuwa</td>\n      <td>46</td>\n      <td>20</td>\n      <td>15</td>\n      <td>212</td>\n      <td>21</td>\n    </tr>\n    <tr>\n      <th>2</th>\n      <td>Jaylen Adams</td>\n      <td>0</td>\n      <td>2</td>\n      <td>0</td>\n      <td>200</td>\n      <td>24</td>\n    </tr>\n    <tr>\n      <th>3</th>\n      <td>Steven Adams</td>\n      <td>133</td>\n      <td>69</td>\n      <td>29</td>\n      <td>265</td>\n      <td>27</td>\n    </tr>\n    <tr>\n      <th>4</th>\n      <td>Bam Adebayo</td>\n      <td>72</td>\n      <td>179</td>\n      <td>29</td>\n      <td>634</td>\n      <td>23</td>\n    </tr>\n    <tr>\n      <th>5</th>\n      <td>LaMarcus Aldridge</td>\n      <td>17</td>\n      <td>36</td>\n      <td>8</td>\n      <td>288</td>\n      <td>35</td>\n    </tr>\n    <tr>\n      <th>6</th>\n      <td>Ty-Shon Alexander</td>\n      <td>0</td>\n      <td>1</td>\n      <td>0</td>\n      <td>0</td>\n      <td>22</td>\n    </tr>\n    <tr>\n      <th>7</th>\n      <td>Nickeil Alexander-Walker</td>\n      <td>5</td>\n      <td>54</td>\n      <td>28</td>\n      <td>230</td>\n      <td>22</td>\n    </tr>\n    <tr>\n      <th>8</th>\n      <td>Grayson Allen</td>\n      <td>8</td>\n      <td>50</td>\n      <td>23</td>\n      <td>214</td>\n      <td>25</td>\n    </tr>\n    <tr>\n      <th>9</th>\n      <td>Jarrett Allen</td>\n      <td>222</td>\n      <td>120</td>\n      <td>32</td>\n      <td>942</td>\n      <td>22</td>\n    </tr>\n    <tr>\n      <th>10</th>\n      <td>Al-Farouq Aminu</td>\n      <td>9</td>\n      <td>15</td>\n      <td>8</td>\n      <td>47</td>\n      <td>30</td>\n    </tr>\n    <tr>\n      <th>11</th>\n      <td>Kyle Anderson</td>\n      <td>28</td>\n      <td>105</td>\n      <td>36</td>\n      <td>402</td>\n      <td>27</td>\n    </tr>\n    <tr>\n      <th>12</th>\n      <td>Giannis Antetokounmpo</td>\n      <td>64</td>\n      <td>205</td>\n      <td>44</td>\n      <td>1015</td>\n      <td>26</td>\n    </tr>\n    <tr>\n      <th>13</th>\n      <td>Kostas Antetokounmpo</td>\n      <td>2</td>\n      <td>0</td>\n      <td>1</td>\n      <td>3</td>\n      <td>23</td>\n    </tr>\n    <tr>\n      <th>14</th>\n      <td>Thanasis Antetokounmpo</td>\n      <td>26</td>\n      <td>18</td>\n      <td>8</td>\n      <td>60</td>\n      <td>28</td>\n    </tr>\n    <tr>\n      <th>15</th>\n      <td>Carmelo Anthony</td>\n      <td>19</td>\n      <td>50</td>\n      <td>31</td>\n      <td>472</td>\n      <td>36</td>\n    </tr>\n    <tr>\n      <th>16</th>\n      <td>Cole Anthony</td>\n      <td>20</td>\n      <td>94</td>\n      <td>17</td>\n      <td>275</td>\n      <td>20</td>\n    </tr>\n    <tr>\n      <th>17</th>\n      <td>OG Anunoby</td>\n      <td>33</td>\n      <td>38</td>\n      <td>37</td>\n      <td>317</td>\n      <td>23</td>\n    </tr>\n    <tr>\n      <th>18</th>\n      <td>Ryan Arcidiacono</td>\n      <td>2</td>\n      <td>23</td>\n      <td>5</td>\n      <td>61</td>\n      <td>26</td>\n    </tr>\n    <tr>\n      <th>19</th>\n      <td>D.J. Augustin</td>\n      <td>11</td>\n      <td>103</td>\n      <td>19</td>\n      <td>208</td>\n      <td>33</td>\n    </tr>\n    <tr>\n      <th>20</th>\n      <td>Deni Avdija</td>\n      <td>13</td>\n      <td>39</td>\n      <td>20</td>\n      <td>178</td>\n      <td>20</td>\n    </tr>\n    <tr>\n      <th>21</th>\n      <td>Deandre Ayton</td>\n      <td>118</td>\n      <td>59</td>\n      <td>11</td>\n      <td>506</td>\n      <td>22</td>\n    </tr>\n    <tr>\n      <th>22</th>\n      <td>Udoka Azubuike</td>\n      <td>4</td>\n      <td>0</td>\n      <td>1</td>\n      <td>12</td>\n      <td>21</td>\n    </tr>\n    <tr>\n      <th>23</th>\n      <td>Dwayne Bacon</td>\n      <td>12</td>\n      <td>35</td>\n      <td>23</td>\n      <td>363</td>\n      <td>25</td>\n    </tr>\n    <tr>\n      <th>24</th>\n      <td>Marvin Bagley III</td>\n      <td>83</td>\n      <td>33</td>\n      <td>18</td>\n      <td>478</td>\n      <td>21</td>\n    </tr>\n    <tr>\n      <th>25</th>\n      <td>LaMelo Ball</td>\n      <td>51</td>\n      <td>221</td>\n      <td>57</td>\n      <td>553</td>\n      <td>19</td>\n    </tr>\n    <tr>\n      <th>26</th>\n      <td>Lonzo Ball</td>\n      <td>20</td>\n      <td>168</td>\n      <td>43</td>\n      <td>480</td>\n      <td>23</td>\n    </tr>\n    <tr>\n      <th>27</th>\n      <td>Mo Bamba</td>\n      <td>19</td>\n      <td>4</td>\n      <td>3</td>\n      <td>81</td>\n      <td>22</td>\n    </tr>\n    <tr>\n      <th>28</th>\n      <td>Desmond Bane</td>\n      <td>12</td>\n      <td>38</td>\n      <td>20</td>\n      <td>268</td>\n      <td>22</td>\n    </tr>\n    <tr>\n      <th>29</th>\n      <td>Harrison Barnes</td>\n      <td>33</td>\n      <td>118</td>\n      <td>26</td>\n      <td>552</td>\n      <td>28</td>\n    </tr>\n    <tr>\n      <th>30</th>\n      <td>RJ Barrett</td>\n      <td>45</td>\n      <td>109</td>\n      <td>24</td>\n      <td>612</td>\n      <td>20</td>\n    </tr>\n  </tbody>\n</table>\n</div>",
      "text/plain": "                      Player  ORB  AST  STL   PTS  Age\nRk                                                    \n1           Precious Achiuwa   46   20   15   212   21\n2               Jaylen Adams    0    2    0   200   24\n3               Steven Adams  133   69   29   265   27\n4                Bam Adebayo   72  179   29   634   23\n5          LaMarcus Aldridge   17   36    8   288   35\n6          Ty-Shon Alexander    0    1    0     0   22\n7   Nickeil Alexander-Walker    5   54   28   230   22\n8              Grayson Allen    8   50   23   214   25\n9              Jarrett Allen  222  120   32   942   22\n10           Al-Farouq Aminu    9   15    8    47   30\n11             Kyle Anderson   28  105   36   402   27\n12     Giannis Antetokounmpo   64  205   44  1015   26\n13      Kostas Antetokounmpo    2    0    1     3   23\n14    Thanasis Antetokounmpo   26   18    8    60   28\n15           Carmelo Anthony   19   50   31   472   36\n16              Cole Anthony   20   94   17   275   20\n17                OG Anunoby   33   38   37   317   23\n18          Ryan Arcidiacono    2   23    5    61   26\n19             D.J. Augustin   11  103   19   208   33\n20               Deni Avdija   13   39   20   178   20\n21             Deandre Ayton  118   59   11   506   22\n22            Udoka Azubuike    4    0    1    12   21\n23              Dwayne Bacon   12   35   23   363   25\n24         Marvin Bagley III   83   33   18   478   21\n25               LaMelo Ball   51  221   57   553   19\n26                Lonzo Ball   20  168   43   480   23\n27                  Mo Bamba   19    4    3    81   22\n28              Desmond Bane   12   38   20   268   22\n29           Harrison Barnes   33  118   26   552   28\n30                RJ Barrett   45  109   24   612   20"
     },
     "execution_count": 129,
     "metadata": {},
     "output_type": "execute_result"
    }
   ],
   "source": [
    "Compare = NBA_C[['Player','ORB','AST','STL','PTS', 'Age']] # used for output below\r\n",
    "Compare = Compare.head(30)\r\n",
    "Compare"
   ]
  },
  {
   "cell_type": "code",
   "execution_count": 121,
   "metadata": {},
   "outputs": [
    {
     "data": {
      "image/png": "[encoded data removed]",
      "text/plain": "<Figure size 432x288 with 1 Axes>"
     },
     "metadata": {
      "needs_background": "light"
     },
     "output_type": "display_data"
    }
   ],
   "source": [
    "# scatter plot of Age vs PTS\r\n",
    "plt.scatter(NBA_C['Age'], NBA_C['PTS'], alpha = 0.3)\r\n",
    "plt.title('Scatterplot of Age vs PTS', fontsize = 15)\r\n",
    "plt.xlabel('Age')\r\n",
    "plt.ylabel('PTS')\r\n",
    "plt.show()"
   ]
  },
  {
   "cell_type": "code",
   "execution_count": 130,
   "metadata": {},
   "outputs": [
    {
     "data": {
      "image/png": "[encoded data removed]",
      "text/plain": "<Figure size 432x288 with 1 Axes>"
     },
     "metadata": {
      "needs_background": "light"
     },
     "output_type": "display_data"
    }
   ],
   "source": [
    "# scatter plot of ORB vs PTS\r\n",
    "plt.scatter(NBA_C['PTS'], NBA_C['ORB'], alpha = 0.3)\r\n",
    "plt.title('Scatterplot of PTS and ORB', fontsize = 15)\r\n",
    "plt.xlabel('PTS')\r\n",
    "plt.ylabel('ORB')\r\n",
    "plt.show()"
   ]
  },
  {
   "cell_type": "code",
   "execution_count": 125,
   "metadata": {},
   "outputs": [
    {
     "data": {
      "image/png": "[encoded data removed]",
      "text/plain": "<Figure size 432x288 with 1 Axes>"
     },
     "metadata": {
      "needs_background": "light"
     },
     "output_type": "display_data"
    }
   ],
   "source": [
    "# scatter plot of AST vs PTS\r\n",
    "plt.scatter(NBA_C['PTS'], NBA_C['AST'], alpha = 0.3)\r\n",
    "plt.title('Scatterplot of PTS and AST', fontsize = 15)\r\n",
    "plt.xlabel('AST')\r\n",
    "plt.ylabel('TRB')\r\n",
    "plt.show()"
   ]
  },
  {
   "cell_type": "code",
   "execution_count": 127,
   "metadata": {},
   "outputs": [
    {
     "data": {
      "image/png": "[encoded data removed]",
      "text/plain": "<Figure size 432x288 with 1 Axes>"
     },
     "metadata": {
      "needs_background": "light"
     },
     "output_type": "display_data"
    }
   ],
   "source": [
    "# scatter plot of AST vs PTS\r\n",
    "plt.scatter(NBA_C['PTS'], NBA_C['STL'], alpha = 0.3)\r\n",
    "plt.title('Scatterplot of PTS and STL', fontsize = 15)\r\n",
    "plt.xlabel('AST')\r\n",
    "plt.ylabel('STL')\r\n",
    "plt.show()"
   ]
  }
 ],
 "metadata": {
  "colab": {
   "collapsed_sections": [],
   "name": "assignment1_TEMPLATE.ipynb",
   "provenance": [],
   "toc_visible": true
  },
  "kernelspec": {
   "display_name": "Python 3.8.5 64-bit (conda)",
   "name": "python385jvsc74a57bd0b3ba2566441a7c06988d0923437866b63cedc61552a5af99d1f4fb67d367b25f"
  },
  "language_info": {
   "codemirror_mode": {
    "name": "ipython",
    "version": 3
   },
   "file_extension": ".py",
   "mimetype": "text/x-python",
   "name": "python",
   "nbconvert_exporter": "python",
   "pygments_lexer": "ipython3",
   "version": "3.8.5"
  }
 },
 "nbformat": 4,
 "nbformat_minor": 1
}