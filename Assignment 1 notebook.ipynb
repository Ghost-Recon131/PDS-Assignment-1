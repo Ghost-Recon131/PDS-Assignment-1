{
 "cells": [
  {
   "cell_type": "markdown",
   "metadata": {
    "id": "u-EEv9utoT69"
   },
   "source": [
    "# Task 1: Data Preparation"
   ]
  },
  {
   "cell_type": "markdown",
   "metadata": {},
   "source": [
    "### Imports & format checks"
   ]
  },
  {
   "cell_type": "code",
   "execution_count": null,
   "metadata": {
    "id": "Qykq4YuQtZUS"
   },
   "outputs": [],
   "source": [
    "import pandas as pd\n",
    "import numpy as np\n",
    "import matplotlib.pyplot as plt\n",
    "import seaborn as sns\n",
    "# Import nessasary libraries"
   ]
  },
  {
   "cell_type": "code",
   "execution_count": null,
   "metadata": {
    "id": "RhLG8LgxsFd7"
   },
   "outputs": [],
   "source": [
    "# Load the data from the file NBA_players_stats.csv using pandas library.\n",
    "NBA = pd.read_csv('NBA_players_stats.csv', index_col=0) #prevent index number from affecting result"
   ]
  },
  {
   "cell_type": "code",
   "execution_count": null,
   "metadata": {},
   "outputs": [],
   "source": [
    "NBA.columns"
   ]
  },
  {
   "cell_type": "code",
   "execution_count": null,
   "metadata": {},
   "outputs": [],
   "source": [
    "NBA.dtypes # Get data type for each column & verify they are correct"
   ]
  },
  {
   "cell_type": "code",
   "execution_count": null,
   "metadata": {},
   "outputs": [],
   "source": [
    "missing = False \n",
    "for feature in NBA:\n",
    "    for observation in feature:\n",
    "        if observation is None or observation == '' or observation == np.NaN: # check for None types, empty strings, or the NumPy type NaN\n",
    "            missing = True\n",
    "if missing == True:\n",
    "    print(\"There are missing values\")\n",
    "else:\n",
    "    print(\"There are no missing values\")"
   ]
  },
  {
   "cell_type": "markdown",
   "metadata": {},
   "source": [
    "The code above checks for any missing values in the dataset, which can be done by inspection but it will take a while.\n",
    "As we see, there are no missing values. "
   ]
  },
  {
   "cell_type": "markdown",
   "metadata": {},
   "source": [
    "This code shows us players who appear more than once in the dataset, as well as the row the duplicate is located and deal with it when cleaning the data. "
   ]
  },
  {
   "cell_type": "code",
   "execution_count": null,
   "metadata": {},
   "outputs": [],
   "source": [
    "duplicate_names = NBA.duplicated('Player')\n",
    "NBA[['Player']][duplicate_names]"
   ]
  },
  {
   "cell_type": "markdown",
   "metadata": {},
   "source": [
    "Cleaning data - Player (The data type needs to be changed from object to string since its player name)"
   ]
  },
  {
   "cell_type": "code",
   "execution_count": null,
   "metadata": {},
   "outputs": [],
   "source": [
    "NBA['Player'] = NBA['Player'].astype(pd.StringDtype()) "
   ]
  },
  {
   "cell_type": "code",
   "execution_count": null,
   "metadata": {
    "scrolled": true
   },
   "outputs": [],
   "source": []
  },
  {
   "cell_type": "markdown",
   "metadata": {},
   "source": [
    "Cleaning data - Pos"
   ]
  },
  {
   "cell_type": "code",
   "execution_count": null,
   "metadata": {},
   "outputs": [],
   "source": [
    "NBA['Pos'] = NBA['Pos'].str.lstrip()  # or remove space at d begining of a string\n",
    "NBA['Pos'] = NBA['Pos'].str.rstrip()  #remove space at d end of a string\n",
    "NBA['Pos'] = NBA['Pos'].replace('SGa', 'SG')  ## replacing some irregular values in Pos column\n",
    "NBA['Pos'] = NBA['Pos'].replace('sg', 'SG')\n",
    "NBA['Pos'] = NBA['Pos'].replace('SF.', 'SF')\n",
    "NBA['Pos'] = NBA['Pos'].replace('Sf', 'SF')\n",
    "\n",
    "NBA['Pos'] = NBA['Pos'].replace('pg', 'PG')\n",
    "\n",
    "NBA['Pos'] = NBA['Pos'].replace('PFa', 'PF')\n",
    "NBA['Pos'] = NBA['Pos'].replace('Pg', 'PG')\n",
    "NBA['Pos'] = NBA['Pos'].astype(pd.StringDtype()) "
   ]
  },
  {
   "cell_type": "code",
   "execution_count": null,
   "metadata": {},
   "outputs": [],
   "source": []
  },
  {
   "cell_type": "markdown",
   "metadata": {},
   "source": [
    "Cleaning data - Age"
   ]
  },
  {
   "cell_type": "code",
   "execution_count": null,
   "metadata": {},
   "outputs": [],
   "source": [
    "min = NBA[\"Age\"].min()\n",
    "max = NBA[\"Age\"].max()\n",
    "print (\"The youngest player is aged: \", min)\n",
    "print (\"The oldest player is aged: \", max)"
   ]
  },
  {
   "cell_type": "markdown",
   "metadata": {},
   "source": [
    "Upon checking the Age, we see the youngest player is age: -19 and the oldest is 280. These are obviously outside the human life expectancy. "
   ]
  },
  {
   "cell_type": "code",
   "execution_count": null,
   "metadata": {},
   "outputs": [],
   "source": [
    "print (\"Players who are over 40: ]                                                                                              \")\n",
    "NBA[['Age', 'Player']][NBA.Age > 40]"
   ]
  },
  {
   "cell_type": "markdown",
   "metadata": {},
   "source": [
    "remove the irregular values on age column"
   ]
  },
  {
   "cell_type": "code",
   "execution_count": null,
   "metadata": {},
   "outputs": [],
   "source": [
    "NBA['Age'] = np.where((NBA.Age == 280), 28, NBA.Age)\n",
    "NBA['Age'] = np.where((NBA.Age == -19), 19, NBA.Age)"
   ]
  },
  {
   "cell_type": "code",
   "execution_count": null,
   "metadata": {},
   "outputs": [],
   "source": []
  },
  {
   "cell_type": "markdown",
   "metadata": {},
   "source": [
    "Cleaning data - Team"
   ]
  },
  {
   "cell_type": "code",
   "execution_count": null,
   "metadata": {},
   "outputs": [],
   "source": []
  },
  {
   "cell_type": "code",
   "execution_count": null,
   "metadata": {},
   "outputs": [],
   "source": [
    "#NBA['Tm'] = list(NBA.Tm.str.split(',').str[-1].str.strip(')'))"
   ]
  },
  {
   "cell_type": "code",
   "execution_count": null,
   "metadata": {},
   "outputs": [],
   "source": [
    "NBA['Tm'] = NBA['Tm'].astype(pd.StringDtype()) \n",
    "NBA['Tm'] = NBA['Tm'].str.rstrip() ##NBA['Tm'] = NBA['Tm'].str.rstrip() remove space at d end of a string\n",
    "NBA['Tm'] = NBA['Tm'].str.lstrip()  ##remove space at d begining of a string\n",
    "NBA['Tm'] = NBA['Tm'].replace('H0U', 'HOU')\n",
    "NBA['Tm'] = NBA['Tm'].replace('NyK', 'NYK')"
   ]
  },
  {
   "cell_type": "code",
   "execution_count": null,
   "metadata": {},
   "outputs": [],
   "source": []
  },
  {
   "cell_type": "markdown",
   "metadata": {},
   "source": [
    "Checking data for errors at G (numbers of games played)"
   ]
  },
  {
   "cell_type": "code",
   "execution_count": null,
   "metadata": {},
   "outputs": [],
   "source": [
    "NBA.G.max()    ### max is less than 82"
   ]
  },
  {
   "cell_type": "code",
   "execution_count": null,
   "metadata": {},
   "outputs": [],
   "source": [
    "NBA.G.unique()"
   ]
  },
  {
   "cell_type": "code",
   "execution_count": null,
   "metadata": {},
   "outputs": [],
   "source": []
  },
  {
   "cell_type": "markdown",
   "metadata": {},
   "source": [
    "Checking data for errors at Gs (numbers of games played as starter)"
   ]
  },
  {
   "cell_type": "code",
   "execution_count": null,
   "metadata": {},
   "outputs": [],
   "source": [
    "NBA.GS.unique()"
   ]
  },
  {
   "cell_type": "code",
   "execution_count": null,
   "metadata": {},
   "outputs": [],
   "source": []
  },
  {
   "cell_type": "code",
   "execution_count": null,
   "metadata": {},
   "outputs": [],
   "source": [
    "NBA.MP.unique()"
   ]
  },
  {
   "cell_type": "code",
   "execution_count": null,
   "metadata": {},
   "outputs": [],
   "source": []
  },
  {
   "cell_type": "code",
   "execution_count": null,
   "metadata": {},
   "outputs": [],
   "source": [
    "NBA.FG.unique()   #check for inapproprait value"
   ]
  },
  {
   "cell_type": "code",
   "execution_count": null,
   "metadata": {},
   "outputs": [],
   "source": []
  },
  {
   "cell_type": "code",
   "execution_count": null,
   "metadata": {},
   "outputs": [],
   "source": [
    "NBA.FGA.unique()"
   ]
  },
  {
   "cell_type": "code",
   "execution_count": null,
   "metadata": {},
   "outputs": [],
   "source": []
  },
  {
   "cell_type": "code",
   "execution_count": null,
   "metadata": {},
   "outputs": [],
   "source": [
    "NBA['FG%'].unique()"
   ]
  },
  {
   "cell_type": "code",
   "execution_count": null,
   "metadata": {},
   "outputs": [],
   "source": [
    "checkna = NBA['FG%'].isnull().values.any()\n",
    "checkna"
   ]
  },
  {
   "cell_type": "code",
   "execution_count": null,
   "metadata": {},
   "outputs": [],
   "source": [
    "fg = NBA[NBA['FG%'].isnull()].head()\n",
    "fg[['FG','FGA']]"
   ]
  },
  {
   "cell_type": "code",
   "execution_count": null,
   "metadata": {},
   "outputs": [],
   "source": [
    "NBA['FG%'] = NBA['FG%'].fillna(0)"
   ]
  },
  {
   "cell_type": "code",
   "execution_count": null,
   "metadata": {},
   "outputs": [],
   "source": []
  },
  {
   "cell_type": "code",
   "execution_count": null,
   "metadata": {},
   "outputs": [],
   "source": [
    "NBA['3P'].unique()"
   ]
  },
  {
   "cell_type": "code",
   "execution_count": null,
   "metadata": {},
   "outputs": [],
   "source": [
    "checkna = NBA['3P'].isnull().values.any()\n",
    "checkna"
   ]
  },
  {
   "cell_type": "code",
   "execution_count": null,
   "metadata": {},
   "outputs": [],
   "source": [
    "NBA['3PA'].unique()"
   ]
  },
  {
   "cell_type": "code",
   "execution_count": null,
   "metadata": {},
   "outputs": [],
   "source": [
    "checkna = NBA['3PA'].isnull().values.any()\n",
    "checkna"
   ]
  },
  {
   "cell_type": "code",
   "execution_count": null,
   "metadata": {},
   "outputs": [],
   "source": [
    "NBA['3P%'].unique()"
   ]
  },
  {
   "cell_type": "code",
   "execution_count": null,
   "metadata": {},
   "outputs": [],
   "source": [
    "checkna = NBA['3P%'].isnull().values.any()\n",
    "checkna"
   ]
  },
  {
   "cell_type": "code",
   "execution_count": null,
   "metadata": {},
   "outputs": [],
   "source": [
    "threePercent = NBA[NBA['3P%'].isnull()].head()\n",
    "threePercent[['3P','3PA']]"
   ]
  },
  {
   "cell_type": "markdown",
   "metadata": {},
   "source": [
    "Fill nan with zero and recheck again"
   ]
  },
  {
   "cell_type": "code",
   "execution_count": null,
   "metadata": {},
   "outputs": [],
   "source": [
    "NBA['3P%'] = NBA['3P%'].fillna(0)\n",
    "checkna = NBA['3P%'].isnull().values.any()\n",
    "checkna"
   ]
  },
  {
   "cell_type": "code",
   "execution_count": null,
   "metadata": {},
   "outputs": [],
   "source": []
  },
  {
   "cell_type": "code",
   "execution_count": null,
   "metadata": {},
   "outputs": [],
   "source": [
    "NBA['2P'].unique()"
   ]
  },
  {
   "cell_type": "code",
   "execution_count": null,
   "metadata": {},
   "outputs": [],
   "source": [
    "checkna = NBA['3P'].isnull().values.any()\n",
    "checkna"
   ]
  },
  {
   "cell_type": "code",
   "execution_count": null,
   "metadata": {},
   "outputs": [],
   "source": [
    "NBA['2PA'].unique()"
   ]
  },
  {
   "cell_type": "code",
   "execution_count": null,
   "metadata": {},
   "outputs": [],
   "source": [
    "checkna = NBA['2PA'].isnull().values.any()\n",
    "checkna"
   ]
  },
  {
   "cell_type": "code",
   "execution_count": null,
   "metadata": {},
   "outputs": [],
   "source": [
    "NBA['2P%'].unique()"
   ]
  },
  {
   "cell_type": "code",
   "execution_count": null,
   "metadata": {},
   "outputs": [],
   "source": [
    "checkna = NBA['2P%'].isnull().values.any()\n",
    "checkna"
   ]
  },
  {
   "cell_type": "code",
   "execution_count": null,
   "metadata": {},
   "outputs": [],
   "source": [
    "twoPercent = NBA[NBA['2P%'].isnull()].head()\n",
    "twoPercent[['2P','2PA']]"
   ]
  },
  {
   "cell_type": "code",
   "execution_count": null,
   "metadata": {},
   "outputs": [],
   "source": [
    "NBA['2P%'] = NBA['2P%'].fillna(0)\n",
    "checkna = NBA['2P%'].isnull().values.any()\n",
    "checkna"
   ]
  },
  {
   "cell_type": "code",
   "execution_count": null,
   "metadata": {},
   "outputs": [],
   "source": []
  },
  {
   "cell_type": "code",
   "execution_count": null,
   "metadata": {},
   "outputs": [],
   "source": [
    "NBA['FT'].unique()"
   ]
  },
  {
   "cell_type": "code",
   "execution_count": null,
   "metadata": {},
   "outputs": [],
   "source": [
    "checkna = NBA['FT'].isnull().values.any()\n",
    "checkna"
   ]
  },
  {
   "cell_type": "code",
   "execution_count": null,
   "metadata": {},
   "outputs": [],
   "source": [
    "NBA['FTA'].unique()"
   ]
  },
  {
   "cell_type": "code",
   "execution_count": null,
   "metadata": {},
   "outputs": [],
   "source": [
    "checkna = NBA['FTA'].isnull().values.any()\n",
    "checkna"
   ]
  },
  {
   "cell_type": "code",
   "execution_count": null,
   "metadata": {},
   "outputs": [],
   "source": [
    "NBA['FT%'].unique()"
   ]
  },
  {
   "cell_type": "code",
   "execution_count": null,
   "metadata": {},
   "outputs": [],
   "source": [
    "checkna = NBA['FT%'].isnull().values.any()\n",
    "checkna"
   ]
  },
  {
   "cell_type": "code",
   "execution_count": null,
   "metadata": {},
   "outputs": [],
   "source": [
    "threePercent = NBA[NBA['FT%'].isnull()].head()\n",
    "threePercent[['FT','FTA']]"
   ]
  },
  {
   "cell_type": "code",
   "execution_count": null,
   "metadata": {},
   "outputs": [],
   "source": [
    "NBA['FT%'] = NBA['FT%'].fillna(0)\n",
    "checkna = NBA['FT%'].isnull().values.any()\n",
    "checkna"
   ]
  },
  {
   "cell_type": "code",
   "execution_count": null,
   "metadata": {},
   "outputs": [],
   "source": []
  },
  {
   "cell_type": "code",
   "execution_count": null,
   "metadata": {},
   "outputs": [],
   "source": [
    "NBA['ORB'].unique()"
   ]
  },
  {
   "cell_type": "code",
   "execution_count": null,
   "metadata": {},
   "outputs": [],
   "source": [
    "checkna = NBA['ORB'].isnull().values.any()\n",
    "checkna"
   ]
  },
  {
   "cell_type": "code",
   "execution_count": null,
   "metadata": {},
   "outputs": [],
   "source": []
  },
  {
   "cell_type": "code",
   "execution_count": null,
   "metadata": {},
   "outputs": [],
   "source": [
    "NBA['DRB'].unique()"
   ]
  },
  {
   "cell_type": "code",
   "execution_count": null,
   "metadata": {},
   "outputs": [],
   "source": [
    "checkna = NBA['DRB'].isnull().values.any()\n",
    "checkna"
   ]
  },
  {
   "cell_type": "code",
   "execution_count": null,
   "metadata": {},
   "outputs": [],
   "source": []
  },
  {
   "cell_type": "code",
   "execution_count": null,
   "metadata": {},
   "outputs": [],
   "source": [
    "NBA['TRB'].unique()"
   ]
  },
  {
   "cell_type": "code",
   "execution_count": null,
   "metadata": {},
   "outputs": [],
   "source": [
    "checkna = NBA['TRB'].isnull().values.any()\n",
    "checkna"
   ]
  },
  {
   "cell_type": "code",
   "execution_count": null,
   "metadata": {},
   "outputs": [],
   "source": []
  },
  {
   "cell_type": "code",
   "execution_count": null,
   "metadata": {},
   "outputs": [],
   "source": [
    "NBA['AST'].unique()"
   ]
  },
  {
   "cell_type": "code",
   "execution_count": null,
   "metadata": {},
   "outputs": [],
   "source": [
    "checkna = NBA['AST'].isnull().values.any()\n",
    "checkna"
   ]
  },
  {
   "cell_type": "code",
   "execution_count": null,
   "metadata": {},
   "outputs": [],
   "source": []
  },
  {
   "cell_type": "code",
   "execution_count": null,
   "metadata": {},
   "outputs": [],
   "source": [
    "NBA['STL'].unique()"
   ]
  },
  {
   "cell_type": "code",
   "execution_count": null,
   "metadata": {},
   "outputs": [],
   "source": [
    "checkna = NBA['STL'].isnull().values.any()\n",
    "checkna"
   ]
  },
  {
   "cell_type": "code",
   "execution_count": null,
   "metadata": {},
   "outputs": [],
   "source": []
  },
  {
   "cell_type": "code",
   "execution_count": null,
   "metadata": {},
   "outputs": [],
   "source": [
    "NBA['BLK'].unique()"
   ]
  },
  {
   "cell_type": "code",
   "execution_count": null,
   "metadata": {},
   "outputs": [],
   "source": [
    "checkna = NBA['BLK'].isnull().values.any()\n",
    "checkna"
   ]
  },
  {
   "cell_type": "code",
   "execution_count": null,
   "metadata": {},
   "outputs": [],
   "source": []
  },
  {
   "cell_type": "code",
   "execution_count": null,
   "metadata": {},
   "outputs": [],
   "source": [
    "NBA['TOV'].unique()"
   ]
  },
  {
   "cell_type": "code",
   "execution_count": null,
   "metadata": {},
   "outputs": [],
   "source": [
    "checkna = NBA['TRB'].isnull().values.any()\n",
    "checkna"
   ]
  },
  {
   "cell_type": "code",
   "execution_count": null,
   "metadata": {},
   "outputs": [],
   "source": []
  },
  {
   "cell_type": "code",
   "execution_count": null,
   "metadata": {},
   "outputs": [],
   "source": [
    "NBA['PF'].unique()"
   ]
  },
  {
   "cell_type": "code",
   "execution_count": null,
   "metadata": {},
   "outputs": [],
   "source": [
    "checkna = NBA['PF'].isnull().values.any()\n",
    "checkna"
   ]
  },
  {
   "cell_type": "code",
   "execution_count": null,
   "metadata": {},
   "outputs": [],
   "source": [
    "NBA.loc[NBA['PTS'] > 2000]"
   ]
  },
  {
   "cell_type": "code",
   "execution_count": null,
   "metadata": {},
   "outputs": [],
   "source": [
    "NBA.loc[NBA['PTS'] > 2000, 'PTS'] = list((NBA.loc[NBA['PTS'] > 2000].PTS/100).astype(int))"
   ]
  },
  {
   "cell_type": "code",
   "execution_count": null,
   "metadata": {},
   "outputs": [],
   "source": [
    "checkna = NBA['PTS'].isnull().values.any()\n",
    "checkna"
   ]
  },
  {
   "cell_type": "markdown",
   "metadata": {},
   "source": [
    "To clean duplicate player data, I add their int and float values throughout the season and pick their current team and position"
   ]
  },
  {
   "cell_type": "code",
   "execution_count": null,
   "metadata": {
    "scrolled": true
   },
   "outputs": [],
   "source": [
    "NBA = NBA.groupby(['Rk','Player','Age']).agg({\n",
    " 'Pos':','.join,\n",
    " 'Tm': ','.join,\n",
    " 'G':'sum',\n",
    " 'GS':'sum',\n",
    " 'MP':'sum',\n",
    " 'FG':'sum',\n",
    " 'FGA':'sum',\n",
    " 'FG%':'sum',\n",
    " '3P':'sum',\n",
    " '3PA':'sum',\n",
    " '3P%':'sum',\n",
    " '2P':'sum',\n",
    " '2PA':'sum',\n",
    " '2P%':'sum',\n",
    " 'FT':'sum',\n",
    " 'FTA':'sum',\n",
    " 'FT%':'sum',\n",
    " 'ORB':'sum',\n",
    " 'DRB':'sum',\n",
    " 'TRB':'sum',\n",
    " 'AST':'sum',\n",
    " 'STL':'sum',\n",
    " 'BLK':'sum',\n",
    " 'TOV':'sum',\n",
    " 'PF':'sum',\n",
    " 'PTS':'sum'})\n",
    "\n",
    "NBA['Tm'] = list(NBA.Tm.str.split(',').str[-1].str.strip(')'))\n",
    "NBA['Pos'] = list(NBA.Pos.str.split(',').str[-1].str.strip(')'))\n",
    "NBA = NBA.reset_index(level=[1,2])\n",
    "NBA['Player'] = NBA['Player'].astype(pd.StringDtype()) \n",
    "NBA['Pos'] = NBA['Pos'].astype(pd.StringDtype()) \n",
    "NBA['Tm'] = NBA['Tm'].astype(pd.StringDtype()) \n",
    "NBA.head(30)"
   ]
  },
  {
   "cell_type": "code",
   "execution_count": null,
   "metadata": {},
   "outputs": [],
   "source": [
    "NBA.dtypes"
   ]
  },
  {
   "cell_type": "code",
   "execution_count": null,
   "metadata": {
    "id": "RU9Pm6LKfToO"
   },
   "outputs": [],
   "source": [
    "\"\"\"\n",
    "Make sure that you write the final cleaned dataframe object into a csv file\n",
    "XXXXX.to_csv('cleaned_NBA_players_stats.csv', index=False)\n",
    "Please replace XXXXX with your dataframe variable.\n",
    "\"\"\"\n",
    "NBA.to_csv('fileoutput.csv')"
   ]
  },
  {
   "cell_type": "markdown",
   "metadata": {},
   "source": [
    "### Checking Data for errors - Player"
   ]
  },
  {
   "cell_type": "code",
   "execution_count": null,
   "metadata": {},
   "outputs": [],
   "source": [
    "dtyp = NBA['Player'].dtype\n",
    "checkna = NBA['Player'].isnull().values.any()\n",
    "lent = len(NBA['Player'].unique())\n",
    "print (\"The data type is (should be string): \", dtyp)\n",
    "print (\"Is there NaN values (should be False): \", checkna)\n",
    "print (\"Numbers of team available is (should be 492): \", lent)"
   ]
  },
  {
   "cell_type": "markdown",
   "metadata": {},
   "source": [
    "### Checking Data for errors - Age"
   ]
  },
  {
   "cell_type": "code",
   "execution_count": null,
   "metadata": {},
   "outputs": [],
   "source": [
    "min = NBA[\"Age\"].min()\n",
    "max = NBA[\"Age\"].max()\n",
    "print (\"The youngest player is aged: \", min)\n",
    "print (\"The oldest player is aged: \", max)"
   ]
  },
  {
   "cell_type": "code",
   "execution_count": null,
   "metadata": {},
   "outputs": [],
   "source": [
    "print (\"Players who are over 40: ]                                                                                              \")\n",
    "NBA[['Age', 'Player']][NBA.Age > 40]"
   ]
  },
  {
   "cell_type": "code",
   "execution_count": null,
   "metadata": {},
   "outputs": [],
   "source": [
    "print (\"Players who are younger than 18: \")\n",
    "NBA[['Age', 'Player']][NBA.Age < 18]"
   ]
  },
  {
   "cell_type": "markdown",
   "metadata": {},
   "source": [
    "### Checking Data for errors - Position"
   ]
  },
  {
   "cell_type": "code",
   "execution_count": null,
   "metadata": {},
   "outputs": [],
   "source": [
    "dtyp = NBA['Pos'].dtype\n",
    "checkna = NBA['Pos'].isnull().values.any()\n",
    "lent = len(NBA['Pos'].unique())\n",
    "print (\"The data type is (should be int): \", dtyp)\n",
    "print (\"Is there NaN values (should be False): \", checkna)\n",
    "print (\"Numbers of positions available is (should be 7 or less): \", lent)"
   ]
  },
  {
   "cell_type": "markdown",
   "metadata": {},
   "source": [
    "### Checking Data for errors - Team"
   ]
  },
  {
   "cell_type": "code",
   "execution_count": null,
   "metadata": {},
   "outputs": [],
   "source": [
    "dtyp = NBA['Tm'].dtype\n",
    "checkna = NBA['Tm'].isnull().values.any()\n",
    "lent = len(NBA['Tm'].unique())\n",
    "print (\"The data type is (should be int): \", dtyp)\n",
    "print (\"Is there NaN values (should be False): \", checkna)\n",
    "print (\"Numbers of team available is (should be 31 or less): \", lent)"
   ]
  },
  {
   "cell_type": "markdown",
   "metadata": {},
   "source": [
    "### Checking Data for errors - Games"
   ]
  },
  {
   "cell_type": "code",
   "execution_count": null,
   "metadata": {},
   "outputs": [],
   "source": [
    "dtyp = NBA['G'].dtype\n",
    "checkna = NBA['G'].isnull().values.any()\n",
    "print (\"The data type is (should be int): \", dtyp)\n",
    "print (\"Is there NaN values (should be False): \", checkna)"
   ]
  },
  {
   "cell_type": "markdown",
   "metadata": {},
   "source": [
    "### Checking Data for errors - Games Started"
   ]
  },
  {
   "cell_type": "code",
   "execution_count": null,
   "metadata": {},
   "outputs": [],
   "source": [
    "dtyp = NBA['GS'].dtype\n",
    "checkna = NBA['GS'].isnull().values.any()\n",
    "print (\"The data type is (should be int): \", dtyp)\n",
    "print (\"Is there NaN values (should be False): \", checkna)"
   ]
  },
  {
   "cell_type": "markdown",
   "metadata": {},
   "source": [
    "### Checking Data for errors - Minutes Played"
   ]
  },
  {
   "cell_type": "code",
   "execution_count": null,
   "metadata": {},
   "outputs": [],
   "source": [
    "dtyp = NBA['PF'].dtype\n",
    "checkna = NBA['PF'].isnull().values.any()\n",
    "print (\"The data type is (should be int): \", dtyp)\n",
    "print (\"Is there NaN values (should be False): \", checkna)"
   ]
  },
  {
   "cell_type": "markdown",
   "metadata": {},
   "source": [
    "### Checking Data for errors - Field Goals"
   ]
  },
  {
   "cell_type": "code",
   "execution_count": null,
   "metadata": {},
   "outputs": [],
   "source": [
    "dtyp = NBA['FG'].dtype\n",
    "checkna = NBA['FG'].isnull().values.any()\n",
    "print (\"The data type is (should be int): \", dtyp)\n",
    "print (\"Is there NaN values (should be False): \", checkna)"
   ]
  },
  {
   "cell_type": "markdown",
   "metadata": {},
   "source": [
    "### Checking Data for errors - Field Goal Attempts"
   ]
  },
  {
   "cell_type": "code",
   "execution_count": null,
   "metadata": {},
   "outputs": [],
   "source": [
    "dtyp = NBA['FGA'].dtype\n",
    "checkna = NBA['FGA'].isnull().values.any()\n",
    "print (\"The data type is (should be int): \", dtyp)\n",
    "print (\"Is there NaN values (should be False): \", checkna)"
   ]
  },
  {
   "cell_type": "markdown",
   "metadata": {},
   "source": [
    "### Checking Data for errors - Field Goal Percentage"
   ]
  },
  {
   "cell_type": "code",
   "execution_count": null,
   "metadata": {},
   "outputs": [],
   "source": [
    "dtyp = NBA['FG%'].dtype\n",
    "checkna = NBA['FG%'].isnull().values.any()\n",
    "print (\"The data type is (should be float): \", dtyp)\n",
    "print (\"Is there NaN values (should be False): \", checkna)"
   ]
  },
  {
   "cell_type": "markdown",
   "metadata": {},
   "source": [
    "### Checking Data for errors - 3-Point Field Goals"
   ]
  },
  {
   "cell_type": "code",
   "execution_count": null,
   "metadata": {},
   "outputs": [],
   "source": [
    "dtyp = NBA['3P'].dtype\n",
    "checkna = NBA['3P'].isnull().values.any()\n",
    "print (\"The data type is (should be int): \", dtyp)\n",
    "print (\"Is there NaN values (should be False): \", checkna)"
   ]
  },
  {
   "cell_type": "markdown",
   "metadata": {},
   "source": [
    "### Checking Data for errors - 3-Point Field Goal Attempts"
   ]
  },
  {
   "cell_type": "code",
   "execution_count": null,
   "metadata": {},
   "outputs": [],
   "source": [
    "dtyp = NBA['3PA'].dtype\n",
    "checkna = NBA['3PA'].isnull().values.any()\n",
    "print (\"The data type is (should be int): \", dtyp)\n",
    "print (\"Is there NaN values (should be False): \", checkna)"
   ]
  },
  {
   "cell_type": "markdown",
   "metadata": {},
   "source": [
    "### Checking Data for errors - 3-Point Field Goal Percentage"
   ]
  },
  {
   "cell_type": "code",
   "execution_count": null,
   "metadata": {},
   "outputs": [],
   "source": [
    "dtyp = NBA['3P%'].dtype\n",
    "checkna = NBA['3P%'].isnull().values.any()\n",
    "print (\"The data type is (should be float): \", dtyp)\n",
    "print (\"Is there NaN values (should be False): \", checkna)"
   ]
  },
  {
   "cell_type": "markdown",
   "metadata": {},
   "source": [
    "### Checking Data for errors - 2-Point Field Goals"
   ]
  },
  {
   "cell_type": "code",
   "execution_count": null,
   "metadata": {},
   "outputs": [],
   "source": [
    "dtyp = NBA['2P'].dtype\n",
    "checkna = NBA['2P'].isnull().values.any()\n",
    "print (\"The data type is (should be int): \", dtyp)\n",
    "print (\"Is there NaN values (should be False): \", checkna)"
   ]
  },
  {
   "cell_type": "markdown",
   "metadata": {},
   "source": [
    "### Checking Data for errors - 2-Point Field Goal Attempts"
   ]
  },
  {
   "cell_type": "code",
   "execution_count": null,
   "metadata": {},
   "outputs": [],
   "source": [
    "dtyp = NBA['2PA'].dtype\n",
    "checkna = NBA['2PA'].isnull().values.any()\n",
    "print (\"The data type is (should be int): \", dtyp)\n",
    "print (\"Is there NaN values (should be False): \", checkna)"
   ]
  },
  {
   "cell_type": "markdown",
   "metadata": {},
   "source": [
    "### Checking Data for errors - 2-Point Field Goal Percentage"
   ]
  },
  {
   "cell_type": "code",
   "execution_count": null,
   "metadata": {},
   "outputs": [],
   "source": [
    "dtyp = NBA['2P%'].dtype\n",
    "checkna = NBA['2P%'].isnull().values.any()\n",
    "print (\"The data type is (should be float): \", dtyp)\n",
    "print (\"Is there NaN values (should be False): \", checkna)"
   ]
  },
  {
   "cell_type": "markdown",
   "metadata": {},
   "source": [
    "### Checking Data for errors - Free Throws"
   ]
  },
  {
   "cell_type": "code",
   "execution_count": null,
   "metadata": {},
   "outputs": [],
   "source": [
    "dtyp = NBA['FT'].dtype\n",
    "checkna = NBA['FT'].isnull().values.any()\n",
    "print (\"The data type is (should be int): \", dtyp)\n",
    "print (\"Is there NaN values (should be False): \", checkna)"
   ]
  },
  {
   "cell_type": "markdown",
   "metadata": {},
   "source": [
    "### Checking Data for errors - Free Throw Attempts"
   ]
  },
  {
   "cell_type": "code",
   "execution_count": null,
   "metadata": {},
   "outputs": [],
   "source": [
    "dtyp = NBA['FTA'].dtype\n",
    "checkna = NBA['FTA'].isnull().values.any()\n",
    "print (\"The data type is (should be int): \", dtyp)\n",
    "print (\"Is there NaN values (should be False): \", checkna)"
   ]
  },
  {
   "cell_type": "markdown",
   "metadata": {},
   "source": [
    "### Checking Data for errors - Free Throw Percentage"
   ]
  },
  {
   "cell_type": "code",
   "execution_count": null,
   "metadata": {},
   "outputs": [],
   "source": [
    "dtyp = NBA['FT%'].dtype\n",
    "checkna = NBA['FT%'].isnull().values.any()\n",
    "print (\"The data type is (should be float): \", dtyp)\n",
    "print (\"Is there NaN values (should be False): \", checkna)"
   ]
  },
  {
   "cell_type": "markdown",
   "metadata": {},
   "source": [
    "### Checking Data for errors - Offensive Rebounds"
   ]
  },
  {
   "cell_type": "code",
   "execution_count": null,
   "metadata": {},
   "outputs": [],
   "source": [
    "dtyp = NBA['ORB'].dtype\n",
    "checkna = NBA['ORB'].isnull().values.any()\n",
    "print (\"The data type is (should be int): \", dtyp)\n",
    "print (\"Is there NaN values (should be False): \", checkna)"
   ]
  },
  {
   "cell_type": "markdown",
   "metadata": {},
   "source": [
    "### Checking Data for errors - Defensive Rebounds"
   ]
  },
  {
   "cell_type": "code",
   "execution_count": null,
   "metadata": {},
   "outputs": [],
   "source": [
    "dtyp = NBA['DRB'].dtype\n",
    "checkna = NBA['DRB'].isnull().values.any()\n",
    "print (\"The data type is (should be int): \", dtyp)\n",
    "print (\"Is there NaN values (should be False): \", checkna)"
   ]
  },
  {
   "cell_type": "markdown",
   "metadata": {},
   "source": [
    "### Checking Data for errors - Total Rebounds"
   ]
  },
  {
   "cell_type": "code",
   "execution_count": null,
   "metadata": {},
   "outputs": [],
   "source": [
    "dtyp = NBA['TRB'].dtype\n",
    "checkna = NBA['TRB'].isnull().values.any()\n",
    "print (\"The data type is (should be int): \", dtyp)\n",
    "print (\"Is there NaN values (should be False): \", checkna)"
   ]
  },
  {
   "cell_type": "markdown",
   "metadata": {},
   "source": [
    "### Checking Data for errors - Assists"
   ]
  },
  {
   "cell_type": "code",
   "execution_count": null,
   "metadata": {},
   "outputs": [],
   "source": [
    "dtyp = NBA['AST'].dtype\n",
    "checkna = NBA['AST'].isnull().values.any()\n",
    "print (\"The data type is (should be int): \", dtyp)\n",
    "print (\"Is there NaN values (should be False): \", checkna)"
   ]
  },
  {
   "cell_type": "markdown",
   "metadata": {},
   "source": [
    "### Checking Data for errors - Steals"
   ]
  },
  {
   "cell_type": "code",
   "execution_count": null,
   "metadata": {},
   "outputs": [],
   "source": [
    "dtyp = NBA['STL'].dtype\n",
    "checkna = NBA['STL'].isnull().values.any()\n",
    "print (\"The data type is (should be int): \", dtyp)\n",
    "print (\"Is there NaN values (should be False): \", checkna)"
   ]
  },
  {
   "cell_type": "markdown",
   "metadata": {},
   "source": [
    "### Checking Data for errors - Blocks"
   ]
  },
  {
   "cell_type": "code",
   "execution_count": null,
   "metadata": {},
   "outputs": [],
   "source": [
    "dtyp = NBA['BLK'].dtype\n",
    "checkna = NBA['BLK'].isnull().values.any()\n",
    "print (\"The data type is (should be int): \", dtyp)\n",
    "print (\"Is there NaN values (should be False): \", checkna)"
   ]
  },
  {
   "cell_type": "markdown",
   "metadata": {},
   "source": [
    "### Checking Data for errors - Turnovers"
   ]
  },
  {
   "cell_type": "code",
   "execution_count": null,
   "metadata": {},
   "outputs": [],
   "source": [
    "dtyp = NBA['TOV'].dtype\n",
    "checkna = NBA['TOV'].isnull().values.any()\n",
    "print (\"The data type is (should be int): \", dtyp)\n",
    "print (\"Is there NaN values (should be False): \", checkna)"
   ]
  },
  {
   "cell_type": "markdown",
   "metadata": {},
   "source": [
    "### Checking Data for errors - Personal Fouls"
   ]
  },
  {
   "cell_type": "code",
   "execution_count": null,
   "metadata": {},
   "outputs": [],
   "source": [
    "dtyp = NBA['PF'].dtype\n",
    "checkna = NBA['PF'].isnull().values.any()\n",
    "print (\"The data type is (should be int): \", dtyp)\n",
    "print (\"Is there NaN values (should be False): \", checkna)"
   ]
  },
  {
   "cell_type": "markdown",
   "metadata": {},
   "source": [
    "### Checking Data for errors - The Total Points"
   ]
  },
  {
   "cell_type": "code",
   "execution_count": null,
   "metadata": {},
   "outputs": [],
   "source": [
    "dtyp = NBA['PTS'].dtype\n",
    "checkna = NBA['PTS'].isnull().values.any()\n",
    "min = NBA[\"PTS\"].min()\n",
    "max = NBA[\"PTS\"].max()\n",
    "print (\"The data type is (should be int): \", dtyp)\n",
    "print (\"Is there NaN values (should be False): \", checkna)\n",
    "print (\"The highest point is (should be less than 2000): \", max)\n",
    "print (\"The lowest point is (should  not be less than zero): \", min)"
   ]
  },
  {
   "cell_type": "markdown",
   "metadata": {
    "id": "r-i5aIqXpPbu"
   },
   "source": [
    "# Task 2: Data Exploration"
   ]
  },
  {
   "cell_type": "markdown",
   "metadata": {
    "id": "QOY4K_neos9j"
   },
   "source": [
    "## Task 2.1 \n",
    "Explore the players' total points: Please analyze the composition of the total points of the top five players with the most points."
   ]
  },
  {
   "cell_type": "code",
   "execution_count": null,
   "metadata": {
    "id": "ziwtOfWJn-Eh"
   },
   "outputs": [],
   "source": [
    "# Code goes after this line by adding cells\n",
    "sort_by_Tpoints = NBA.sort_values('PTS',\n",
    "                                     ascending=False).head(5)\n",
    "sort_by_Tpoints"
   ]
  },
  {
   "cell_type": "markdown",
   "metadata": {},
   "source": [
    "Chart of the distribution of total points between the top five players with high PTS"
   ]
  },
  {
   "cell_type": "code",
   "execution_count": null,
   "metadata": {},
   "outputs": [],
   "source": [
    "sort_by_Tpoints.plot.pie(y='PTS', figsize=(10, 10))"
   ]
  },
  {
   "cell_type": "code",
   "execution_count": null,
   "metadata": {},
   "outputs": [],
   "source": [
    "sort_by_Tpoints.plot.bar(x='Player',y='PTS', rot=20, figsize=(13, 20))"
   ]
  },
  {
   "cell_type": "markdown",
   "metadata": {
    "id": "0-HLFaWTo7Gr"
   },
   "source": [
    "## Task 2.2 \n",
    "Assuming that the data collector makes an entry error when collecting data, it can be ensured that the error occurred in the 3P, 3PA and 3P% columns, but it is not sure which player's information the error lies on. Please try to explore the error by visualization to identify how many errors there are and try to fix it.\n"
   ]
  },
  {
   "cell_type": "code",
   "execution_count": null,
   "metadata": {
    "id": "k3-8Pbi1n-Ei"
   },
   "outputs": [],
   "source": [
    "# Code goes after this line by adding cells\n",
    "# Load the data from the file NBA_players_stats.csv using pandas library.\n",
    "NBA = pd.read_csv('NBA_players_stats.csv', index_col=0) #prevent index number from affecting result\n",
    "NBAE = NBA[[\"3P\",\"3PA\",\"3P%\"]]\n",
    "NBAE.head()"
   ]
  },
  {
   "cell_type": "code",
   "execution_count": null,
   "metadata": {},
   "outputs": [],
   "source": [
    "NBAE.info()"
   ]
  },
  {
   "cell_type": "code",
   "execution_count": null,
   "metadata": {},
   "outputs": [],
   "source": [
    "NBAE.describe()  ##using describe function we can sense that there are some missing values on 3P% at row count"
   ]
  },
  {
   "cell_type": "code",
   "execution_count": null,
   "metadata": {},
   "outputs": [],
   "source": [
    "sns.heatmap(NBAE.isnull(), cbar=False)"
   ]
  },
  {
   "cell_type": "markdown",
   "metadata": {},
   "source": [
    "The graph above shows that there are some missing values on 3P% column"
   ]
  },
  {
   "cell_type": "markdown",
   "metadata": {},
   "source": [
    "Fix the error by filling nan with zeros"
   ]
  },
  {
   "cell_type": "code",
   "execution_count": null,
   "metadata": {},
   "outputs": [],
   "source": [
    "NBAE['3P%'] = NBAE['3P%'].fillna(0)\n",
    "NBAE"
   ]
  },
  {
   "cell_type": "markdown",
   "metadata": {
    "id": "jnasiwOAo_RP"
   },
   "source": [
    "## Task 2.3 \n",
    "Please analyze the relationship between the player's total points and the rest features (columns). Please use at least three other columns.\n"
   ]
  },
  {
   "cell_type": "code",
   "execution_count": null,
   "metadata": {
    "id": "hHsmCb2gn-Ei"
   },
   "outputs": [],
   "source": [
    "# Code goes after this line by adding cells\n",
    "columns = NBA[['Player','FG','3P','2P','PTS']]\n",
    "columns = columns.head(10)\n",
    "columns.loc[columns['PTS'] > 2000, 'PTS'] = list((columns.loc[columns['PTS'] > 2000].PTS/100).astype(int))\n",
    "columns"
   ]
  },
  {
   "cell_type": "code",
   "execution_count": null,
   "metadata": {},
   "outputs": [],
   "source": [
    "columns.plot.bar()"
   ]
  },
  {
   "cell_type": "code",
   "execution_count": null,
   "metadata": {},
   "outputs": [],
   "source": []
  }
 ],
 "metadata": {
  "colab": {
   "collapsed_sections": [],
   "name": "assignment1_TEMPLATE.ipynb",
   "provenance": [],
   "toc_visible": true
  },
  "kernelspec": {
   "display_name": "Python 3",
   "language": "python",
   "name": "python3"
  },
  "language_info": {
   "codemirror_mode": {
    "name": "ipython",
    "version": 3
   },
   "file_extension": ".py",
   "mimetype": "text/x-python",
   "name": "python",
   "nbconvert_exporter": "python",
   "pygments_lexer": "ipython3",
   "version": "3.6.5"
  }
 },
 "nbformat": 4,
 "nbformat_minor": 1
}
